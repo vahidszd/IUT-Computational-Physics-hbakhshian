{
 "cells": [
  {
   "cell_type": "markdown",
   "id": "0",
   "metadata": {},
   "source": [
    "# Git, Jupyter, and Python"
   ]
  },
  {
   "cell_type": "markdown",
   "id": "1",
   "metadata": {},
   "source": [
    "## Obtain Lecture Notes and Labs\n",
    "\n",
    "Software development, including designing and implementing algorithms in computational physics, is an interactive process.\n",
    "It requires constant writing and refactoring of code.\n",
    "Keeping good track of different versions of software helps us:\n",
    "* understand why the software is implemented in certain ways;\n",
    "* identify when bugs are introduced; and\n",
    "* enable multiple people to collaborate on software projects.\n",
    "\n",
    "[`Git`](https://git-scm.com/) is a version control system originally developed by Linus Torvalds, who is also the creator and lead developer of Linux.\n",
    "\n",
    "[`GitHub`](https://github.com/) is a Software-as-a-Service (SaaS) platform for hosting `git` repositories online."
   ]
  },
  {
   "cell_type": "markdown",
   "id": "2",
   "metadata": {},
   "source": [
    "### Sign up for GitHub accounts\n",
    "\n",
    "Please sign up an account on GitHub: https://github.com/\n",
    "\n",
    "You will use this account to submit your homework assignments and projects throughout the course.\n",
    "\n",
    "Once you have created your account, please add your GitHub username to the following [Google Spreadsheet](https://docs.google.com/spreadsheets/d/15XDjkFgPSS-q2oaLjOSxSchomAg6umhz1l0xLCEXW3c/edit?usp=sharing)."
   ]
  },
  {
   "cell_type": "markdown",
   "id": "3",
   "metadata": {},
   "source": [
    "### Fork the Course Git Repository\n",
    "\n",
    "All the lecture notes and hands-on labs are version controlled in this `git` repository:\n",
    "\n",
    "https://github.com/ua-2025q1-phys305/ua-2025q1-phys305.github.io\n",
    "\n",
    "Please fork it to your own account.\n",
    "You may rename it to a shorter name, e.g., just `phys305`."
   ]
  },
  {
   "cell_type": "markdown",
   "id": "4",
   "metadata": {
    "slideshow": {
     "slide_type": "fragment"
    }
   },
   "source": [
    "### `GitHub` Codespace\n",
    "\n",
    "There are many ways to run the hands-on codes.\n",
    "The standard way is to clone the course `git` repository from `GitHub` to your own computer.\n",
    "However, this requires installing software, setting up a development environment, etc, and may delay our progress.\n",
    "\n",
    "Instead, we will start with `GitHub` Codespace for a uniform development envirnment."
   ]
  },
  {
   "cell_type": "markdown",
   "id": "5",
   "metadata": {},
   "source": [
    "Click the green \"Code\" button in your fork, select the \"Codespace\" Tab, and then click the green \"Create codespace on main\" button.\n",
    "\n",
    "![codespace](figures/codespace1.png)"
   ]
  },
  {
   "cell_type": "markdown",
   "id": "6",
   "metadata": {},
   "source": [
    "This would create a webapp version of Microsoft's VSCode.\n",
    "Navigate to `docs/01/labs.ipynb` in the \"EXPLORER\" on the left, you may now open this Lab notebook in VSCode.\n",
    "\n",
    "![codespace](figures/codespace2.png)"
   ]
  },
  {
   "cell_type": "markdown",
   "id": "7",
   "metadata": {},
   "source": [
    "## Jupyter\n",
    "\n",
    "This lab is written in a [Jupyter Notebook](https://jupyter.org/).\n",
    "It allows (data) scientists to mix codes with documentation and plots, and is very handy in exploring data.\n",
    "It is also very popular in learning code development.\n",
    "\n",
    "Instead of viewing (and running) Jupyter Notebooks in VSCode, it is also possible to run it natively in Jupyter's Integrated Development Environment (IDE) [Jupyter Lab](https://jupyterlab.readthedocs.io/en/latest/).\n",
    "\n",
    "This turns out to be very easy to do with `GitHub`."
   ]
  },
  {
   "cell_type": "markdown",
   "id": "8",
   "metadata": {},
   "source": [
    "As long as you have an existing `GitHub` codespace, you can navigate to \"Code\"->\"Codespaces\"->On current branch\".  Click the \"...\" and then \"Open in Jupyter Lab (Preview)\".\n",
    "\n",
    "![jupyterlab](figures/jupyterlab1.png)"
   ]
  },
  {
   "cell_type": "markdown",
   "id": "9",
   "metadata": {},
   "source": [
    "This will open your codespace in Jupyter Lab.\n",
    "Navigate again to `docs/01/lab.ipynb` on the left, you can now open this lab in Jupyter Lab:\n",
    "\n",
    "![jupyterlab](figures/jupyterlab2.png)"
   ]
  },
  {
   "cell_type": "markdown",
   "id": "10",
   "metadata": {},
   "source": [
    "### Markdown\n",
    "\n",
    "In a Jupyter notebook, there are mainly two types of cells.\n",
    "* By default, cells contain executable \"Code\".\n",
    "  Pressing \"Shift\"+\"Enter\" would run the code.\n",
    "* The cells that display documentation, such as this one, are \"Markdown\" cells.\n",
    "  Pressing \"Shift\"+\"Enter\" would render the documentation.\n",
    "\n",
    "Depending on which the Jupyter Lab Plugins you have, you may use [basic markdown](https://docs.github.com/en/get-started/writing-on-github/getting-started-with-writing-and-formatting-on-github/basic-writing-and-formatting-syntax) to write basic documentations or [MyST](https://myst-parser.readthedocs.io/en/v0.13.3/using/syntax.html) to create fancy scientific paper.\n",
    "\n",
    "Basic markdown syntax includes:\n",
    "```\n",
    "# A first-level heading\n",
    "## A second-level heading\n",
    "### A third-level heading\n",
    "\n",
    "**bold text** or __bold text__\n",
    "*italic* or _italic_\n",
    "\n",
    "> Text that is a quote\n",
    "\n",
    "[A link](URL)\n",
    "![An image](URL)\n",
    "```"
   ]
  },
  {
   "cell_type": "code",
   "execution_count": 1,
   "id": "11",
   "metadata": {},
   "outputs": [],
   "source": [
    "## HANDSON: turn this cell into a markdown cell; write a short introduction about yourself and your research interest."
   ]
  },
  {
   "cell_type": "markdown",
   "id": "12",
   "metadata": {},
   "source": [
    "## Introduction to Python\n",
    "\n",
    "We will use the python programming language in the first half of PHYS 305.\n",
    "This hands-on lab will guide you through essential Python concepts and allow you to execute code cells directly to learn interactively."
   ]
  },
  {
   "cell_type": "markdown",
   "id": "13",
   "metadata": {},
   "source": [
    "## Why Python?\n",
    "\n",
    "+ **Easy to Learn**: Simple, pseudo-code-like syntax makes it beginner-friendly.\n",
    "+ **Widely Used**: Popular in academia, research, and industry.\n",
    "+ **Powerful Libraries**: Extensive libraries for numerical computation (`NumPy`, `SciPy`), data visualization (`Matplotlib`), and more."
   ]
  },
  {
   "cell_type": "markdown",
   "id": "14",
   "metadata": {},
   "source": [
    "## Getting Started\n",
    "Python code can be written and executed interactively in Jupyter notebooks.\n",
    "In fact, the name \"Jupyter\" comes from the three programming langauge Julia, Python, and R.\n",
    "Let's begin with the basics.\n",
    "\n",
    "### 1. Printing Output\n",
    "Use the `print()` function to display output."
   ]
  },
  {
   "cell_type": "code",
   "execution_count": 1,
   "id": "15",
   "metadata": {},
   "outputs": [
    {
     "name": "stdout",
     "output_type": "stream",
     "text": [
      "Hello, world! Welcome to PHYS 305!\n",
      "this is a test\n"
     ]
    }
   ],
   "source": [
    "# Example: Print a message\n",
    "\n",
    "print(\"Hello, world! Welcome to PHYS 305!\")\n",
    "print(\"this is a test\")"
   ]
  },
  {
   "cell_type": "code",
   "execution_count": 3,
   "id": "16",
   "metadata": {},
   "outputs": [
    {
     "name": "stdout",
     "output_type": "stream",
     "text": [
      "Your custom message here!\n"
     ]
    }
   ],
   "source": [
    "# HANDSON: Change the message\n",
    "\n",
    "print(\"Your custom message here!\")"
   ]
  },
  {
   "cell_type": "markdown",
   "id": "17",
   "metadata": {},
   "source": [
    "### 2. Variables and Data Types\n",
    "\n",
    "Python supports various data types such as integers, floats, strings, and booleans."
   ]
  },
  {
   "cell_type": "code",
   "execution_count": 4,
   "id": "18",
   "metadata": {},
   "outputs": [
    {
     "name": "stdout",
     "output_type": "stream",
     "text": [
      "x = 6\n",
      "y = 3.14\n",
      "phys = Physics\n",
      "is_cool = True\n"
     ]
    }
   ],
   "source": [
    "# Example: Variable assignment\n",
    "\n",
    "x       = 6         # Integer\n",
    "y       = 3.14      # Float\n",
    "phys    = \"Physics\" # String\n",
    "is_cool = True      # Boolean\n",
    "\n",
    "print(\"x =\", x)\n",
    "print(\"y =\", y)\n",
    "print(\"phys =\", phys)\n",
    "print(\"is_cool =\", is_cool)"
   ]
  },
  {
   "cell_type": "code",
   "execution_count": 5,
   "id": "19",
   "metadata": {},
   "outputs": [
    {
     "name": "stdout",
     "output_type": "stream",
     "text": [
      "Year: Ellipsis\n",
      "Height: Ellipsis\n",
      "Name: Ellipsis\n",
      "Is student: Ellipsis\n"
     ]
    }
   ],
   "source": [
    "# HANDSON: Define and print variables\n",
    "\n",
    "year       = ...\n",
    "height     = ...\n",
    "name       = ...\n",
    "is_student = ...\n",
    "\n",
    "print(\"Year:\", year)\n",
    "print(\"Height:\", height)\n",
    "print(\"Name:\", name)\n",
    "print(\"Is student:\", is_student)"
   ]
  },
  {
   "cell_type": "markdown",
   "id": "20",
   "metadata": {},
   "source": [
    "### 3. Basic Arithmetic\n",
    "\n",
    "Python can handle basic mathematical operations."
   ]
  },
  {
   "cell_type": "code",
   "execution_count": 6,
   "id": "21",
   "metadata": {},
   "outputs": [
    {
     "name": "stdout",
     "output_type": "stream",
     "text": [
      "Addition: 15\n",
      "Subtraction: 6\n",
      "Multiplication: 90\n",
      "Division: 45.0\n",
      "Power: 2025\n"
     ]
    }
   ],
   "source": [
    "# Examples of arithmetic\n",
    "\n",
    "addition       = 7 + 8\n",
    "subtraction    = 9 - 3\n",
    "multiplication = 15 * 6\n",
    "division       = 90 / 2\n",
    "power          = 45 ** 2\n",
    "\n",
    "print(\"Addition:\",       addition)\n",
    "print(\"Subtraction:\",    subtraction)\n",
    "print(\"Multiplication:\", multiplication)\n",
    "print(\"Division:\",       division)\n",
    "print(\"Power:\",          power)"
   ]
  },
  {
   "cell_type": "code",
   "execution_count": 7,
   "id": "22",
   "metadata": {},
   "outputs": [
    {
     "name": "stdout",
     "output_type": "stream",
     "text": [
      "Addition: Ellipsis\n",
      "Multiplication: Ellipsis\n",
      "Division: Ellipsis\n",
      "Remainder: Ellipsis\n"
     ]
    }
   ],
   "source": [
    "# HANDSON: Arithmetic\n",
    "\n",
    "a = 3\n",
    "b = 6\n",
    "\n",
    "# Calculate and print\n",
    "sum_result = ...\n",
    "pro_result = ...\n",
    "div_result = ...\n",
    "mod_result = ... # Remainder\n",
    "\n",
    "print(\"Addition:\",       sum_result)\n",
    "print(\"Multiplication:\", pro_result)\n",
    "print(\"Division:\",       div_result)\n",
    "print(\"Remainder:\",      mod_result)"
   ]
  },
  {
   "cell_type": "markdown",
   "id": "23",
   "metadata": {},
   "source": [
    "### 4. Lists\n",
    "\n",
    "Lists are ordered collections of items."
   ]
  },
  {
   "cell_type": "code",
   "execution_count": 8,
   "id": "24",
   "metadata": {},
   "outputs": [
    {
     "name": "stdout",
     "output_type": "stream",
     "text": [
      "Original list: [1, 2, 3, 4, 5]\n",
      "First element: 1\n",
      "Last element: 5\n",
      "List after appending: [1, 2, 3, 4, 5, 6]\n",
      "List after removing last element: [1, 2, 3, 4, 5]\n",
      "List after removing 3 : [1, 2, 4, 5]\n"
     ]
    }
   ],
   "source": [
    "# Example: Creating a list\n",
    "numbers = [1, 2, 3, 4, 5]\n",
    "print(\"Original list:\", numbers)\n",
    "\n",
    "# Accessing elements\n",
    "print(\"First element:\", numbers[0])\n",
    "print(\"Last element:\", numbers[-1])\n",
    "\n",
    "# Adding elements\n",
    "numbers.append(6)\n",
    "print(\"List after appending:\", numbers)\n",
    "\n",
    "# Removing last elements\n",
    "numbers.pop()\n",
    "print(\"List after removing last element:\", numbers)\n",
    "\n",
    "# Removing specific elements\n",
    "numbers.remove(a) # note that `a` was defined above\n",
    "print(\"List after removing\", a, \":\", numbers)"
   ]
  },
  {
   "cell_type": "code",
   "execution_count": 9,
   "id": "25",
   "metadata": {},
   "outputs": [
    {
     "name": "stdout",
     "output_type": "stream",
     "text": [
      "Fruits: Ellipsis\n",
      "Fruits: Ellipsis\n",
      "Fruits: Ellipsis\n"
     ]
    }
   ],
   "source": [
    "# HANDSON: create your own list and manipulate it.\n",
    "\n",
    "# Create a list\n",
    "fruits = ...\n",
    "print(\"Fruits:\", fruits)\n",
    "\n",
    "# Add an element to the list\n",
    "...\n",
    "print(\"Fruits:\", fruits)\n",
    "\n",
    "# Remove an item\n",
    "...\n",
    "print(\"Fruits:\", fruits)"
   ]
  },
  {
   "cell_type": "markdown",
   "id": "26",
   "metadata": {},
   "source": [
    "### 5. For Loops\n",
    "\n",
    "Loops allow you to iterate over a sequence of items."
   ]
  },
  {
   "cell_type": "code",
   "execution_count": 10,
   "id": "27",
   "metadata": {},
   "outputs": [
    {
     "name": "stdout",
     "output_type": "stream",
     "text": [
      "Number: 0\n",
      "Number: 1\n",
      "Number: 2\n",
      "Number: 3\n",
      "Number: 4\n",
      "Number: 5\n",
      "Number: 6\n",
      "Number: 7\n",
      "Number: 8\n",
      "Number: 9\n"
     ]
    }
   ],
   "source": [
    "# Example: Loop through a list\n",
    "\n",
    "for number in range(10):\n",
    "    print(\"Number:\", number)"
   ]
  },
  {
   "cell_type": "code",
   "execution_count": 11,
   "id": "28",
   "metadata": {},
   "outputs": [
    {
     "ename": "IndentationError",
     "evalue": "unexpected indent (4047098442.py, line 5)",
     "output_type": "error",
     "traceback": [
      "\u001b[0;36m  Cell \u001b[0;32mIn[11], line 5\u001b[0;36m\u001b[0m\n\u001b[0;31m    print(f\"Square of {i} is {i ** 2}\")\u001b[0m\n\u001b[0m    ^\u001b[0m\n\u001b[0;31mIndentationError\u001b[0m\u001b[0;31m:\u001b[0m unexpected indent\n"
     ]
    }
   ],
   "source": [
    "### HANDSON: Write a loop to print squares of numbers.\n",
    "\n",
    "# Your turn: Print squares\n",
    "...\n",
    "    print(f\"Square of {i} is {i ** 2}\")"
   ]
  },
  {
   "cell_type": "markdown",
   "id": "29",
   "metadata": {},
   "source": [
    "### 6. Functions\n",
    "\n",
    "Functions allow you to reuse code."
   ]
  },
  {
   "cell_type": "code",
   "execution_count": null,
   "id": "30",
   "metadata": {},
   "outputs": [],
   "source": [
    "# Example: Define a function\n",
    "def greet(name):\n",
    "    return f\"Hello, {name}! Welcome to PHYS 305!\"\n",
    "\n",
    "# Call the function\n",
    "message = greet(name)\n",
    "print(message)"
   ]
  },
  {
   "cell_type": "code",
   "execution_count": null,
   "id": "31",
   "metadata": {},
   "outputs": [],
   "source": [
    "# HANDSON: Function to calculate circle area\n",
    "\n",
    "def circle_area(radius):\n",
    "    ...\n",
    "\n",
    "# Test the function\n",
    "area = circle_area(5)\n",
    "print(\"Area of circle with radius 5:\", area)"
   ]
  },
  {
   "cell_type": "markdown",
   "id": "32",
   "metadata": {},
   "source": [
    "### 7. NumPy: Numerical Computing\n",
    "\n",
    "Python's power comes from its libraries.\n",
    "For scientific computing, `numpy` and `matplotlib` are probably the two most important libraries.\n",
    "Let's explore their capabilities.\n",
    "\n",
    "NumPy provides support for large multi-dimensional arrays and matrices, along with mathematical functions to operate on them."
   ]
  },
  {
   "cell_type": "code",
   "execution_count": null,
   "id": "33",
   "metadata": {},
   "outputs": [],
   "source": [
    "# Example: Using NumPy\n",
    "import numpy as np\n",
    "\n",
    "# Create an array\n",
    "array = np.array([1, 2, 3, 4, 5])\n",
    "print(\"Array:\", array)\n",
    "\n",
    "# Perform operations\n",
    "squared = array ** 2\n",
    "print(\"Squared Array:\", squared)\n",
    "\n",
    "# Generate a range of numbers\n",
    "linspace = np.linspace(0, 10, 11)\n",
    "print(\"Linspace:\", linspace)"
   ]
  },
  {
   "cell_type": "markdown",
   "id": "34",
   "metadata": {},
   "source": [
    "NumPy's core functions are written in C (see, e.g., [here](https://github.com/numpy/numpy/tree/1d45e65180954e78012d25bfb11dba36afef5df9/numpy/_core/src)).\n",
    "Using NumPy for large arrays is much faster than for loop in python."
   ]
  },
  {
   "cell_type": "code",
   "execution_count": null,
   "id": "35",
   "metadata": {},
   "outputs": [],
   "source": [
    "array = np.arange(1000)"
   ]
  },
  {
   "cell_type": "code",
   "execution_count": null,
   "id": "36",
   "metadata": {},
   "outputs": [],
   "source": [
    "%%time\n",
    "\n",
    "squared = []\n",
    "for a in array:\n",
    "    squared.append(a*a)"
   ]
  },
  {
   "cell_type": "code",
   "execution_count": null,
   "id": "37",
   "metadata": {},
   "outputs": [],
   "source": [
    "%%time\n",
    "\n",
    "squared = array * array"
   ]
  },
  {
   "cell_type": "code",
   "execution_count": null,
   "id": "38",
   "metadata": {},
   "outputs": [],
   "source": [
    "# HANDSON: NumPy calculations\n",
    "\n",
    "# Create an array of numbers from 1 to 10\n",
    "numbers = ...\n",
    "\n",
    "# Calculate their squares and square roots\n",
    "squares = ...\n",
    "roots   = ...\n",
    "\n",
    "print(\"Numbers:\", numbers)\n",
    "print(\"Squares:\", squares)\n",
    "print(\"Square Roots:\", roots)"
   ]
  },
  {
   "cell_type": "markdown",
   "id": "39",
   "metadata": {},
   "source": [
    "### 8. Matplotlib: Data Visualization\n",
    "\n",
    "Matplotlib is a plotting library for creating static, animated, and interactive visualizations."
   ]
  },
  {
   "cell_type": "code",
   "execution_count": null,
   "id": "40",
   "metadata": {},
   "outputs": [],
   "source": [
    "# Example: Plotting with Matplotlib\n",
    "import matplotlib.pyplot as plt\n",
    "\n",
    "# Create data with NumPy\n",
    "x = np.linspace(0, 10, 100)\n",
    "y = np.sin(x)\n",
    "\n",
    "# Create a plot with Matplotlib\n",
    "plt.plot(x, y, label='sin(x)')\n",
    "plt.title(\"Sine Wave\")\n",
    "plt.xlabel(\"x\")\n",
    "plt.ylabel(\"sin(x)\")\n",
    "plt.legend()\n",
    "plt.grid()\n",
    "\n",
    "# Show and save figure\n",
    "plt.show() # optional in jupyter notebook\n",
    "plt.savefig('sin.pdf')"
   ]
  },
  {
   "cell_type": "code",
   "execution_count": null,
   "id": "41",
   "metadata": {},
   "outputs": [],
   "source": [
    "# HANDSON: Create a plot\n",
    "\n",
    "# Let's try to plot two curves in a single plot\n",
    "x  = np.linspace(0, 2 * np.pi, 100)\n",
    "y1 = np.sin(x)\n",
    "y2 = np.cos(x)\n",
    "\n",
    "# Plot both sine and cosine\n",
    "...\n",
    "...\n",
    "\n",
    "# Customize the plot\n",
    "...\n",
    "\n",
    "# Show and save figure\n",
    "..."
   ]
  },
  {
   "cell_type": "markdown",
   "id": "42",
   "metadata": {},
   "source": [
    "## Summary\n",
    "\n",
    "In this lab, you learned:\n",
    "\n",
    "+ The basic of Git and GitHub\n",
    "+ The basic of Jupyter Notebook and Jupyter Lab\n",
    "+ The basic of Python:\n",
    "  + How to print output\n",
    "  + Variables and data types\n",
    "  + Basic arithmetic operations\n",
    "  + Working with lists\n",
    "  + Using loops\n",
    "  + Writing functions\n",
    "  + Introduction to NumPy for numerical computations\n",
    "  + Introduction to Matplotlib for data visualization"
   ]
  }
 ],
 "metadata": {
  "kernelspec": {
   "display_name": "Python 3",
   "language": "python",
   "name": "python3"
  },
  "language_info": {
   "codemirror_mode": {
    "name": "ipython",
    "version": 3
   },
   "file_extension": ".py",
   "mimetype": "text/x-python",
   "name": "python",
   "nbconvert_exporter": "python",
   "pygments_lexer": "ipython3",
   "version": "3.9.21"
  }
 },
 "nbformat": 4,
 "nbformat_minor": 5
}
