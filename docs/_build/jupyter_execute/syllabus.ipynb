{
 "cells": [
  {
   "cell_type": "markdown",
   "id": "714d6203",
   "metadata": {},
   "source": [
    "# Syllabus"
   ]
  },
  {
   "cell_type": "markdown",
   "id": "56ec9fce",
   "metadata": {},
   "source": [
    "**Course Number & Title:** PHYS 305—001 Computational Physics  \n",
    "**Course Website:** https://ua-2025q1-phys305.github.io\n",
    "\n",
    "**Semester and Year:** Spring 2025  \n",
    "**Time:** Tuesday & Thursday 12:30–1:45pm  \n",
    "**Location:** Social Sciences, Room 206"
   ]
  },
  {
   "cell_type": "markdown",
   "id": "f7eb28e8",
   "metadata": {},
   "source": [
    "## Description of Course\n",
    "\n",
    "Modern science relies heavily on computational methods and data analysis, in addition to empirical evidence and scientific theory.\n",
    "PHYS 305 offers a comprehensive introduction to the essential skills needed for computation- and data-driven physics.\n",
    "This course covers a range of computational and numerical methods, including integration of Ordinary Differential Equations (ODEs) and Partial Differential Equations (PDEs), equipping students with the tools necessary to solve complex problems in upper level physics.\n",
    "In addition, students will learn modern statistical methods and apply these techniques to physical research.\n",
    "The curriculum is designed to bridge theoretical concepts with practical applications.\n",
    "Through a combination of lectures, hands-on exercises, and projects, students will develop a robust understanding of the essential tools and techniques required for modern astrophysical research."
   ]
  },
  {
   "cell_type": "markdown",
   "id": "882bfa39",
   "metadata": {},
   "source": [
    "### Course Prerequisites or Co-requisites\n",
    "\n",
    "(PHYS 105A or ECE 175) and (PHYS 142 or 143 or 162H) and (PHYS 240 or 241 or 261H).\n",
    "Prerequisite or concurrent registration in MATH 254 (Intro to ODE) or MATH 355 (Analysis of ODE).\n",
    "\n",
    "This course is a prerequisite for the following courses: PHYS 332, PHYS 426, PHYS 472."
   ]
  },
  {
   "cell_type": "markdown",
   "id": "d177e435",
   "metadata": {},
   "source": [
    "### Instructor and Contact Information\n",
    "\n",
    "**Instructor:** Chi-kwan Chan  \n",
    "**Email:** chanc@arizona.edu (please include \"PHYS305\" in subjects of emails)  \n",
    "**Office:** Steward Observatory N332  \n",
    "**Office Hours:** Monday 1--2pm, Wednesday 11am--noon (Steward Observatory N332), or by appointment\n",
    "\n",
    "**Teaching Assistant:** Devendran Vemula  \n",
    "**Email:** devendranvemula@arizona.edu (please include \"PHYS305\" in subjects of emails)\n",
    "\n",
    "**Preceptor:** Nikhil Garuda  \n",
    "**Email:** nikhilgaruda@arizona.edu (please include \"PHYS305\" in subjects of emails)"
   ]
  },
  {
   "cell_type": "markdown",
   "id": "9cf894ad",
   "metadata": {},
   "source": [
    "### Course Format and Teaching Methods\n",
    "\n",
    "This course is scheduled to be taught in-person.\n",
    "We will meet every Tuesday and Thursday from 12:30pm to 1:45pm at [Saguaro Hall, Room 114](https://map.arizona.edu/33/0114).\n",
    "\n",
    "Each session will include about 45 minutes of lecture and 30 minutes of hands-on labs.\n",
    "You are required to complete your homework assignments and projects on time."
   ]
  },
  {
   "cell_type": "markdown",
   "id": "559ad0c7",
   "metadata": {},
   "source": [
    "### Course Objectives\n",
    "\n",
    "The goal of this course is to get students ready for modern computation- and data-driven physics.\n",
    "In order to do so, we will expose the the students to multiple development tools and software development best practices.\n",
    "We will introduce the basic of the `python` and `C` programming languages, and provide hands-on on data analysis and numerical problems.\n",
    "We will also introduce basic data analysis methods and numerical analysis.\n",
    "After taking this course, students should be able to solve simple physics problems numerically, create plots to visualize their results, and document their work and communicate with other physicists.\n",
    "See \"Expected Learning Outcomes\" below."
   ]
  },
  {
   "cell_type": "markdown",
   "id": "f459bac4",
   "metadata": {},
   "source": [
    "### Expected Learning Outcomes\n",
    "\n",
    "Upon completion of this course, students should be able to:\n",
    "* understand the nature and application of computation methods in physical science;\n",
    "* use popular development tools (shell, `git`, `JupyterLab`, etc);\n",
    "* use good software development practices (version control, documentation, and automation);\n",
    "* use computational thinking to break down complex (physics) problems into smaller pieces;\n",
    "* solve these problems by writing programs in the `python` and `C` programming languages;\n",
    "* speak and write about scientific knowledge;\n",
    "* appreciate computation complexity and have a basic awareness of numerical errors;\n",
    "* use data analysis and numerical methods properly, and be aware of their common pitfalls;\n",
    "* critically analyze and interpret data and results presented in tables, graphs and charts as well as perform appropriate computations;\n",
    "* read and understand scientific literature from popular sources such as magazines and newspapers;\n",
    "* aware of a wide range of science use cases, and develop the skill to self-learn computation tools and methods."
   ]
  },
  {
   "cell_type": "markdown",
   "id": "9852b75a",
   "metadata": {},
   "source": [
    "## Policies of Course"
   ]
  },
  {
   "cell_type": "markdown",
   "id": "86aea676",
   "metadata": {},
   "source": [
    "### Absence and Class Participation Policy\n",
    "\n",
    "The UA's policy concerning Class Attendance and Participation is available at: https://catalog.arizona.edu/policy/courses-credit/courses/class-attendance-participation.\n",
    "\n",
    "The UA policy regarding absences for any sincerely held religious belief, observance or practice will be accommodated where reasonable, http://policy.arizona.edu/human-resources/religious-accommodation-policy.\n",
    "\n",
    "Absences pre-approved by the UA Dean of Students (or Dean Designee) will be honored.\n",
    "See: https://deanofstudents.arizona.edu/policies/attendance-policies-and-practices\n",
    "\n",
    "Participating in the course and attending lectures and other course events are vital to the learning process.\n",
    "As such, attendance is required at all lectures and discussion section meetings.\n",
    "Absences may affect a student's final course grade.\n",
    "If you anticipate being absent, are unexpectedly absent, or are unable to participate in class online activities, please contact me as soon as possible.\n",
    "To request a disability-related accommodation to this attendance policy, please contact the Disability Resource Center at (520) 621-3268 or disability@arizona.edu.\n",
    "If you are experiencing unexpected barriers to your success in your courses, the Dean of Students Office is a central support resource for all students and may be helpful.\n",
    "The Dean of Students Office is located in the Robert L. Nugent Building, room 100, or call 520-621-7057."
   ]
  },
  {
   "cell_type": "markdown",
   "id": "806ba07c",
   "metadata": {},
   "source": [
    "### Makeup Policy for Students Who Register Late\n",
    "\n",
    "Statement on whether students who register after the first class meeting may make up missed assignments/quizzes and the deadline for doing so."
   ]
  },
  {
   "cell_type": "markdown",
   "id": "206a752c",
   "metadata": {},
   "source": [
    "### Course Communications\n",
    "\n",
    "Email is the official method to communicate with the instructor and teaching assistant outside scheduled classes and office hours."
   ]
  },
  {
   "cell_type": "markdown",
   "id": "f8137286",
   "metadata": {},
   "source": [
    "## Course Materials"
   ]
  },
  {
   "cell_type": "markdown",
   "id": "3fdd5974",
   "metadata": {},
   "source": [
    "### Required Texts or Readings\n",
    "\n",
    "There is no required text.\n",
    "\n",
    "The main reference is:\n",
    "* Numerical Recipes, 2nd Edition in C or 3rd Edition in C++, by William H. Press, Saul A. Teukolsky, William T. Vetterling, & Brian P. Flannery; online versions: https://numerical.recipes\n",
    "\n",
    "Additional references will be listed in the lecture notes."
   ]
  },
  {
   "cell_type": "markdown",
   "id": "c1437d76",
   "metadata": {},
   "source": [
    "### Required or Special Materials\n",
    "\n",
    "As a course on computational physics, students are excepted to have access to computers.\n",
    "Although not required, students will be encouraged to install popular development tools such as `git`, `python`, and `JupyterLab` to their computers."
   ]
  },
  {
   "cell_type": "markdown",
   "id": "609d375b",
   "metadata": {},
   "source": [
    "### Required Extracurricular Activities\n",
    "\n",
    "The instructor will provide students additional online videos to broaden the students' knowledge on computational physics.\n",
    "When bundled with assignments, students are required to watch them.\n",
    "When provided as references, the videos are optional.\n",
    "\n",
    "Near the end of the semester, students are encouraged to join a field trip to UA's Computer Center and see our supercomputers."
   ]
  },
  {
   "cell_type": "markdown",
   "id": "7af7ccbc",
   "metadata": {},
   "source": [
    "## Assignments and Examinations"
   ]
  },
  {
   "cell_type": "markdown",
   "id": "1302c543",
   "metadata": {},
   "source": [
    "### Schedule/Due Dates\n",
    "\n",
    "The course includes 6 homework assignments and 2 group projects.\n",
    "There are no quizzes or exams.\n",
    "\n",
    "**Homework Assignments:**\n",
    "Assignments will be given approximately every two weeks (see schedule below).\n",
    "Students should begin working on them during the hands-on labs and submit them within one week of the assignment date.\n",
    "\n",
    "**Group Projects:**\n",
    "Projects will be completed in teams of approximately four students.\n",
    "All project materials must be submitted within one week after the corresponding project presentations."
   ]
  },
  {
   "cell_type": "markdown",
   "id": "b89565b6",
   "metadata": {},
   "source": [
    "### Writing Requirement\n",
    "\n",
    "Although this is not a writing intensive course, good documentation is essential in communicating science and developing software.\n",
    "Students are required to provide enough written explanations in their assignments."
   ]
  },
  {
   "cell_type": "markdown",
   "id": "db0d9583",
   "metadata": {},
   "source": [
    "### Final Examination or Project\n",
    "\n",
    "There will be no final exam.\n",
    "Instead, students will need to finish two group projects.\n",
    "\n",
    "The project presentations are scheduled in the weeks of March 2nd and April 27th.\n",
    "All project materials must be submitted within one week after the corresponding project presentations."
   ]
  },
  {
   "cell_type": "markdown",
   "id": "2b37aee6",
   "metadata": {},
   "source": [
    "## Grading Scale and Policies\n",
    "\n",
    "The course includes 6 homework assignments and 2 group projects.\n",
    "Each homework assignment worth 10 points and each project worth 20 points, sum up to 100 points total.\n",
    "Students are expected to submit their assignments and projects by the specified deadlines.\n",
    "\n",
    "This course provides regular letter grades (A–E), which are based on a simple point system:\n",
    "* A: 80–100  points\n",
    "* B: 70–79.9 points\n",
    "* C: 60–69.9 points\n",
    "* D: 50–59.9 points\n",
    "* E:  0–49.9 points\n",
    "\n",
    "No scaling will be applied.\n",
    "\n",
    "**Incomplete (I) or Withdrawal (W):**\n",
    "Requests for incomplete (I) or withdrawal (W) must be made in accordance with University policy, which is available at https://catalog.arizona.edu/policy/courses-credit/grading/grading-system.\n",
    "\n",
    "**Dispute of Grade Policy:**\n",
    "If a student disagrees on his or her grade on a homework assignment or a project, the student must send the instructor a formal request through email to re-evaluate the grade within a week from the time that the student receives the grade.\n",
    "Because no scaling will be applied in the final grade, the final grade cannot be re-evaluated.\n",
    "The student is expected to know his or her own performance throughout the course."
   ]
  },
  {
   "cell_type": "markdown",
   "id": "672612b3",
   "metadata": {},
   "source": [
    "## Scheduled Topics/Activities\n",
    "\n",
    "#  | Week | Tuesday | Thursday\n",
    "--- | --- | --- | ---\n",
    "1  | Jan 12–Jan 18 |                                                                 | {doc}`01/notes` ({doc}`lab <01/lab>`)\n",
    "2  | Jan 19–Jan 25 | {doc}`02/notes` ({doc}`lab <02/lab>`)                           | {doc}`03/notes` ({doc}`lab <03/lab>`, {doc}`sol <03/sol>`)\n",
    "3  | Jan 26–Feb  1 | {doc}`04/notes` ({doc}`lab <04/lab>`)                           | Guest lecture: {doc}`05/notes` ([homework 1](https://classroom.github.com/a/pF35huEj))\n",
    "4  | Feb  2–Feb  8 | {doc}`06/notes` ({doc}`lab <06/lab>`)                           | {doc}`07/notes`\n",
    "5  | Feb  9–Feb 15 | {doc}`08/notes`                                                 | Root finding (homework)\n",
    "6  | Feb 16–Feb 22 | Optimization                                                    | Data modeling I\n",
    "7  | Feb 24–Mar  1 | Data modeling II                                                | Selected techniques in machine learning (homework)\n",
    "8  | Mar  2–Mar  8 | Project I presentations                                         | Project I presentations\n",
    "9  | Mar  9–Mar 15 | **Spring recess (no class)**                                    | **Spring recess (no class)**\n",
    "10 | Mar 16–Mar 22 | The C programming language                                      | ODE integrators I: explicit methods\n",
    "11 | Mar 24–Mar 29 | ODE integrators II: implicit and symplectic methods             | ODE integrators III: boundary value problems (homework)\n",
    "12 | Mar 30–Apr  5 | Monte Carlo methods I: random numbers and random walk           | Monte Carlo methods II: Ising model\n",
    "13 | Apr  6–Apr 12 | Monte Carlo methods III: Hopfield network and Boltzmann machine | Parallel computing (homework)\n",
    "14 | Apr 13–Apr 19 | Numerical PDEs I: properties of PDEs                            | Numerical PDEs II: finite difference and spectral methods\n",
    "15 | Apr 20–Apr 26 | Numerical PDEs III: finite volume methods                       | Numerical PDEs IV: finite element methods (homework)\n",
    "16 | Apr 27–May  3 | Project II presentations                                        | Project II presentations\n",
    "17 | May  4–May 10 | Visiting UA HPC                                                 | **Reading Day (no class)**"
   ]
  },
  {
   "cell_type": "markdown",
   "id": "83aa9672",
   "metadata": {},
   "source": [
    "## Biography\n",
    "\n",
    "Prof. Chi-kwan \"CK\" Chan is a computational astrophysicist working with cutting edge technologies to advance both theoretical and observational research.\n",
    "He has developed new algorithms to study magnetohydrodynamic turbulence, used graphics processing units (GPUs) to accelerate general relativistic ray tracing, designed cloud computing infrastructures to handle big observational data, and applied machine learning algorithms to speed up and automate data processing.\n",
    "Some of CK's active projects include simulating and understanding accretion disks, capturing images of black holes, and visualizing astrophysical simulations in virtual reality.\n",
    "A true wildcat, CK received his bachelors and doctoral degrees from the University of Arizona."
   ]
  },
  {
   "cell_type": "markdown",
   "id": "07e0f4c8",
   "metadata": {},
   "source": [
    "## Code of Conduct"
   ]
  },
  {
   "cell_type": "markdown",
   "id": "7053d96e",
   "metadata": {},
   "source": [
    "### Classroom Behavior Policy\n",
    "\n",
    "To foster a positive learning environment, students and instructors have a shared responsibility.\n",
    "We want a safe, welcoming, and inclusive environment where all of us feel comfortable with each other and where we can challenge ourselves to succeed.\n",
    "To that end, our focus is on the tasks at hand and not on extraneous activities (e.g., texting, chatting, reading a newspaper, making phone calls, web surfing, etc.)."
   ]
  },
  {
   "cell_type": "markdown",
   "id": "b6a67530",
   "metadata": {},
   "source": [
    "### Threatening Behavior Policy\n",
    "\n",
    "The UA Threatening Behavior by Students Policy prohibits threats of physical harm to any member of the University community, including to oneself. See http://policy.arizona.edu/education-and-student-affairs/threatening-behavior-students."
   ]
  },
  {
   "cell_type": "markdown",
   "id": "dc7fe3ca",
   "metadata": {},
   "source": [
    "### Accessibility and Accommodations\n",
    "\n",
    "Recommended language is provided on the Disability Resource Center website: http://drc.arizona.edu/instructors/syllabus-statement."
   ]
  },
  {
   "cell_type": "markdown",
   "id": "c229993b",
   "metadata": {},
   "source": [
    "### Code of Academic Integrity\n",
    "\n",
    "Students are encouraged to share intellectual views and discuss freely the principles and applications of course materials.\n",
    "However, graded work/exercises must be the product of independent effort unless otherwise instructed.\n",
    "Students are expected to adhere to the UA Code of Academic Integrity as described in the UA General Catalog. See:  https://deanofstudents.arizona.edu/student-rights-responsibilities/academic-integrity.\n",
    "\n",
    "The University Libraries have some excellent tips for avoiding plagiarism, available at https://lib.arizona.edu/research/citing/plagiarism.\n",
    "\n",
    "Selling class notes and/or other course materials to other students or to a third party for resale is not permitted without the instructor's express written consent.\n",
    "Violations to this and other course rules are subject to the Code of Academic Integrity and may result in course sanctions.\n",
    "Additionally, students who use D2L or UA e-mail to sell or buy these copyrighted materials are subject to Code of Conduct Violations for misuse of student e-mail addresses.\n",
    "This conduct may also constitute copyright infringement."
   ]
  },
  {
   "cell_type": "markdown",
   "id": "c682d3fd",
   "metadata": {},
   "source": [
    "### Nondiscrimination and Anti-harassment Policy\n",
    "\n",
    "The University of Arizona is committed to creating and maintaining an environment free of discrimination.\n",
    "In support of this commitment, the University prohibits discrimination, including harassment and retaliation, based on a protected classification, including race, color, religion, sex (including pregnancy), national origin, age, disability, veteran status, sexual orientation, gender identity, or genetic information.\n",
    "For more information, including how to report a concern, please see https://policy.arizona.edu/employment-human-resources/nondiscrimination-and-anti-harassment-policy\n",
    "\n",
    "Our classroom is a place where everyone is encouraged to express well-formed opinions and their reasons for those opinions.\n",
    "We also want to create a tolerant and open environment where such opinions can be expressed without resorting to bullying or discrimination of others."
   ]
  },
  {
   "cell_type": "markdown",
   "id": "7975c5ea",
   "metadata": {},
   "source": [
    "### Usage of Generative AI\n",
    "\n",
    "Homework and projects in this course are designed to help students apply class concepts, test their learning, and develop software development and science communication skills.\n",
    "Generative AI tools, such as ChatGPT, Google Gemini, and GitHub Co-Pilot, can be useful for brainstorming and debugging.\n",
    "However, students must write their own code, take full responsibility for their work, and demonstrate a clear understanding of the concepts.\n",
    "\n",
    "While AI tools can assist learning, they may produce inaccurate or biased outputs.\n",
    "Students are responsible for verifying facts and critically assessing all submitted material.\n",
    "Any use of generative AI must be acknowledged or cited (see [guidelines from UA library](https://libguides.library.arizona.edu/students-chatgpt/citing)).\n",
    "Failure to disclose such use or to write original code will be considered a violation of academic integrity.\n",
    "\n",
    "For questions, contact your instructor."
   ]
  },
  {
   "cell_type": "markdown",
   "id": "2cda6d77",
   "metadata": {},
   "source": [
    "## Additional Resources for Students\n",
    "\n",
    "UA Academic policies and procedures are available at http://catalog.arizona.edu/policies\n",
    "\n",
    "### Campus Health\n",
    "\n",
    "http://www.health.arizona.edu/  \n",
    "Campus Health provides quality medical and mental health care services through virtual and in-person care.  \n",
    "Phone: 520-621-9202\n",
    "\n",
    "### Counseling and Psych Services (CAPS)\n",
    "\n",
    "https://health.arizona.edu/counseling-psych-services  \n",
    "CAPS provides mental health care, including short-term counseling services.  \n",
    "Phone: 520-621-3334\n",
    "\n",
    "### The Dean of Students Office's Student Assistance Program\n",
    "\n",
    "https://deanofstudents.arizona.edu/support/student-assistance  \n",
    "Student Assistance helps students manage crises, life traumas, and other barriers that impede success.\n",
    "The staff addresses the needs of students who experience issues related to social adjustment, academic challenges, psychological health, physical health, victimization, and relationship issues, through a variety of interventions, referrals, and follow up services.  \n",
    "Email: DOS-deanofstudents@arizona.edu  \n",
    "Phone: 520-621-7057\n",
    "\n",
    "### Survivor Advocacy Program\n",
    "\n",
    "https://survivoradvocacy.arizona.edu/  \n",
    "The Survivor Advocacy Program provides confidential support and advocacy services to student survivors of sexual and gender-based violence.\n",
    "The Program can also advise students about relevant non-UA resources available within the local community for support.  \n",
    "Email: survivoradvocacy@arizona.edu  \n",
    "Phone: 520-621-5767"
   ]
  },
  {
   "cell_type": "markdown",
   "id": "e9332069",
   "metadata": {},
   "source": [
    "## Safety on Campus and in the Classroom\n",
    "\n",
    "For a list of emergency procedures for all types of incidents, please visit the website of the Critical Incident Response Team (CIRT): https://cirt.arizona.edu/case-emergency/overview\n",
    "\n",
    "Also watch the video available at https://arizona.sabacloud.com/Saba/Web_spf/NA7P1PRD161/common/learningeventdetail/crtfy000000000003560"
   ]
  },
  {
   "cell_type": "markdown",
   "id": "3997dff7",
   "metadata": {},
   "source": [
    "## Confidentiality of Student Records\n",
    "\n",
    "http://www.registrar.arizona.edu/ferpa"
   ]
  },
  {
   "cell_type": "markdown",
   "id": "3b0e7a0c",
   "metadata": {},
   "source": [
    "## Subject to Change Statement\n",
    "\n",
    "Information contained in the course syllabus, other than the grade and absence policy, may be subject to change with advance notice, as deemed appropriate by the instructor."
   ]
  }
 ],
 "metadata": {
  "jupytext": {
   "formats": "ipynb,md:myst",
   "text_representation": {
    "extension": ".md",
    "format_name": "myst",
    "format_version": 0.13,
    "jupytext_version": "1.16.6"
   }
  },
  "kernelspec": {
   "display_name": "Python 3 (ipykernel)",
   "language": "python",
   "name": "python3"
  },
  "language_info": {
   "codemirror_mode": {
    "name": "ipython",
    "version": 3
   },
   "file_extension": ".py",
   "mimetype": "text/x-python",
   "name": "python",
   "nbconvert_exporter": "python",
   "pygments_lexer": "ipython3",
   "version": "3.13.1"
  },
  "source_map": [
   13,
   17,
   26,
   37,
   46,
   61,
   71,
   82,
   99,
   103,
   122,
   128,
   134,
   138,
   149,
   156,
   166,
   170,
   185,
   192,
   202,
   227,
   251,
   260,
   264,
   272,
   278,
   284,
   299,
   310,
   325,
   359,
   367,
   373
  ]
 },
 "nbformat": 4,
 "nbformat_minor": 5
}