{
 "cells": [
  {
   "cell_type": "markdown",
   "id": "886a7a05",
   "metadata": {},
   "source": [
    "# PHYS 305"
   ]
  },
  {
   "cell_type": "markdown",
   "id": "d29c9e8b",
   "metadata": {},
   "source": [
    "**Course Number & Title:** PHYS 305—001 Computational Physics  \n",
    "**Course Website:** https://ua-2025q1-phys305.github.io\n",
    "\n",
    "**Full Syllabus:** {doc}`syllabus`\n",
    "\n",
    "**Time:** Tuesday & Thursday 12:30--1:45pm  \n",
    "**Location:** Social Sciences, Room 206\n",
    "\n",
    "**Instructor:** Chi-kwan \"CK\" Chan <chanc@arizona.edu> Office hour: Mon 1-2pm, Wed 11am–noon (SO N332)  \n",
    "**Teaching Assistant:** Devendran \"Deva\" Vemula <devendranvemula@arizona.edu> Consultation hour: Wed 12 - 1pm (PAS 372)\n",
    "**Preceptor:** Nikhil Garuda <nikhilgaruda@arizona.edu>  \n",
    "Please include \"PHYS305\" in subjects of emails"
   ]
  },
  {
   "cell_type": "markdown",
   "id": "a3a9d213",
   "metadata": {},
   "source": [
    "#  | Week | Tuesday | Thursday\n",
    "--- | --- | --- | ---\n",
    "1  | Jan 12–Jan 18 |                                                                 | {doc}`01/notes` ({doc}`lab <01/lab>`)\n",
    "2  | Jan 19–Jan 25 | {doc}`02/notes` ({doc}`lab <02/lab>`)                           | {doc}`03/notes` ({doc}`lab <03/lab>`, {doc}`sol <03/sol>`)\n",
    "3  | Jan 26–Feb  1 | {doc}`04/notes` ({doc}`lab <04/lab>`)                           | Guest lecture: {doc}`05/notes` ([homework 1](https://classroom.github.com/a/pF35huEj))\n",
    "4  | Feb  2–Feb  8 | {doc}`06/notes` ({doc}`lab <06/lab>`)                           | {doc}`07/notes`\n",
    "5  | Feb  9–Feb 15 | {doc}`08/notes`                                                 | Root finding (homework)\n",
    "6  | Feb 16–Feb 22 | Optimization                                                    | Data modeling I\n",
    "7  | Feb 24–Mar  1 | Data modeling II                                                | Selected techniques in machine learning (homework)\n",
    "8  | Mar  2–Mar  8 | Project I presentations                                         | Project I presentations\n",
    "9  | Mar  9–Mar 15 | **Spring recess (no class)**                                    | **Spring recess (no class)**\n",
    "10 | Mar 16–Mar 22 | The C programming language                                      | ODE integrators I: explicit methods\n",
    "11 | Mar 24–Mar 29 | ODE integrators II: implicit and symplectic methods             | ODE integrators III: boundary value problems (homework)\n",
    "12 | Mar 30–Apr  5 | Monte Carlo methods I: random numbers and random walk           | Monte Carlo methods II: Ising model\n",
    "13 | Apr  6–Apr 12 | Monte Carlo methods III: Hopfield network and Boltzmann machine | Parallel computing (homework)\n",
    "14 | Apr 13–Apr 19 | Numerical PDEs I: properties of PDEs                            | Numerical PDEs II: finite difference and spectral methods\n",
    "15 | Apr 20–Apr 26 | Numerical PDEs III: finite volume methods                       | Numerical PDEs IV: finite element methods (homework)\n",
    "16 | Apr 27–May  3 | Project II presentations                                        | Project II presentations\n",
    "17 | May  4–May 10 | Visiting UA HPC                                                 | **Reading Day (no class)**"
   ]
  },
  {
   "cell_type": "markdown",
   "id": "6f1f7699",
   "metadata": {},
   "source": [
    "```{tableofcontents}\n",
    "```"
   ]
  }
 ],
 "metadata": {
  "jupytext": {
   "formats": "ipynb,md:myst",
   "text_representation": {
    "extension": ".md",
    "format_name": "myst",
    "format_version": 0.13,
    "jupytext_version": "1.16.6"
   }
  },
  "kernelspec": {
   "display_name": "Python 3 (ipykernel)",
   "language": "python",
   "name": "python3"
  },
  "language_info": {
   "codemirror_mode": {
    "name": "ipython",
    "version": 3
   },
   "file_extension": ".py",
   "mimetype": "text/x-python",
   "name": "python",
   "nbconvert_exporter": "python",
   "pygments_lexer": "ipython3",
   "version": "3.13.1"
  },
  "source_map": [
   13,
   17,
   32,
   54
  ]
 },
 "nbformat": 4,
 "nbformat_minor": 5
}