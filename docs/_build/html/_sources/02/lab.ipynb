{
 "cells": [
  {
   "cell_type": "markdown",
   "id": "0",
   "metadata": {},
   "source": [
    "# Errors"
   ]
  },
  {
   "cell_type": "markdown",
   "id": "1",
   "metadata": {},
   "source": [
    "## Machine Accuracy\n",
    "\n",
    "In order to quantify round-off errors, we define:\n",
    "\\begin{align}\n",
    "\\text{(relative error)} \\equiv \\frac{x - \\bar{x}}{x}.\n",
    "\\end{align}\n",
    "\n",
    "If we use a numeral system of base $b$ and keep $p$ significant digits, the machine accuracy is\n",
    "\\begin{align}\n",
    "\\epsilon = \\left(\\frac{b}{2}\\right) b^{-p}.\n",
    "\\end{align}\n",
    "\n",
    "A single-precision floating-point number, which stores 23 significant digits in binary (the mantissa), provides a machine accuracy of approximately $\\epsilon_\\mathrm{single} = 2^{-23} \\approx 10^{-7}$ in decimal.\n",
    "In contrast, a double-precision floating-point number, with 52 significant binary digits, corresponds to a much finer machine accuracy of about $\\epsilon_\\mathrm{double} = 2^{-52} \\approx 2\\times10^{-16}$ in decimal."
   ]
  },
  {
   "cell_type": "markdown",
   "id": "2",
   "metadata": {},
   "source": [
    "## Accumulation of round-off errors\n",
    "\n",
    "Round-off errors accumulate during iterative processes or summations when many floating-point operations are involved. This effect becomes more pronounced as the number of operations increases."
   ]
  },
  {
   "cell_type": "code",
   "execution_count": null,
   "id": "3",
   "metadata": {},
   "outputs": [],
   "source": [
    "def simple_sum(x, n):\n",
    "    s = 0.0\n",
    "    for i in range(n):\n",
    "        s += x\n",
    "    return s"
   ]
  },
  {
   "cell_type": "code",
   "execution_count": null,
   "id": "4",
   "metadata": {},
   "outputs": [],
   "source": [
    "x = 0.1\n",
    "n = 10\n",
    "s = simple_sum(x, n)\n",
    "e = abs(s/n - x) / x\n",
    "print(f\"Mean = {s}; relative error = {e}\")"
   ]
  },
  {
   "cell_type": "markdown",
   "id": "5",
   "metadata": {},
   "source": [
    "We may study how the relative error grows with the number of summations.\n",
    "The following figure illustrates the instability of the naive summation method."
   ]
  },
  {
   "cell_type": "code",
   "execution_count": null,
   "id": "6",
   "metadata": {},
   "outputs": [],
   "source": [
    "N        = [2**p for p in range(10,25)]\n",
    "E_simple = [abs(simple_sum(x, n)/n - x) / x for n in N]"
   ]
  },
  {
   "cell_type": "code",
   "execution_count": null,
   "id": "7",
   "metadata": {},
   "outputs": [],
   "source": [
    "from matplotlib import pyplot as plt\n",
    "\n",
    "plt.loglog(N, E_simple, label='Direct Sum')\n",
    "plt.xlabel('Number of Summations (N)')\n",
    "plt.ylabel('Relative Error')\n",
    "plt.legend()\n",
    "plt.show() # optional in Jupyter Notebook"
   ]
  },
  {
   "cell_type": "markdown",
   "id": "8",
   "metadata": {},
   "source": [
    "### The Kahan Summation Algorithm\n",
    "\n",
    "The Kahan summation algorithm is a method designed to minimize round-off errors during summation.\n",
    "By maintaining a separate compensation variable, it accounts for small errors that would otherwise be lost."
   ]
  },
  {
   "cell_type": "code",
   "execution_count": null,
   "id": "9",
   "metadata": {},
   "outputs": [],
   "source": [
    "def Kahan_sum(x, n):\n",
    "    c = 0.0 # compensation for lost low-order bits\n",
    "    s = 0.0\n",
    "    for i in range(n):\n",
    "        xp = x - c # apply compensation\n",
    "        c  = ((s + xp) - s) - xp # update compensation\n",
    "        s += x - c # update sum\n",
    "    return s"
   ]
  },
  {
   "cell_type": "code",
   "execution_count": null,
   "id": "10",
   "metadata": {},
   "outputs": [],
   "source": [
    "E_Kahan = [abs(Kahan_sum(x, n)/n - x) / x for n in N]"
   ]
  },
  {
   "cell_type": "code",
   "execution_count": null,
   "id": "11",
   "metadata": {},
   "outputs": [],
   "source": [
    "plt.loglog(N, E_simple, label='Simple Sum')\n",
    "plt.loglog(N, E_Kahan,  label='Kahan Sum')\n",
    "plt.xlabel('Number of Summations (N)')\n",
    "plt.ylabel('Relative Error')\n",
    "plt.legend()\n",
    "plt.show() # optional in Jupyter Notebook"
   ]
  },
  {
   "cell_type": "markdown",
   "id": "12",
   "metadata": {},
   "source": [
    "Discussion:\n",
    "\n",
    "* Compare the relative errors from the naive summation and Kahan summation.\n",
    "* How does the Kahan summation reduce the accumulation of round-off errors?\n",
    "* Why is this method particularly effective for long summations?"
   ]
  },
  {
   "cell_type": "markdown",
   "id": "13",
   "metadata": {},
   "source": [
    "### Partial Pairwise Summation\n",
    "\n",
    "In practice, it is not recommended to write a for-loop in Python to sum numbers.\n",
    "Instead, `numpy.sum()` is usually a better choice.\n",
    "The `numpy.sum()`  uses a more numerically accurate \"partial pairwise summation\" (see its [documentation](https://numpy.org/doc/stable/reference/generated/numpy.sum.html) and [source code](https://github.com/numpy/numpy/blob/v2.2.0/numpy/_core/fromnumeric.py#L2338-L2469)).\n",
    "Here, we simply will try it out."
   ]
  },
  {
   "cell_type": "code",
   "execution_count": null,
   "id": "14",
   "metadata": {},
   "outputs": [],
   "source": [
    "import numpy as np\n",
    "\n",
    "def numpy_sum(x, n):\n",
    "    X = np.repeat(x, n)\n",
    "    return np.sum(X)"
   ]
  },
  {
   "cell_type": "code",
   "execution_count": null,
   "id": "15",
   "metadata": {},
   "outputs": [],
   "source": [
    "E_numpy = [abs(numpy_sum(x, n)/n - x) / x for n in N]"
   ]
  },
  {
   "cell_type": "code",
   "execution_count": null,
   "id": "16",
   "metadata": {},
   "outputs": [],
   "source": [
    "plt.loglog(N, E_simple, label='Simple Sum')\n",
    "plt.loglog(N, E_Kahan,  label='Kahan Sum')\n",
    "plt.loglog(N, E_numpy,  label='Numpy Sum')\n",
    "plt.xlabel('Number of Summations (N)')\n",
    "plt.ylabel('Relative Error')\n",
    "plt.legend()\n",
    "plt.show() # optional in Jupyter Notebook"
   ]
  },
  {
   "cell_type": "markdown",
   "id": "17",
   "metadata": {},
   "source": [
    "## Catastrophic Cancellation\n",
    "\n",
    "### Your Moments of Zen...\n",
    "\n",
    "Q: What is the output of this simple code?\n",
    "\n",
    "```python\n",
    "from math import exp\n",
    "\n",
    "for tau in range(0, 60, 5):\n",
    "    I = exp(tau) - (exp(tau) - 1.0)\n",
    "    print(f\"{tau=}, {I=}\")\n",
    "```"
   ]
  },
  {
   "cell_type": "code",
   "execution_count": null,
   "id": "18",
   "metadata": {},
   "outputs": [],
   "source": [
    "# HANDSON: copy the above code and run it yourself"
   ]
  },
  {
   "cell_type": "markdown",
   "id": "19",
   "metadata": {},
   "source": [
    "We all learned in high school that the solutions (roots) to the qudratic equation $a x^2 + b x + c = 0$ is\n",
    "\\begin{align}\n",
    "x = \\frac{-b \\pm \\sqrt{b^2 - 4 a c}}{2a}.\n",
    "\\end{align}\n",
    "\n",
    "Q: Why one of the roots become zero when solving the qudratic equation with $b = 1$ and $a = c = 10^{-9}$?"
   ]
  },
  {
   "cell_type": "code",
   "execution_count": null,
   "id": "20",
   "metadata": {},
   "outputs": [],
   "source": [
    "a = 1e-9\n",
    "b = 1\n",
    "c = 1e-9\n",
    "\n",
    "x1 = (-b + (b*b - 4*a*c)**(1/2)) / (2*a)\n",
    "x2 = (-b - (b*b - 4*a*c)**(1/2)) / (2*a)\n",
    "\n",
    "print(f'{x1:.16f}, {x2:.16f}')"
   ]
  },
  {
   "cell_type": "markdown",
   "id": "21",
   "metadata": {},
   "source": [
    "It is straightforward to show in the limit $a, c \\ll b$, the roots are\n",
    "\\begin{align}\n",
    "x \\approx -\\frac{b}{a} \\mbox{ or } -\\frac{c}{b}\n",
    "\\end{align}\n",
    "Is it possible to recover the small root $-c/b$?"
   ]
  },
  {
   "cell_type": "markdown",
   "id": "22",
   "metadata": {},
   "source": [
    "When $b > 0$, a catastrophic cancellation (see below) happens only in the \"+\" equation.\n",
    "We may replace the first qudratic equation by its \"conjugate\" form\n",
    "\\begin{align}\n",
    "x = \\frac{2c}{-b \\mp \\sqrt{b^2 - 4 a c}}\n",
    "\\end{align}"
   ]
  },
  {
   "cell_type": "code",
   "execution_count": null,
   "id": "23",
   "metadata": {},
   "outputs": [],
   "source": [
    "# HANDSON: implement the conjugate form of the quadratic formula and print the outputs"
   ]
  },
  {
   "cell_type": "markdown",
   "id": "24",
   "metadata": {},
   "source": [
    "Equivalently, we may use the \"numerically stable form\",\n",
    "\\begin{align}\n",
    "x_1 &= \\frac{-b - \\mathrm{sign}(b)\\sqrt{b^2 - 4 a c}}{2a} \\\\\n",
    "x_2 &= \\frac{c}{a x_1}\n",
    "\\end{align}\n",
    "as used by\n",
    "[GSL](https://git.savannah.gnu.org/cgit/gsl.git/tree/poly/solve_quadratic.c#n57) and\n",
    "[fadge](https://github.com/adxsrc/fadge/blob/main/mod/fadge/utils.py#L25)."
   ]
  },
  {
   "cell_type": "markdown",
   "id": "25",
   "metadata": {},
   "source": [
    "**Catastrophic cancellation** occurs in numerical computing when subtracting two nearly equal numbers, leading to a significant loss of precision.\n",
    "This happens because the leading digits cancel out, leaving only less significant digits, which may already be corrupted by rounding errors in floating-point arithmetic.\n",
    "As a result, the final outcome can be far less accurate than expected.\n",
    "\n",
    "For example, consider subtracting $x = 1.00000001$ and $y = 1.00000000$.\n",
    "The exact result is $0.00000001$, but if both numbers are rounded to six significant digits during storage (e.g., in single-precision floats), they might be stored as $1.00000$.\n",
    "Subtracting these stored values yields $0$, completely losing the small difference.\n",
    "\n",
    "This issue is common in computations involving nearly equal terms, such as in numerical differentiation or solving linear systems, where precision errors can propagate.\n",
    "To mitigate catastrophic cancellation, techniques like reformulating equations to avoid such subtractions, using higher-precision arithmetic, or applying numerical methods specifically designed to reduce error can be employed."
   ]
  },
  {
   "cell_type": "markdown",
   "id": "26",
   "metadata": {},
   "source": [
    "## Floating Point Exceptions\n",
    "\n",
    "Q: What is the output of this simple code?\n",
    "\n",
    "```{code}\n",
    "for e in range(1020, 1030):\n",
    "    x = pow(2.0, e)\n",
    "    print(f\"2^{e} = {x}\")\n",
    "```\n",
    "\n",
    "```{code}\n",
    "for e in range(-1070, -1080, -1):\n",
    "    x = pow(2.0, e)\n",
    "    print(f\"2^{e} = {x:e}\")\n",
    "```"
   ]
  },
  {
   "cell_type": "code",
   "execution_count": null,
   "id": "27",
   "metadata": {},
   "outputs": [],
   "source": [
    "# HANDSON: copy the above code and run it yourself"
   ]
  }
 ],
 "metadata": {
  "kernelspec": {
   "display_name": "Python 3 (ipykernel)",
   "language": "python",
   "name": "python3"
  },
  "language_info": {
   "codemirror_mode": {
    "name": "ipython",
    "version": 3
   },
   "file_extension": ".py",
   "mimetype": "text/x-python",
   "name": "python",
   "nbconvert_exporter": "python",
   "pygments_lexer": "ipython3",
   "version": "3.12.6"
  }
 },
 "nbformat": 4,
 "nbformat_minor": 5
}
