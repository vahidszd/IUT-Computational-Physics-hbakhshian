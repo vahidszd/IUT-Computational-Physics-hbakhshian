{
 "cells": [
  {
   "cell_type": "markdown",
   "id": "0",
   "metadata": {},
   "source": [
    "# Data Representation"
   ]
  },
  {
   "cell_type": "markdown",
   "id": "1",
   "metadata": {
    "editable": true,
    "slideshow": {
     "slide_type": ""
    },
    "tags": []
   },
   "source": [
    "## Riddle\n",
    "\n",
    "You have 1000 bottles of wine for a birthday party.\n",
    "20 hours before the party, the winery indicates that 1 bottle is filled with poison, but they don't tell you which one.\n",
    "You have 10 lab mice to test this.\n",
    "The poison is so strong that it will kill any mouse that drinks it within 18 hours.\n",
    "Is there a way to find the poisoned bottle using the 10 mice before the party?"
   ]
  },
  {
   "cell_type": "markdown",
   "id": "2",
   "metadata": {
    "editable": true,
    "slideshow": {
     "slide_type": ""
    },
    "tags": []
   },
   "source": [
    "## Representing Numbers\n",
    "\n",
    "Efficient number representation, as illustrated in the riddle, enables us to solve seemingly impossible problems.\n",
    "The evolution of numeral systems reflects humanity's progress toward clarity and efficiency in expressing numbers.\n",
    "\n",
    "* **Unary System**:\n",
    "  The simplest system, where each number is represented by identical marks.\n",
    "  For example, 5 is written as \"|||||.\"\n",
    "  While easy to understand and requiring no skill for addition, unary becomes impractical for large values—representing 888 requires 888 marks.\n",
    "\n",
    "* **Roman Numerals**:\n",
    "  An improvement over unary, Roman numerals use symbols such as I (1), V (5), X (10), L (50), C (100), D (500), and M (1000).\n",
    "  However, representing numbers like 888 (DCCCLXXXVIII) still requires 12 symbols, making it cumbersome and inefficient for large numbers.\n",
    "\n",
    "* **Arabic Numerals**:\n",
    "  A revolutionary advancement, the Arabic numeral system uses positional notation to represent numbers compactly and efficiently.\n",
    "  For instance, 888 requires only three digits, drastically reducing complexity and enhancing clarity, making it the foundation of modern mathematics."
   ]
  },
  {
   "cell_type": "markdown",
   "id": "3",
   "metadata": {
    "editable": true,
    "slideshow": {
     "slide_type": ""
    },
    "tags": []
   },
   "source": [
    "### Positional Notation Systems\n",
    "\n",
    "The Arabic numeral system is an example of a **positional notation system**, where the value of a digit is determined by both the digit itself and its position within the number.\n",
    "This contrasts with systems like Roman numerals or unary numbers, where the position of a symbol does not affect its value.\n",
    "In positional notation, each digit's place corresponds to a specific power of the system's base.\n",
    "\n",
    "In a positional system, representing a number involves the following steps:\n",
    "1. Decide on the base (or radix) $b$.\n",
    "2. Define the notation for the digits.\n",
    "3. Write the number as:\n",
    "   \\begin{align}\n",
    "   \\pm (\\dots d_3 d_2 d_1 d_0 . d_{-1} d_{-2} d_{-3} \\dots),\n",
    "   \\end{align}\n",
    "   which represents:\n",
    "   \\begin{align}\n",
    "   \\pm (\\dots + d_3 b^3 + d_2 b^2 + d_1 b^1 + d_0 b^0 + d_{-1} b^{-1} + d_{-2} b^{-2} + d_{-3} b^{-3} + \\dots).\n",
    "   \\end{align}\n",
    "\n",
    "To convert a number from base $b$ to decimal, we apply this definition directly.\n",
    "For example:\n",
    "\\begin{align}\n",
    "(256.4)_8 = 2\\times8^2 + 5\\times8^1 + 6\\times8^0 + 4\\times8^{-1} = (174.5)_{10}.\n",
    "\\end{align}"
   ]
  },
  {
   "cell_type": "markdown",
   "id": "4",
   "metadata": {},
   "source": [
    "### Binary Numbers\n",
    "\n",
    "* Base: $b = 2$\n",
    "* Digits: 0, 1\n",
    "\n",
    "```{figure} figures/measure.png\n",
    "Binary system was invented by merchants in medieval England.\n",
    "```\n",
    "\n",
    "The binary system has been used in various forms long before the age of computers.\n",
    "Invented by merchants in medieval England, the units of liquid measure were based on the binary system. For example:\n",
    "* 1 gallon = 2 pottles;\n",
    "* 1 pottle = 2 quarts;\n",
    "* 1 quart = 2 pints;\n",
    "* 1 pint = 2 cups; etc.\n",
    "\n",
    "Similarly, the binary system is used in music to define note durations, i.e., whole note, half note, quarter note, eighth note, sixteenth note, etc.\n",
    "These everyday examples reflect the fundamental nature of the binary system, which underpins much of modern computing.\n",
    "\n",
    "```{figure} figures/binary-shirt.png\n",
    "There are `10` types of people in the world...\n",
    "```\n",
    "\n",
    "In the binary system, only two digits are used: 0 and 1.\n",
    "The position of each digit in a binary number corresponds to a power of 2, just as the position of a digit in the decimal system corresponds to a power of 10.\n",
    "For example, the binary number $1011_2$ represents: $1 \\times 2^3 + 0 \\times 2^2 + 1 \\times 2^1 + 1 \\times 2^0$.\n",
    "This gives the decimal value: $1 \\times 8 + 0 \\times 4 + 1 \\times 2 + 1 \\times 1 = 11$."
   ]
  },
  {
   "cell_type": "markdown",
   "id": "5",
   "metadata": {},
   "source": [
    "In Python, you can use the `bin()` function to convert an integer to its binary string representation, and the `int()` function to convert a binary string back to an integer.\n",
    "This is particularly useful when working with binary numbers in computations."
   ]
  },
  {
   "cell_type": "code",
   "execution_count": null,
   "id": "6",
   "metadata": {},
   "outputs": [],
   "source": [
    "# Convert an integer to a binary string\n",
    "number = 10\n",
    "binary = bin(number)\n",
    "print(f\"Binary representation of {number}: {binary}\")"
   ]
  },
  {
   "cell_type": "code",
   "execution_count": null,
   "id": "7",
   "metadata": {},
   "outputs": [],
   "source": [
    "# Convert a binary string back to an integer\n",
    "binary = \"0b1010\" # the leading \"0b\" is optional\n",
    "number = int(binary, 2)\n",
    "print(f\"Integer value of {binary}: {number}\")"
   ]
  },
  {
   "cell_type": "markdown",
   "id": "8",
   "metadata": {},
   "source": [
    "Note that the above examples use **formatted string literals**, commonly known as \"f-strings.\"\n",
    "F-strings provide a concise and readable way to embed expressions inside string literals by prefixing the string with an `f` or `F` character."
   ]
  },
  {
   "cell_type": "markdown",
   "id": "9",
   "metadata": {},
   "source": [
    "Python supports representing binary numbers directly using the `0b` prefix for literals.\n",
    "This allows you to define binary numbers without converting from a string format."
   ]
  },
  {
   "cell_type": "code",
   "execution_count": null,
   "id": "10",
   "metadata": {},
   "outputs": [],
   "source": [
    "binary = 0b1010  # 10 in decimal\n",
    "print(f\"Binary number: {binary}\")"
   ]
  },
  {
   "cell_type": "markdown",
   "id": "11",
   "metadata": {},
   "source": [
    "### The Hexadecimal System\n",
    "\n",
    "* Base: $b = 16$\n",
    "* Digits: 0, 1, 2, 3, 4, 5, 6, 7, 8, 9, A, B, C, D, E, F\n",
    "\n",
    "The hexadecimal system allows for writing a binary number in a very compact notation.\n",
    "It allows one to directly ready the binary content of a file, e.g.,\n",
    "```\n",
    "% hexdump -C /bin/sh | head\n",
    "00000000  ca fe ba be 00 00 00 02  01 00 00 07 00 00 00 03  |................|\n",
    "00000010  00 00 40 00 00 00 6a b0  00 00 00 0e 01 00 00 0c  |..@...j.........|\n",
    "00000020  80 00 00 02 00 00 c0 00  00 00 cb 70 00 00 00 0e  |...........p....|\n",
    "00000030  00 00 00 00 00 00 00 00  00 00 00 00 00 00 00 00  |................|\n",
    "*\n",
    "00004000  cf fa ed fe 07 00 00 01  03 00 00 00 02 00 00 00  |................|\n",
    "00004010  11 00 00 00 c0 04 00 00  85 00 20 00 00 00 00 00  |.......... .....|\n",
    "00004020  19 00 00 00 48 00 00 00  5f 5f 50 41 47 45 5a 45  |....H...__PAGEZE|\n",
    "00004030  52 4f 00 00 00 00 00 00  00 00 00 00 00 00 00 00  |RO..............|\n",
    "00004040  00 00 00 00 01 00 00 00  00 00 00 00 00 00 00 00  |................|\n",
    "```\n",
    "or directly select a color\n",
    "```{figure} figures/color.png\n",
    "Hex numbers are used to select colors.\n",
    "```"
   ]
  },
  {
   "cell_type": "markdown",
   "id": "12",
   "metadata": {},
   "source": [
    "Python also supports working with hexadecimal numbers, which are represented using the `0x` prefix.\n",
    "Below are examples demonstrating how to handle hexadecimal numbers in Python."
   ]
  },
  {
   "cell_type": "code",
   "execution_count": null,
   "id": "13",
   "metadata": {},
   "outputs": [],
   "source": [
    "number = 255\n",
    "hexrep = hex(number)\n",
    "print(f\"Hexadecimal representation of {number}: {hexrep}\")"
   ]
  },
  {
   "cell_type": "code",
   "execution_count": null,
   "id": "14",
   "metadata": {},
   "outputs": [],
   "source": [
    "hexrep = \"0xff\"\n",
    "number = int(hexrep, 16)\n",
    "print(f\"Integer value of {hexrep}: {number}\")"
   ]
  },
  {
   "cell_type": "code",
   "execution_count": null,
   "id": "15",
   "metadata": {},
   "outputs": [],
   "source": [
    "hexrep = 0xff  # 10 in decimal\n",
    "print(f\"Hexadecimal number: {hexrep}\")"
   ]
  },
  {
   "cell_type": "markdown",
   "id": "16",
   "metadata": {},
   "source": [
    "```{note}\n",
    "\n",
    "### Quantum Computing: A New Level of Number Representation\n",
    "\n",
    "Quantum computing takes number representation to a whole new level.\n",
    "In quantum mechanics, data is represented using quantum bits, or qubits.\n",
    "Unlike classical bits, a single qubit can exist in a superposition of two states, $|0\\rangle$ and $|1\\rangle$, simultaneously.\n",
    "This means that (ignoring normalization for now) one qubit can represent two numbers $C_0$ and $C_1$ as in $C_0 |0\\rangle + C_1 |1\\rangle$.\n",
    "\n",
    "With two qubits, the system can represent four possible states: $|00\\rangle$, $|01\\rangle$, $|10\\rangle$, and $|11\\rangle$, again, in superposition.\n",
    "The number of possible states grows exponentially as more qubits are added:\n",
    "* Three qubits can represent eight states: $|000\\rangle$, $|001\\rangle$, $|010\\rangle$, ..., $|111\\rangle$.\n",
    "* Four qubits represent 16 states, and so on.\n",
    "\n",
    "In general, $n$ qubits can represent $2^n$ states at once.\n",
    "This exponential scaling is what gives quantum computers their enormous potential to perform certain types of calculations far more efficiently than classical computers.\n",
    "\n",
    "For example, IBM's 53-qubit quantum computer can represent $2^{53}$ states simultaneously.\n",
    "In terms of classical information, this is equivalent to storing approximately 1 petabyte (PB) of data, which is comparable to the amount of memory available in some of the world's largest supercomputers today.\n",
    "```"
   ]
  },
  {
   "cell_type": "markdown",
   "id": "17",
   "metadata": {},
   "source": [
    "```{note}\n",
    "\n",
    "### Superposition Hypothesis in Large Language Models\n",
    "\n",
    "The [Superposition Hypothesis](https://transformer-circuits.pub/2022/toy_model/index.html) in large language models (LLMs) proposes that individual neurons or parameters can encode multiple overlapping features, depending on context.\n",
    "This is analogous to quantum superposition, where qubits represent multiple states simultaneously. \n",
    "\n",
    "For example, a single neuron in an LLM might activate for both \"dog\" and \"pet,\" enabling efficient reuse of parameters.\n",
    "This ability is further supported by high-dimensional embeddings, where concepts are represented as nearly orthogonal vectors, allowing the model to store and distinguish vast amounts of information with minimal interference.\n",
    "The [Johnson–Lindenstrauss Lemma](https://en.wikipedia.org/wiki/Johnson%E2%80%93Lindenstrauss_lemma) explains how high-dimensional spaces accommodate such efficient representations.\n",
    "\n",
    "While the Superposition Hypothesis provides a promising explanation for the efficiency of LLMs, it remains an area of active research to fully understand the mechanisms underlying their success.\n",
    "```"
   ]
  },
  {
   "cell_type": "markdown",
   "id": "18",
   "metadata": {},
   "source": [
    "## Hardware Implementations\n",
    "\n",
    "```{epigraph}\n",
    "The decimal system has been established, somewhat foolishly to be\n",
    "sure, according to man's custom, not from a natural necessity as most\n",
    "people think.\n",
    "\n",
    "-- Blaise Pascal (1623--1662)\n",
    "```\n",
    "\n",
    "Binary operators are the foundation of computation in digital hardware.\n",
    "They are implemented using **logic gates**, which are constructed using CMOS (Complementary Metal-Oxide-Semiconductor) technology.\n",
    "This section introduces binary operators, universal gates, CMOS implementation, and key arithmetic circuits like adders."
   ]
  },
  {
   "cell_type": "markdown",
   "id": "19",
   "metadata": {},
   "source": [
    "### Basic Binary Operators\n",
    "\n",
    "1. AND Operator (`&`)\n",
    "   ```{code}\n",
    "   | A | B | A & B |\n",
    "   |---|---|-------|\n",
    "   | 0 | 0 |   0   |\n",
    "   | 0 | 1 |   0   |\n",
    "   | 1 | 0 |   0   |\n",
    "   | 1 | 1 |   1   |\n",
    "   ```"
   ]
  },
  {
   "cell_type": "markdown",
   "id": "20",
   "metadata": {},
   "source": [
    "2. OR Operator (`|`)\n",
    "   ```{code}\n",
    "   | A | B | A | B |\n",
    "   |---|---|-------|\n",
    "   | 0 | 0 |   0   |\n",
    "   | 0 | 1 |   1   |\n",
    "   | 1 | 0 |   1   |\n",
    "   | 1 | 1 |   1   |\n",
    "   ```"
   ]
  },
  {
   "cell_type": "markdown",
   "id": "21",
   "metadata": {},
   "source": [
    "3. XOR Operator (`^`)\n",
    "   ```{code}\n",
    "   | A | B | A ^ B |\n",
    "   |---|---|-------|\n",
    "   | 0 | 0 |   0   |\n",
    "   | 0 | 1 |   1   |\n",
    "   | 1 | 0 |   1   |\n",
    "   | 1 | 1 |   0   |\n",
    "   ```"
   ]
  },
  {
   "cell_type": "markdown",
   "id": "22",
   "metadata": {},
   "source": [
    "4. NOT Operator (`~`)\n",
    "   ```{code}\n",
    "   | A | ~A |\n",
    "   |---|----|\n",
    "   | 0 |  1 |\n",
    "   | 1 |  0 |\n",
    "   ```"
   ]
  },
  {
   "cell_type": "markdown",
   "id": "23",
   "metadata": {},
   "source": [
    "5. NAND and NOR Operators\n",
    "   * **NAND (NOT AND):** Outputs `0` only when both inputs are `1`.\n",
    "   * **NOR  (NOT OR):**  Outputs `1` only when both inputs are `0`."
   ]
  },
  {
   "cell_type": "markdown",
   "id": "24",
   "metadata": {},
   "source": [
    "### CMOS Implementation\n",
    "\n",
    "Logic gates are built using CMOS technology, which utilizes:\n",
    "* **PMOS Transistors:** Conduct when the input is low (logic `0`).\n",
    "* **NMOS Transistors:** Conduct when the input is high (logic `1`).\n",
    "\n",
    "```{figure} figures/cmos.png\n",
    "Cross section of two transistors in a CMOS gate, in an N-well CMOS process.\n",
    "```\n",
    "In the above figure, the terminals of the transistors are labeled as follows:\n",
    "\n",
    "* **Source (S):**\n",
    "  The terminal through which carriers (electrons or holes) enter the transistor.\n",
    "  For NMOS transistors, the source is typically connected to a lower potential (e.g., ground),\n",
    "  while for PMOS transistors, it is connected to a higher potential (e.g., Vdd).\n",
    "\n",
    "* **Gate (G):**\n",
    "  The terminal that controls the flow of carriers between the source and drain.\n",
    "  Applying a voltage to the gate creates an electric field that either allows or prevents current flow, effectively acting as a switch.\n",
    "\n",
    "* **Drain (D):**\n",
    "  The terminal through which carriers exit the transistor.\n",
    "  For NMOS transistors, the drain is usually connected to a higher potential, while for PMOS transistors, it is connected to a lower potential.\n",
    "\n",
    "* **Body (B):**\n",
    "  Also known as the bulk or substrate, this terminal is typically connected to a fixed reference potential.\n",
    "  For NMOS transistors, the body is often connected to ground, and for PMOS transistors, it is connected to Vdd.\n",
    "  The body helps control leakage currents and influences the transistor's threshold voltage.\n",
    "\n",
    "By manipulating the voltage at the gate terminal, transistors act as switches, enabling or disabling the flow of current between the source and drain.\n",
    "This switching behavior underpins the operation of all logic gates and digital circuits."
   ]
  },
  {
   "cell_type": "markdown",
   "id": "25",
   "metadata": {},
   "source": [
    "Here are some CMOS Gate Examples\n",
    "1. **NOT Gate:**\n",
    "   - **PMOS:** Connects the output to `Vdd` (high) when the input is low.\n",
    "   - **NMOS:** Connects the output to ground (low) when the input is high.\n",
    "\n",
    "2. **NAND Gate:**\n",
    "   - **PMOS:** Two transistors in parallel connect to `Vdd` if either input is low.\n",
    "   - **NMOS:** Two transistors in series connect to ground only if both inputs are high.\n",
    "\n",
    "3. **NOR Gate:**\n",
    "   - **PMOS:** Two transistors in series connect to `Vdd` only if both inputs are low.\n",
    "   - **NMOS:** Two transistors in parallel connect to ground if either input is high."
   ]
  },
  {
   "cell_type": "markdown",
   "id": "26",
   "metadata": {},
   "source": [
    "### Universal Gates\n",
    "\n",
    "**NAND** and **NOR** gates are also called **universal gates** because any other logic gate can be constructed using just these gates.\n",
    "Universal gates are fundamental in hardware design, as they simplify manufacturing by reducing the variety of components needed.\n",
    "\n",
    "In practice, the NAND gate is widely used in the industry due to several advantages:\n",
    "* Less delay\n",
    "* Smaller silicon area\n",
    "* Uniform transistor sizes"
   ]
  },
  {
   "cell_type": "markdown",
   "id": "27",
   "metadata": {},
   "source": [
    "An NAND gate's truth table looks like this:\n",
    "```{code}\n",
    "| A | B | NAND(A, B) |\n",
    "|---|---|------------|\n",
    "| 0 | 0 | 1          |\n",
    "| 0 | 1 | 1          |\n",
    "| 1 | 0 | 1          |\n",
    "| 1 | 1 | 0          |\n",
    "```\n",
    "\n",
    "Here is a simple Python function for the NAND gate:"
   ]
  },
  {
   "cell_type": "code",
   "execution_count": null,
   "id": "28",
   "metadata": {},
   "outputs": [],
   "source": [
    "def NAND(a, b):\n",
    "    return 1 - (a & b)  # NOT (a AND b)"
   ]
  },
  {
   "cell_type": "markdown",
   "id": "29",
   "metadata": {},
   "source": [
    "We can now construct basic gates using only NAND:"
   ]
  },
  {
   "cell_type": "code",
   "execution_count": null,
   "id": "30",
   "metadata": {},
   "outputs": [],
   "source": [
    "# A NOT gate can be built by connecting both inputs of a NAND gate to the same value.\n",
    "def NOT_NAND(a):\n",
    "    return NAND(a, a)\n",
    "\n",
    "# Test\n",
    "print(NOT_NAND(0)) # Output: 1\n",
    "print(NOT_NAND(1)) # Output: 0"
   ]
  },
  {
   "cell_type": "code",
   "execution_count": null,
   "id": "31",
   "metadata": {},
   "outputs": [],
   "source": [
    "# An AND gate can be built by negating the output of a NAND gate.\n",
    "def AND_NAND(a, b):\n",
    "    return NOT_NAND(NAND(a, b))\n",
    "\n",
    "# Test\n",
    "print(AND_NAND(0, 0))  # Output: 0\n",
    "print(AND_NAND(0, 1))  # Output: 0\n",
    "print(AND_NAND(1, 0))  # Output: 0\n",
    "print(AND_NAND(1, 1))  # Output: 1"
   ]
  },
  {
   "cell_type": "code",
   "execution_count": null,
   "id": "32",
   "metadata": {},
   "outputs": [],
   "source": [
    "# Using De Morgan's law: A | B = ~(~A & ~B), we can construct an OR gate.\n",
    "def OR_NAND(a, b):\n",
    "    return NAND(NOT_NAND(a), NOT_NAND(b))\n",
    "\n",
    "# Test\n",
    "print(OR_NAND(0, 0))  # Output: 0\n",
    "print(OR_NAND(0, 1))  # Output: 1\n",
    "print(OR_NAND(1, 0))  # Output: 1\n",
    "print(OR_NAND(1, 1))  # Output: 1"
   ]
  },
  {
   "cell_type": "code",
   "execution_count": null,
   "id": "33",
   "metadata": {},
   "outputs": [],
   "source": [
    "# An XOR gate can be built using NAND gates as follows:\n",
    "def XOR_NAND(a, b):\n",
    "    return NAND(NAND(a, NAND(a, b)), NAND(b, NAND(a, b)))\n",
    "\n",
    "# Test\n",
    "print(XOR_NAND(0, 0))  # Output: 0\n",
    "print(XOR_NAND(0, 1))  # Output: 1\n",
    "print(XOR_NAND(1, 0))  # Output: 1\n",
    "print(XOR_NAND(1, 1))  # Output: 0"
   ]
  },
  {
   "cell_type": "markdown",
   "id": "34",
   "metadata": {},
   "source": [
    "## Addition in the Binary System\n",
    "\n",
    "In the binary system, addition follows similar rules to decimal addition, but with only two digits: 0 and 1.\n",
    "The key rules are:\n",
    "```{code}\n",
    "0 + 0 = 0\n",
    "0 + 1 = 1\n",
    "1 + 0 = 1\n",
    "1 + 1 = 0, 1 carryover\n",
    "```\n",
    "\n",
    "We start from the rightmost bit, adding the bits with carry when needed:\n",
    "```{code}\n",
    "    C = 111\n",
    "    A = 0101 (  A = 5)\n",
    "    B = 0011 (  B = 3)\n",
    "-------------\n",
    "A + B = 1000 (A+B = 8)\n",
    "```"
   ]
  },
  {
   "cell_type": "markdown",
   "id": "35",
   "metadata": {},
   "source": [
    "### Half Adder: Building Blocks for Addition\n",
    "\n",
    "A **half adder** is a fundamental circuit used to add two single-bit binary numbers.\n",
    "It produces two outputs:\n",
    "- **Sum**: The result of the XOR operation between the two inputs.\n",
    "- **Carry**: The result of the AND operation between the two inputs, representing an overflow to the next bit.\n",
    "\n",
    "```{figure} figures/half.png\n",
    "\"Half\" adder.\n",
    "```\n",
    "\n",
    "However, the half adder is limited because it does not account for a carry input from a previous addition.\n",
    "This is why it is called a \"half\" adder—it handles only the addition of two bits without any carry forwarding.\n",
    "\n",
    "The logic for a half adder can be represented as:\n",
    "```{code}\n",
    "A + B = S , C\n",
    "-------------\n",
    "0 + 0 = 0 , 0\n",
    "0 + 1 = 1 , 0\n",
    "1 + 0 = 1 , 0\n",
    "1 + 1 = 0 , 1\n",
    "```\n",
    "\n",
    "This simplicity makes the half adder a foundational component for building more complex adders, like the full adder."
   ]
  },
  {
   "cell_type": "code",
   "execution_count": null,
   "id": "36",
   "metadata": {},
   "outputs": [],
   "source": [
    "def half_adder(A, B):\n",
    "    S = XOR_NAND(A, B)  # Sum using XOR\n",
    "    C = AND_NAND(A, B)  # Carry using AND\n",
    "    return S, C\n",
    "\n",
    "# Test\n",
    "print(half_adder(0, 0))\n",
    "print(half_adder(0, 1))\n",
    "print(half_adder(1, 0))\n",
    "print(half_adder(1, 1))"
   ]
  },
  {
   "cell_type": "markdown",
   "id": "37",
   "metadata": {},
   "source": [
    "### Building a Full Adder Using NAND\n",
    "\n",
    "A **full adder** extends the half adder by adding a carry input.\n",
    "It is capable of handling three inputs:\n",
    "- **A**: First bit\n",
    "- **B**: Second bit\n",
    "- **Cin**: Carry from the previous bit addition\n",
    "\n",
    "It produces two outputs:\n",
    "- **Sum**: Result of adding \\( A \\), \\( B \\), and \\( Cin \\).\n",
    "- **Carry**: Overflow to the next higher bit.\n",
    "\n",
    "It can be implemented using two half adder and an OR gate:\n",
    "```{figure} figures/full.png\n",
    "\"Full\" adder.\n",
    "```"
   ]
  },
  {
   "cell_type": "code",
   "execution_count": null,
   "id": "38",
   "metadata": {},
   "outputs": [],
   "source": [
    "def full_adder(A, B, Cin):\n",
    "    s, c = half_adder(A,   B)\n",
    "    S, C = half_adder(Cin, s)\n",
    "    Cout = OR_NAND(c, C)\n",
    "    return S, Cout\n",
    "\n",
    "# Test\n",
    "print(full_adder(0, 0, 0))  # Output: (0, 0)\n",
    "print(full_adder(1, 0, 0))  # Output: (1, 0)\n",
    "print(full_adder(1, 1, 0))  # Output: (0, 1)\n",
    "print(full_adder(1, 1, 1))  # Output: (1, 1)"
   ]
  },
  {
   "cell_type": "markdown",
   "id": "39",
   "metadata": {},
   "source": [
    "### Multi-Bit Adder\n",
    "\n",
    "A **multi-bit adder** combines multiple full adders to add two binary numbers of arbitrary length.\n",
    "Each full adder handles one bit, with the carry output of one adder serving as the carry input to the next.\n",
    "\n",
    "For example, to add two 4-bit binary numbers $A_3 A_2 A_1 A_0$ and $B_3 B_2 B_1 B_0$:\n",
    "1. Set the initial carry to 0\n",
    "2. Use full adders for all bits.\n",
    "Then, we can combine multiple full adders to make multi-digit adders.\n",
    "\n",
    "```{figure} figures/multi.png\n",
    "Multi-digit adder.\n",
    "```"
   ]
  },
  {
   "cell_type": "code",
   "execution_count": null,
   "id": "40",
   "metadata": {},
   "outputs": [],
   "source": [
    "def multibit_adder(A, B):\n",
    "    n = len(A)  # Assume A and B are of the same length\n",
    "    S = []\n",
    "    C = 0\n",
    "\n",
    "    for i in range(n):\n",
    "        s, C = full_adder(A[i], B[i], C)\n",
    "        S.append(s)\n",
    "\n",
    "    S.append(C)  # Add the final carry\n",
    "    return S\n",
    "\n",
    "# Test\n",
    "A = [1, 1, 0, 1]  # 1 + 2 + 8 = 11 in binary\n",
    "B = [1, 0, 0, 1]  # 1 + 8 = 9 in binary\n",
    "print(multibit_adder(A, B))  # Output: [0, 0, 1, 0, 1] = 4 + 16 = 20 in binary"
   ]
  },
  {
   "cell_type": "markdown",
   "id": "41",
   "metadata": {},
   "source": [
    "### Number of Bits in an Integer\n",
    "\n",
    "The number of bits used to store an integer determines the range of values it can represent.\n",
    "For **unsigned integers**, the range is $[0, 2^b - 1]$, where $b$ is the number of bits.\n",
    "For **signed integers**, one bit is used for the sign, leaving $n-1$ bits for the value.\n",
    "The range for signed integers is usually $[-2^{n-1}, 2^{n-1} - 1]$ (see below).\n",
    "\n",
    "For example:\n",
    "* An 8-bit unsigned integer represents values from 0 to 255.\n",
    "* An 8-bit signed integer represents values from -128 to 127.\n",
    "\n",
    "In modern programming languages, integers may be implemented as fixed-width (e.g., 8, 16, 32, 64 bits) or variable-width types, such as Python's `int`, which dynamically adjusts to the size of the number."
   ]
  },
  {
   "cell_type": "markdown",
   "id": "42",
   "metadata": {},
   "source": [
    "### Overflow and Underflow Error\n",
    "\n",
    "The `multibit_adder()` example above indicates that adding two $b$-bit integer may result a $(b+1)$-bit integer.\n",
    "\n",
    "In computing, **overflow error** occurs when an integer calculation exceeds the maximum value that can be represented within the allocated number of bits.\n",
    "For example, in a 32-bit unsigned integer, the maximum value is $2^{32} - 1$ (4,294,967,295).\n",
    "Adding 1 to this value causes the result to \"wrap around\" to the minimum value 0.\n",
    "\n",
    "Similarly, underflow occurs when subtracting below the minimum value.\n",
    "This behavior results from how integers are stored and is particularly problematic in applications where precision and correctness are critical.\n",
    "\n",
    "To mitigate these errors, some programming languages and compilers provide tools to detect overflow or implement arbitrary-precision integers, which grow dynamically to store larger values."
   ]
  },
  {
   "cell_type": "markdown",
   "id": "43",
   "metadata": {},
   "source": [
    "### Representation of Negative Numbers\n",
    "\n",
    "Negative integers are typically represented using **two's complement**, the most common method in modern computing. In a two’s complement system:\n",
    "\n",
    "1. Positive numbers are represented as usual in binary.\n",
    "2. To represent a negative number:\n",
    "   * Write the binary representation of its absolute value.\n",
    "   * Invert all the bits (change 1 to 0 and 0 to 1).\n",
    "   * Add 1 to the result.\n",
    "\n",
    "For example, in an 8-bit system:\n",
    "* $+5$ is represented as `00000101`.\n",
    "* $-5$ is represented as `11111011`.\n",
    "\n",
    "Advantages of two's complement include:\n",
    "* A single representation for 0.\n",
    "* Efficient hardware implementation for addition and subtraction.\n",
    "* The most significant bit (MSB) acts as the **sign bit**: 0 for positive, 1 for negative.\n",
    "\n",
    "Other less common systems include **sign-magnitude** and **one's complement**, but these are mostly historical or used in niche applications."
   ]
  },
  {
   "cell_type": "markdown",
   "id": "44",
   "metadata": {},
   "source": [
    "### Integer Conversion\n",
    "\n",
    "Integer conversion refers to changing the representation of an integer between different sizes or types.\n",
    "There are two main cases:\n",
    "\n",
    "#### 1. Narrowing Conversion\n",
    "\n",
    "This involves converting an integer from a larger type to a smaller type (e.g., 32-bit to 16-bit).\n",
    "If the value exceeds the range of the smaller type, it may result in truncation or overflow, often leading to incorrect results.\n",
    "\n",
    "**Example:**\n",
    "Converting $2^{16} + 1$ from a 32-bit integer to a 16-bit integer results in $1$ (wrap-around effect).\n",
    "\n",
    "#### 2. Widening Conversion\n",
    "\n",
    "This involves converting an integer from a smaller type to a larger type (e.g., 16-bit to 32-bit).\n",
    "This is typically safe, as the larger type can represent all values of the smaller type without loss of information.\n",
    "\n",
    "When converting signed to unsigned integers (or vice versa), the sign bit may be misinterpreted if not handled properly, leading to unexpected results.\n",
    "Some languages, like Python, automatically handle such conversions due to their use of arbitrary-precision integers, but others, like C, require explicit care to avoid bugs."
   ]
  },
  {
   "cell_type": "markdown",
   "id": "45",
   "metadata": {},
   "source": [
    "```{note}\n",
    "\n",
    "### Data type conversion errors can be very costly\n",
    "\n",
    "Ariane 5 is the primary launch vehicle of the European Space Agency (ESA) that operates from the Guiana Space Center near Kourou in the French Guiana.\n",
    "Its first successful operational flight took place in December 1999, when it carried to space the European X-ray Multi Mirror (XMM) satellite.\n",
    "Its first test launch, however, on June 4, 1996 resulted in failure, with the rocket exploding 40 seconds into the flight.\n",
    "\n",
    "A study of the accident by an inquiry board found that the failure was caused by a software problem in the Inertial Reference System that was guiding the rocket.\n",
    "In particular, the computer program, which was written in the Ada programming language and was inherited from the previous launch vehicle Ariane 4, required at some point in the calculation a conversion of a 64-bit floating point number to a 16-bit integer.\n",
    "The initial trajectory of the Ariane 5 launch vehicle, however, is significantly different than that of Ariane 4 and the 16 bits are not enough to store some of the required information.\n",
    "The result was an error in the calculation, which the inertial system misinterpreted and caused the rocket to veer off its flight path and explode.\n",
    "The cost of the failed launch was upwards of 100 million dollars!\n",
    "```"
   ]
  },
  {
   "cell_type": "markdown",
   "id": "46",
   "metadata": {},
   "source": [
    "## A Moment of ZEN\n",
    "\n",
    "Q: What is the output of this simple code?\n",
    "What is the last value of `x` it will print?\n",
    "\n",
    "```python\n",
    "x = 0\n",
    "while x < 1:\n",
    "    x += 0.1\n",
    "    print(f\"{x:g}\")\n",
    "```\n",
    "\n",
    "To see the problem, change the f-string to `print(f\"{x:.17f}\")`."
   ]
  },
  {
   "cell_type": "markdown",
   "id": "47",
   "metadata": {},
   "source": [
    "```{note}\n",
    "### Rounding Errors Can Have Fatal Consequences\n",
    "\n",
    "On February 25, 1991, during Operation Desert Storm, a Scud missile struck a U.S. army barracks in Dhahran, Saudi Arabia, killing 28 soldiers.\n",
    "The base was protected by a Patriot Air Defense System, but the system failed to intercept the missile due to a rounding error in its tracking software.\n",
    "\n",
    "The Patriot system relies on radar to detect airborne objects and a computer to calculate their trajectories based on time, tracked in increments of 0.1 seconds.\n",
    "However, in binary form, 0.1 seconds is represented as an infinite repeating decimal, $(0.1)_{10} = (0.0001100011…)_2$, which must be rounded during calculations.\n",
    "This small rounding error accumulated over time, and after 300 hours of continuous operation, it caused the system to miscalculate the missile's trajectory.\n",
    "As a result, the Patriot failed to identify the Scud as a threat, leading to the tragic loss of life."
   ]
  },
  {
   "cell_type": "markdown",
   "id": "48",
   "metadata": {},
   "source": [
    "## How Do Computers Handle Non-Integer Numbers?"
   ]
  },
  {
   "cell_type": "markdown",
   "id": "49",
   "metadata": {},
   "source": [
    "### Floating Point Representation\n",
    "\n",
    "The easiest way to describe floating-point representation is through an example.\n",
    "Consider the result of the mathematical expression $e^6 \\approx 403.42879$.\n",
    "To express this in normalized floating-point notation, we first write the number in scientific notation:\n",
    "\\begin{align}\n",
    "e^6 = 4.0342879 \\times 10^2\n",
    "\\end{align}\n",
    "\n",
    "In scientific notation, the number is written such that the significand (or mantissa) is always smaller than the base (in this case, 10).\n",
    "To represent the number in floating-point format, we store the following components:\n",
    "* The sign of the number,\n",
    "* The exponent (the power of 10),\n",
    "* The significand (the string of significant digits).\n",
    "\n",
    "For example, the floating-point representation of $e^6$ with 4 significant digits is:\n",
    "\\begin{align}\n",
    "e^6 = (+, 2, 4034).\n",
    "\\end{align}\n",
    "And with 8 significant digits:\n",
    "\\begin{align}\n",
    "e^6 = (+, 2, 40342879).\n",
    "\\end{align}"
   ]
  },
  {
   "cell_type": "markdown",
   "id": "50",
   "metadata": {},
   "source": [
    "### Single-Precision Floating Point\n",
    "\n",
    "```{figure} figures/float.svg\n",
    ":height: 80px\n",
    "The value $+0.15625 = (-1)^{(0)_2} \\times 2^{(01111100)_2-127} \\times (1.01...0)_2$ stored as single precision float.\n",
    "```\n",
    "\n",
    "The IEEE 754 standard for floating-point arithmetic, used by most modern computers, defines how numbers are stored in formats like single precision (32-bit).\n",
    "A normalized number's significand includes an implicit leading 1 before the binary point, so only the fractional part (bits after the binary point) is stored.\n",
    "For instance, the binary number `1.101` is stored as `101`, with the leading `1` assumed. This saves space while effectively adding an extra bit of precision.\n",
    "\n",
    "The exponent is stored with a \"bias\" of 127 in single precision.\n",
    "This means the actual exponent is calculated as `stored_exponent - 127`, allowing representation of both positive and negative exponents.\n",
    "The smallest stored exponent (`0`) corresponds to an actual exponent of -127, and the largest (`255`) corresponds to +128.\n",
    "Single-precision numbers, such as `np.single` in `NumPy` and `float` in `C`, can represent values ranging approximately from $2^{-127} \\approx 6 \\times 10^{-39}$ to $2^{128} \\approx 3 \\times 10^{38}$."
   ]
  },
  {
   "cell_type": "markdown",
   "id": "51",
   "metadata": {},
   "source": [
    "### Double-Precision Floating Point\n",
    "\n",
    "```{figure} figures/double.svg\n",
    ":height: 120px\n",
    "Memeory layout of a double precision float.\n",
    "```\n",
    "\n",
    "For double precision (64-bit), the exponent is stored with a bias of `1023` and the significand with an implicit leading 1 is stored in 52 bits.\n",
    "The exponent can represent values from -1023 to +1024.\n",
    "Double-precision numbers can represent values ranging from approximately $10^{-308}$ to  $10^{308}$, corresponding to the `double` type in C or `np.double` in Python/NumPy."
   ]
  },
  {
   "cell_type": "markdown",
   "id": "52",
   "metadata": {},
   "source": [
    "`````{note}\n",
    "### Abusing Floating Point Numbers: `Arepo`\n",
    "\n",
    "```{figure} figures/arepo1.png\n",
    ":height: 240px\n",
    "The moving mesh code Arepo.\n",
    "```\n",
    "\n",
    "The Arepo cosmology code, widely used in astrophysical simulations, employs a moving mesh method to solve fluid dynamics problems with high accuracy and efficiency.\n",
    "\n",
    "```{figure} figures/arepo2.png\n",
    ":height: 480px\n",
    "The fast maping between 53-bit integer and double precision float.\n",
    "```\n",
    "\n",
    "To avoid numerical issues commonly encountered in floating-point arithmetic, Arepo implements an innovative approach to ensure robustness in geometric computations.\n",
    "Specifically, it maps the significant digits of double-precision floating-point numbers to a 53-bit integer, which allows for exact arithmetic when evaluating geometric predicates.\n",
    "By doing this, Arepo avoids round-off errors that could otherwise compromise the accuracy of simulations.\n",
    "This precise handling of numerical data is critical for the accurate modeling of complex cosmological structures.\n",
    "`````"
   ]
  },
  {
   "cell_type": "markdown",
   "id": "53",
   "metadata": {},
   "source": [
    "### Other Floating Point\n",
    "\n",
    "* \"half percision\" `float16`\n",
    "* `bfloat16`, used for neural network\n",
    "* `long double`, could be 80-bit or 128-bit, dependent on the system."
   ]
  },
  {
   "cell_type": "markdown",
   "id": "54",
   "metadata": {},
   "source": [
    "### Encoding of Special Values\n",
    "\n",
    "```{code}\n",
    "val    s_exponent_signcnd\n",
    "+inf = 0_11111111_0000000\n",
    "-inf = 1_11111111_0000000\n",
    "```\n",
    "\n",
    "```{code}\n",
    "val    s_exponent_signcnd\n",
    "+NaN = 0_11111111_klmnopq\n",
    "-NaN = 1_11111111_klmnopq\n",
    "```\n",
    "where at least one of `k`, `l`, `m`, `n`, `o`, `p`, or `q` is 1."
   ]
  },
  {
   "cell_type": "markdown",
   "id": "55",
   "metadata": {},
   "source": [
    "### NaN Comparison Rules\n",
    "\n",
    "In Python, like in C, the special value NaN (Not a Number) has unique comparison behavior. Any ordered comparison between a NaN and any other value, including another NaN, always evaluates to False.\n",
    "\n",
    "To reliably check if a value is NaN, it is recommended to use the `np.isnan()` function from NumPy, as direct comparisons (e.g., `x == np.nan`) will not work as expected."
   ]
  },
  {
   "cell_type": "code",
   "execution_count": null,
   "id": "56",
   "metadata": {},
   "outputs": [],
   "source": [
    "# Demonstrate NaN comparison rules\n",
    "\n",
    "import numpy as np\n",
    "\n",
    "x = np.nan\n",
    "y = 1\n",
    "\n",
    "print(x != x)\n",
    "print(x >  x)\n",
    "print(x <  x)\n",
    "print(x >= x)\n",
    "print(x <= x)\n",
    "print(x == x)\n",
    "\n",
    "print(x != y)\n",
    "print(x >  y)\n",
    "print(x <  y)\n",
    "print(x >= y)\n",
    "print(x <= y)\n",
    "print(x == y)"
   ]
  },
  {
   "cell_type": "markdown",
   "id": "57",
   "metadata": {},
   "source": [
    "## Remarkable Increase in Computing Speed"
   ]
  },
  {
   "cell_type": "markdown",
   "id": "58",
   "metadata": {},
   "source": [
    "### Moore's Law\n",
    "\n",
    "```{figure} figures/Moores_Law.png\n",
    ":height: 640px\n",
    "Moore's Law.\n",
    "```"
   ]
  },
  {
   "cell_type": "markdown",
   "id": "59",
   "metadata": {},
   "source": [
    "### High-Performance Computing\n",
    "\n",
    "```{figure} figures/elgato.jpg\n",
    ":height: 240px\n",
    "Elgato\n",
    "```\n",
    "\n",
    "```{figure} figures/ocelote.jpg\n",
    ":height: 240px\n",
    "Ocelote\n",
    "```"
   ]
  },
  {
   "cell_type": "markdown",
   "id": "60",
   "metadata": {},
   "source": [
    "### What Determines Computational Performance?\n",
    "\n",
    "```{figure} figures/42-years-processor-trend.png\n",
    ":height: 640px\n",
    "Origin data up to year 2010 collected and plotted by Horowitz et al.; new data collected and plotted by [Rupp](https://www.karlrupp.net/2018/02/42-years-of-microprocessor-trend-data/).\n",
    "```"
   ]
  },
  {
   "cell_type": "markdown",
   "id": "61",
   "metadata": {
    "jp-MarkdownHeadingCollapsed": true
   },
   "source": [
    "`````{note}\n",
    "### Abusing Floating Point Numbers: Fast Inverse Square Root\n",
    "\n",
    "One fascinating example of taking advantage of floating-point representation is the fast inverse square root algorithm, famously used in computer graphics, particularly in the development of 3D engines like those in video games.\n",
    "This algorithm provides an efficient way to compute $1/\\sqrt{x}$, a common operation in tasks like normalizing vectors.\n",
    "Instead of relying on the standard floating-point math libraries, the algorithm \"hacks\" the floating-point representation by manipulating the bits directly to achieve a remarkably fast approximation of the result.\n",
    "This method takes advantage of how floating-point numbers are stored, using a clever combination of bitwise operations and mathematical magic to drastically speed up computation.\n",
    "\n",
    "The following code is the fast inverse square root implementation from Quake III Arena, stripped of C preprocessor directives, but including [modified comment text](https://web.archive.org/web/20170729072505/https://github.com/id-Software/Quake-III-Arena/blob/master/code/game/q_math.c#L552):\n",
    "```c\n",
    "float Q_rsqrt( float number )\n",
    "{\n",
    "\tlong i;\n",
    "\tfloat x2, y;\n",
    "\tconst float threehalfs = 1.5F;\n",
    "\n",
    "\tx2 = number * 0.5F;\n",
    "\ty  = number;\n",
    "\ti  = * ( long * ) &y;                     // evil floating point bit level hacking\n",
    "\ti  = 0x5f3759df - ( i >> 1 );             // what the f**k?\n",
    "\ty  = * ( float * ) &i;\n",
    "\ty  = y * ( threehalfs - ( x2 * y * y ) ); // 1st iteration\n",
    "//\ty  = y * ( threehalfs - ( x2 * y * y ) ); // 2nd iteration, this can be removed\n",
    "\n",
    "\treturn y;\n",
    "}\n",
    "```\n",
    "`````"
   ]
  },
  {
   "cell_type": "markdown",
   "id": "62",
   "metadata": {},
   "source": [
    "## References\n",
    "\n",
    "* [Preliminary discussion of the logical design of an electronic computing instrument](https://www.ias.edu/sites/default/files/library/Prelim_Disc_Logical_Design.pdf) by Burks, Goldstine, and von Neumann (1964)\n",
    "* [What Every Computer Scientist Should Know About Floating-Point Arithmetic](https://docs.oracle.com/cd/E19957-01/800-7895/800-7895.pdf) by D. Goldberg, in the March 1991 of Computing Surveys"
   ]
  }
 ],
 "metadata": {
  "kernelspec": {
   "display_name": "Python 3 (ipykernel)",
   "language": "python",
   "name": "python3"
  },
  "language_info": {
   "codemirror_mode": {
    "name": "ipython",
    "version": 3
   },
   "file_extension": ".py",
   "mimetype": "text/x-python",
   "name": "python",
   "nbconvert_exporter": "python",
   "pygments_lexer": "ipython3",
   "version": "3.12.6"
  }
 },
 "nbformat": 4,
 "nbformat_minor": 5
}
