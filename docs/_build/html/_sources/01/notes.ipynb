{
 "cells": [
  {
   "cell_type": "markdown",
   "id": "0",
   "metadata": {
    "editable": true,
    "slideshow": {
     "slide_type": "slide"
    },
    "tags": []
   },
   "source": [
    "# Overview\n",
    "\n",
    "## PHYS 305: Computational Physics"
   ]
  },
  {
   "cell_type": "markdown",
   "id": "1",
   "metadata": {},
   "source": [
    "## Description of Course\n",
    "\n",
    "+ Modern science combines computational methods, data analysis, empirical evidence, and scientific theory.\n",
    "+ PHYS 305 provides an introduction to computational and data-driven physics.\n",
    "+ Topics include:\n",
    "  + Integration of Ordinary Differential Equations (ODEs) and Partial Differential Equations (PDEs).\n",
    "  + Modern statistical methods applied to physical research.\n",
    "+ Focuses on bridging theoretical concepts with practical applications.\n",
    "+ Includes lectures, hands-on exercises, and projects to develop essential skills for modern astrophysical research."
   ]
  },
  {
   "cell_type": "markdown",
   "id": "2",
   "metadata": {
    "editable": true,
    "slideshow": {
     "slide_type": "slide"
    },
    "tags": []
   },
   "source": [
    "## Biography\n",
    "\n",
    "+ CK is a computational astrophysicist advancing theoretical and observational research with cutting-edge technologies.\n",
    "+ Key contributions include:\n",
    "  + Developing algorithms to study magnetohydrodynamic turbulence.\n",
    "  + Using GPUs to accelerate general relativistic ray tracing.\n",
    "  + Designing cloud computing infrastructures for big observational data.\n",
    "  + Applying machine learning algorithms for faster, automated data processing.\n",
    "+ Active projects:\n",
    "  + Simulating and understanding accretion disks.\n",
    "  + Capturing images of black holes.\n",
    "  + Visualizing astrophysical simulations in virtual reality.\n",
    "+ Educational background:\n",
    "  + Bachelor's and doctoral degrees from the University of Arizona."
   ]
  },
  {
   "cell_type": "markdown",
   "id": "3",
   "metadata": {
    "editable": true,
    "slideshow": {
     "slide_type": "slide"
    },
    "tags": []
   },
   "source": [
    "## Science Paradigms\n",
    "\n",
    "1. Empirical evidence\n",
    "2. Scientific theory\n",
    "3. Computational science\n",
    "4. [Data science](https://www.microsoft.com/en-us/research/publication/fourth-paradigm-data-intensive-scientific-discovery/)"
   ]
  },
  {
   "cell_type": "markdown",
   "id": "4",
   "metadata": {
    "editable": true,
    "slideshow": {
     "slide_type": "fragment"
    },
    "tags": []
   },
   "source": [
    "Modern science is complex!\n",
    "\n",
    "The last two require computing!"
   ]
  },
  {
   "cell_type": "markdown",
   "id": "5",
   "metadata": {
    "editable": true,
    "slideshow": {
     "slide_type": "slide"
    },
    "tags": []
   },
   "source": [
    "### Computational Science\n",
    "\n",
    "Physical Models $\\rightarrow$ Data and Results\n",
    "\n",
    "* Nonlinear and many degrees of free (DoF) systems:\n",
    "  * Kelvin-Helmholtz instability: https://youtu.be/Bqg31OwAqEQ\n",
    "  * Kolmogorov forced turbulence: https://youtu.be/Q2HFwsThk0U\n",
    "  * Binary black hole mergers: https://youtu.be/1agm33iEAuo\n",
    "  \n",
    "* Multi-physics problems:\n",
    "  * Black hole accretion flow: https://youtu.be/-GQ1aUHwx-k\n",
    "  * Multi-wavelength black hole images: https://youtu.be/G6sSwRf_9ME\n",
    "  \n",
    "* Large scale simulation libraries:\n",
    "  * Illustris: https://www.illustris-project.org\n",
    "  * TNG Project: https://www.tng-project.org"
   ]
  },
  {
   "cell_type": "markdown",
   "id": "6",
   "metadata": {
    "editable": true,
    "slideshow": {
     "slide_type": "slide"
    },
    "tags": []
   },
   "source": [
    "### Data Science\n",
    "\n",
    "Data and ML $\\rightarrow$ Result\n",
    "\n",
    "* Experiments with very large data sets:\n",
    "  * Event Horizon Telescope: https://eventhorizontelescope.org/science\n",
    "  * Vera C. Rubin Observatory (LSST): https://www.lsst.org/\n",
    "  \n",
    "* Let computer learn algorithms from data:\n",
    "  * Computer vision: http://www.image-net.org\n",
    "  * Self-driving cars: https://en.wikipedia.org/wiki/Self-driving_car\n",
    "\n",
    "* Knowledge discovery from data:\n",
    "  * UA Data Science Institute: https://datascience.arizona.edu/\n",
    "  * Machine Learning (ML): https://scikit-learn.org/\n",
    "  \n",
    "* Artificial Intelligence (AI):\n",
    "  * AlphaGo: https://deepmind.com/research/case-studies/alphago-the-story-so-far\n",
    "  * AlphaFold: https://deepmind.com/blog/article/AlphaFold-Using-AI-for-scientific-discovery\n",
    "  * AlphaGeometry: https://deepmind.google/discover/blog/alphageometry-an-olympiad-level-ai-system-for-geometry"
   ]
  },
  {
   "cell_type": "markdown",
   "id": "7",
   "metadata": {
    "editable": true,
    "slideshow": {
     "slide_type": "slide"
    },
    "tags": []
   },
   "source": [
    "## Expected Learning Outcomes\n",
    "\n",
    "Upon completion of this course, students should be able to:\n",
    "* understand the nature and application of computation methods in physical science;\n",
    "* use popular development tools (shell, `git`, `JupyterLab`, etc);\n",
    "* use good software development practices (version control, documentation, and automation);\n",
    "* use computational thinking to break down complex (physics) problems into smaller pieces;\n",
    "* solve these problems by writing programs in the `python` and `C` programming languages;\n",
    "* speak and write about scientific knowledge;\n",
    "* appreciate computation complexity and have a basic awareness of numerical errors;\n",
    "* use data analysis and numerical methods properly, and be aware of their common pitfalls;\n",
    "* critically analyze and interpret data and results presented in tables, graphs and charts as well as perform appropriate computations;\n",
    "* read and understand scientific literature from popular sources such as magazines and newspapers;\n",
    "* aware of a wide range of science use cases, and develop the skill to self-learn computation tools and methods."
   ]
  },
  {
   "cell_type": "markdown",
   "id": "8",
   "metadata": {
    "editable": true,
    "slideshow": {
     "slide_type": "slide"
    },
    "tags": []
   },
   "source": [
    "## Scheduled Topics/Activities\n",
    "\n",
    "#  | Week | Tuesday | Thursday\n",
    "--- | --- | --- | ---\n",
    "1  | Jan 12–Jan 18 |                                                                 | {doc}`01/notes` and {doc}`01/lab`\n",
    "2  | Jan 19–Jan 25 | Data representation and round-off errors                        | Numerical linear algebra\n",
    "3  | Jan 26–Feb  1 | Fourier transform and spectral analyses                         | Guest lecture: useful tools (homework)\n",
    "4  | Feb  2–Feb  8 | Interpolation and extrapolation                                 | Numerical and automatic derivatives\n",
    "5  | Feb  9–Feb 15 | Numerical integration of functions                              | Root finding (homework)\n",
    "6  | Feb 16–Feb 22 | Optimization                                                    | Data modeling I\n",
    "7  | Feb 24–Mar  1 | Data modeling II                                                | Selected techniques in machine learning (homework)\n",
    "8  | Mar  2–Mar  8 | Project I presentations                                         | Project I presentations"
   ]
  },
  {
   "cell_type": "markdown",
   "id": "9",
   "metadata": {
    "editable": true,
    "slideshow": {
     "slide_type": "slide"
    },
    "tags": []
   },
   "source": [
    "## Scheduled Topics/Activities\n",
    "\n",
    "#  | Week | Tuesday | Thursday\n",
    "--- | --- | --- | ---\n",
    "9  | Mar  9–Mar 15 | **Spring recess (no class)**                                    | **Spring recess (no class)**\n",
    "10 | Mar 16–Mar 22 | The C programming language                                      | ODE integrators I: explicit methods\n",
    "11 | Mar 24–Mar 29 | ODE integrators II: implicit and symplectic methods              | ODE integrators III: boundary value problems (homework)\n",
    "12 | Mar 30–Apr  5 | Monte Carlo methods I: random numbers and random walk           | Monte Carlo methods II: Ising model\n",
    "13 | Apr  6–Apr 12 | Monte Carlo methods III: Hopfield network and Boltzmann machine | Parallel computing (homework)\n",
    "14 | Apr 13–Apr 19 | Numerical PDEs I: properties of PDEs                            | Numerical PDEs II: finite difference and spectral methods\n",
    "15 | Apr 20–Apr 26 | Numerical PDEs III: finite volume methods                       | Numerical PDEs IV: finite element methods (homework)\n",
    "16 | Apr 27–May  3 | Project II presentations                                        | Project II presentations\n",
    "17 | May  4–May 10 | Visiting UA HPC                                                 | **Reading Day (no class)**"
   ]
  },
  {
   "cell_type": "markdown",
   "id": "10",
   "metadata": {
    "editable": true,
    "slideshow": {
     "slide_type": "slide"
    },
    "tags": []
   },
   "source": [
    "## Schedule/Due Dates\n",
    "\n",
    "The course includes 6 homework assignments and 2 group projects.\n",
    "There are no quizzes or exams.\n",
    "\n",
    "**Homework Assignments:**\n",
    "* Assignments will be given approximately every two weeks (see schedule above).\n",
    "* Students should begin working on them during the hands-on labs and submit them within one week of the assignment date.\n",
    "\n",
    "**Group Projects:**\n",
    "* Projects will be completed in teams of approximately four students.\n",
    "* All project materials must be submitted within one week after the corresponding project presentations."
   ]
  },
  {
   "cell_type": "markdown",
   "id": "11",
   "metadata": {
    "editable": true,
    "slideshow": {
     "slide_type": "slide"
    },
    "tags": []
   },
   "source": [
    "## Grading Scale and Policies\n",
    "\n",
    "The course include:\n",
    "* 6 homework assignments (10 points each)\n",
    "* 2 group projects (20 points each)\n",
    "  \n",
    "These sum up to 100 points total.\n",
    "Students are expected to submit their assignments and projects by the specified deadlines.\n",
    "\n",
    "This course provides regular letter grades (A–E), which are based on a simple point system:\n",
    "* A: 80–100  points\n",
    "* B: 70–79.9 points\n",
    "* C: 60–69.9 points\n",
    "* D: 50–59.9 points\n",
    "* E:  0–49.9 points\n",
    "\n",
    "No scaling will be applied."
   ]
  },
  {
   "cell_type": "markdown",
   "id": "12",
   "metadata": {
    "editable": true,
    "slideshow": {
     "slide_type": "slide"
    },
    "tags": []
   },
   "source": [
    "## Usage of Generative AI\n",
    "\n",
    "- Generative AI tools (e.g., ChatGPT, Google Gemini, GitHub Co-Pilot) can assist with:\n",
    "  - Brainstorming ideas\n",
    "  - Debugging code\n",
    "- Students must:\n",
    "  - Write their own code\n",
    "  - Take full responsibility for their work\n",
    "  - Demonstrate a clear understanding of the concepts\n",
    "- Important considerations:\n",
    "  - AI tools may produce inaccurate or biased outputs\n",
    "  - Students must verify facts and critically assess all submitted material\n",
    "- Acknowledgment and citation:\n",
    "  - Any use of generative AI must be disclosed or cited\n",
    "  - Follow the [UA library guidelines](https://libguides.library.arizona.edu/students-chatgpt/citing)\n",
    "- Violations:\n",
    "  - Failure to disclose AI usage or submit original work is considered a breach of academic integrity\n",
    "- For questions, contact your instructor"
   ]
  }
 ],
 "metadata": {
  "kernelspec": {
   "display_name": "Python 3 (ipykernel)",
   "language": "python",
   "name": "python3"
  },
  "language_info": {
   "codemirror_mode": {
    "name": "ipython",
    "version": 3
   },
   "file_extension": ".py",
   "mimetype": "text/x-python",
   "name": "python",
   "nbconvert_exporter": "python",
   "pygments_lexer": "ipython3",
   "version": "3.12.6"
  }
 },
 "nbformat": 4,
 "nbformat_minor": 5
}
