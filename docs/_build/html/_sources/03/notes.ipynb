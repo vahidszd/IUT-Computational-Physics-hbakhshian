{
 "cells": [
  {
   "cell_type": "markdown",
   "id": "0",
   "metadata": {},
   "source": [
    "# Numerical Linear Algebra"
   ]
  },
  {
   "cell_type": "markdown",
   "id": "1",
   "metadata": {},
   "source": [
    "## Fundamental Roles\n",
    "\n",
    "Linear algebra is a foundation in modern mathematics.\n",
    "It enables multidimensional calculus, multivariate statistics, differential geometry, functional analysis, control theory, and more.\n",
    "It enables systematic and predictable problem-solving.\n",
    "It is fair to say we understand most of the linear mathemtics.\n",
    "When faced with non-linear problems, it is common to transform them into linear approximations for analysis and solution.\n",
    "\n",
    "Numerical linear algebra further enhances this power, extending it to computational physics.\n",
    "It enables solving partial differential equations (PDEs), optimization problems, eigenvalue analyses, and more.\n",
    "By bridging theory and computation, numerical linear algebra helps solving some of the most challenging problems in physics and engineering."
   ]
  },
  {
   "cell_type": "markdown",
   "id": "2",
   "metadata": {},
   "source": [
    "### Motivations from Physics\n",
    "\n",
    "**Normal Modes:**\n",
    "Normal modes describe vibration patterns in systems near equilibrium.\n",
    "It is a generalized eigenvalue problem.\n",
    "Applications include identifying resonance frequencies in materials, analyzing sound in acoustics, and studying plasma waves.\n",
    "Linear algebra's role in solving eigenvalue problems is central to understanding these phenomena."
   ]
  },
  {
   "cell_type": "markdown",
   "id": "3",
   "metadata": {},
   "source": [
    "**Quantum Mechanics:**\n",
    "Quantum mechanics is linear, governed by the Schrödinger equation.\n",
    "This linearity allows quantum systems to be expressed in terms of vectors and matrices, enabling numerical approaches.\n",
    "Applications include calculating electronic band structures, solving molecular orbital equations, and diagonalizing Hamiltonians in spin systems.\n",
    "Efficient algorithms like Lanczos and Davidson extract eigenvalues and eigenvectors from large matrices are essential for studying quantum systems."
   ]
  },
  {
   "cell_type": "markdown",
   "id": "4",
   "metadata": {},
   "source": [
    "**Discretized PDEs:**\n",
    "PDEs, such as the Poisson and heat equations, describe continuous physical systems.\n",
    "Discretization transforms them into large (sparse) linear systems, enabling efficient iterative solvers like Conjugate Gradient (CG) and GMRES.\n",
    "These methods apply to problems in electrostatics, heat conduction, fluid flow, and structural mechanics.\n",
    "Even nonlinear PDEs often require solving linear subproblems iteratively, highlighting the importance of linear algebra in computational physics."
   ]
  },
  {
   "cell_type": "markdown",
   "id": "5",
   "metadata": {},
   "source": [
    "**Linearization of Nonlinear Problems:**\n",
    "Nonlinear problems, like turbulence or combustion, are approximated through linearization.\n",
    "Applications include solving non-linear PDEs, perturbation theory, and computational fluid dynamics.\n",
    "Nonlinear problems often reduce to sequences of linear solves, highlighting the foundational role of linear algebra."
   ]
  },
  {
   "cell_type": "markdown",
   "id": "6",
   "metadata": {},
   "source": [
    "### Motivations from Computation\n",
    "\n",
    "**Large-Scale Data**\n",
    "Physics experiments and machine learning (ML) tasks both generate large datasets, such as images, sensor readings, or high-dimensional feature vectors.\n",
    "Matrix decompositions—including QR, Singular Value Decomposition (SVD), and Principal Component Analysis (PCA)—are critical tools for analyzing and compressing these datasets.\n",
    "PCA, in particular, is widely used for dimensionality reduction, feature extraction, noise reduction, and visualization in high-dimensional spaces.\n",
    "Similarly, in physics, these techniques are applied to identify dominant modes in fluid flow or material vibrations.\n",
    "This shared reliance on linear algebra underscores its cross-disciplinary importance in processing complex data."
   ]
  },
  {
   "cell_type": "markdown",
   "id": "7",
   "metadata": {},
   "source": [
    "**Neural Networks**\n",
    "Neural networks rely heavily on linear algebra for their core operations.\n",
    "Forward and backpropagation, essential processes in deep learning, primarily involve matrix multiplication between layer weight matrices and input or activation vectors.\n",
    "Training large neural networks involves repeated and massive matrix-vector and matrix-matrix operations.\n",
    "Efficient linear algebra routines are therefore vital to the success of modern ML systems."
   ]
  },
  {
   "cell_type": "markdown",
   "id": "8",
   "metadata": {},
   "source": [
    "**Hardware Accelerators**\n",
    "Efficient linear algebra implementations are critical for leveraging modern hardware, such as GPUs and TPUs, which are optimized for matrix operations.\n",
    "Vectorized computations not only accelerate ML tasks but also ensure scalability for large datasets and complex models."
   ]
  },
  {
   "cell_type": "markdown",
   "id": "9",
   "metadata": {},
   "source": [
    "`````{note}\n",
    "```{epigraph}\n",
    "If Everything Were Linear, We Wouldn't Need Computers.\n",
    "```\n",
    "\n",
    "A popular statement suggests that in a purely linear world, everything would be easy to solve analytically.\n",
    "However, this is an oversimplification.\n",
    "Even perfectly linear problems can pose significant computational challenges due to two key factors.\n",
    "\n",
    "* First, high dimensionality makes solving linear systems computationally intensive.\n",
    "  For instance, systems with millions of unknowns arise in large PDE grids or massive machine learning models.\n",
    "  Processing such large-scale data requires significant computational power, regardless of linearity.\n",
    "\n",
    "* Second, real-world computations face constraints from finite precision.\n",
    "  Hardware limitations, such as floating-point arithmetic, introduce numerical stability and conditioning challenges, even in linear systems.\n",
    "  Addressing these issues requires robust algorithms to ensure accurate and efficient solutions.\n",
    "`````"
   ]
  },
  {
   "cell_type": "markdown",
   "id": "10",
   "metadata": {},
   "source": [
    "### Importance of Numerical Linear Algebra\n",
    "\n",
    "**Floating-Point Arithmetic and Rounding Errors:**\n",
    "As covered in last chapter, numerical analysis addresses the limitations of finite precision in computational hardware.\n",
    "Small rounding errors, particularly in ill-conditioned systems, can amplify significantly, leading to unreliable results.\n",
    "Techniques like pivoting in Gaussian elimination or employing stable iterative algorithms are crucial for ensuring numerical stability."
   ]
  },
  {
   "cell_type": "markdown",
   "id": "11",
   "metadata": {},
   "source": [
    "**Condition Numbers and Sensitivity:**\n",
    "Ill-conditioned matrices amplify small input perturbations, making solutions highly sensitive to errors.\n",
    "This issue is prevalent in physics problems, such as nearly degenerate modes, and in machine learning tasks, like poorly scaled data that slows network training.\n",
    "Understanding and managing condition numbers is essential for robust computations."
   ]
  },
  {
   "cell_type": "markdown",
   "id": "12",
   "metadata": {},
   "source": [
    "**Solver Complexity and Algorithm Selection:**\n",
    "The choice of solver depends on the problem scale and structure.\n",
    "Direct solvers, such as Gaussian elimination or LU decomposition, scale as $\\mathcal{O}(n^3)$ for dense systems, which can be infeasible for large $n$.\n",
    "Iterative methods, like Jacobi, Conjugate Gradient, and GMRES, exploit matrix sparsity to handle massive systems efficiently.\n",
    "Preconditioning further improves convergence, benefiting both physics simulations and ML optimizations."
   ]
  },
  {
   "cell_type": "markdown",
   "id": "13",
   "metadata": {},
   "source": [
    "**Leveraging Established Theory:**\n",
    "Linear algebra is a deeply studied field, and once a problem is expressed as a matrix, powerful theoretical and numerical tools can be applied.\n",
    "Techniques like eigen-decomposition and SVD provide consistent and reliable approaches across domains, benefiting applications from quantum mechanics to deep learning.\n",
    "This universality makes numerical linear algebra indispensable in modern computational science."
   ]
  },
  {
   "cell_type": "markdown",
   "id": "14",
   "metadata": {},
   "source": [
    "## Condition Numbers & Floating-Point Issues\n",
    "\n",
    "Accurate numerical solutions in computational physics depend heavily on **floating-point arithmetic** details and the **condition number** of the problem at hand. Small floating-point errors can be amplified dramatically if the system is ill-conditioned. In this set of notes, we'll explore the nature of rounding errors, how to spot ill-conditioned problems, and why it all matters."
   ]
  },
  {
   "cell_type": "markdown",
   "id": "15",
   "metadata": {},
   "source": [
    "### Machine Epsilon and Rounding Errors\n",
    "\n",
    "Recalling from last lecture...\n",
    "\n",
    "1. **Finite Precision**  \n",
    "   * On a real computer, numbers are stored with a finite number of bits (in Python, `float64` has 53 bits of precision in the significand).  \n",
    "   * The smallest gap between distinct floating-point numbers near 1.0 is the **machine epsilon** ($\\approx 2.22 \\times 10^{-16}$ for double precision).\n",
    "\n",
    "2. **Rounding & Representation**  \n",
    "   - Because of finite precision, most real numbers can't be represented exactly.  \n",
    "   - Operations like addition and multiplication are done to a certain precision; the final result is *rounded* back into the floating-point format.\n",
    "\n",
    "3. **Catastrophic Cancellation**  \n",
    "   - If two nearly equal numbers are subtracted, the leading digits can cancel out, leaving the result with fewer significant bits of accuracy.  \n",
    "   - **Example**: `(1e16 + 1) - 1e16` might yield `0.0` in floating-point, even though the exact answer is `1.0`.\n"
   ]
  },
  {
   "cell_type": "markdown",
   "id": "16",
   "metadata": {},
   "source": [
    "### Condition Number\n",
    "\n",
    "Intuitive Definition:\n",
    "\n",
    "* Sensitivity to Input Changes\n",
    "  * A condition number measures how much the solution to a problem can change relative to small changes in the input data.\n",
    "  * In the context of solving $A\\mathbf{x} = \\mathbf{b}$, if the matrix $A$ is ill-conditioned, small perturbations in $\\mathbf{b}$ or rounding errors in $A$ can lead to large changes in $\\mathbf{x}$.\n",
    "\n",
    "* Mathematical Insight\n",
    "  * For a non-singular matrix $A$, the condition number (in the 2-norm) is\n",
    "    \\begin{align}\n",
    "      \\kappa(A) = |A|_2\\,|A^{-1}|_2,\n",
    "    \\end{align}\n",
    "    which also equals the ratio of the largest singular value to the smallest singular value of $A$.\n",
    "  * A large $\\kappa(A)$ (e.g., $10^6$ or $10^9$) indicates potential numerical instability."
   ]
  },
  {
   "cell_type": "markdown",
   "id": "17",
   "metadata": {},
   "source": [
    "Consider the following simple 2×2 example:\n",
    "\\begin{align}\n",
    "A =\n",
    "\\begin{pmatrix}\n",
    "1 & 1\\\\\n",
    "1 & 1.0001\n",
    "\\end{pmatrix},\n",
    "\\quad\n",
    "\\mathbf{b} =\n",
    "\\begin{pmatrix}\n",
    "2\\\\\n",
    "2.0001\n",
    "\\end{pmatrix}.\n",
    "\\end{align}\n",
    "\n",
    "In the exact World: If we solve $A\\mathbf{x} = \\mathbf{b}$ symbolically, we'll get a unique solution.\n",
    "However, suppose we change $\\mathbf{b}$ slightly to $\\mathbf{b}' = (2, 2.0000)^T$.\n",
    "This tiny change can produce a surprisingly large change in $\\mathbf{x}$.\n",
    "\n",
    "The following python code illustrate this."
   ]
  },
  {
   "cell_type": "code",
   "execution_count": null,
   "id": "18",
   "metadata": {},
   "outputs": [],
   "source": [
    "import numpy as np\n",
    "\n",
    "A = np.array([[1, 1],\n",
    "              [1, 1.0001]])\n",
    "b = np.array([2,\n",
    "              2.0001])\n",
    "\n",
    "# Solve the original system\n",
    "x = np.linalg.solve(A, b)\n",
    "print(\"Solution x for original b:\", x)\n",
    "\n",
    "# Slightly perturb b\n",
    "bp = np.array([2, 2.0000])\n",
    "xp = np.linalg.solve(A, bp)\n",
    "print(\"Solution x for perturbed b:\", xp)\n",
    "\n",
    "# Check the condition number of A\n",
    "cond_A = np.linalg.cond(A)\n",
    "print(\"Condition number of A:\", cond_A)"
   ]
  },
  {
   "cell_type": "markdown",
   "id": "19",
   "metadata": {},
   "source": [
    "The result indicates:\n",
    "* The original and perturbed solutions might differ noticeably despite only a 0.0001 change in the second component of $\\mathbf{b}$.\n",
    "* The condition number `cond_A` will be relatively large, indicating that $A$ is ill-conditioned."
   ]
  },
  {
   "cell_type": "markdown",
   "id": "20",
   "metadata": {},
   "source": [
    "### Why Does This Matter?\n",
    "\n",
    "**Direct solvers** (e.g., Gaussian Elimination) can become numerically unreliable if the system is ill-conditioned because floating-point errors from pivoting or rounding are easily amplified.\n",
    "Although pivoting helps, it cannot fully correct a severely ill-conditioned system.\n",
    "\n",
    "**Iterative methods** (e.g., Conjugate Gradient, GMRES) also degrade under ill-conditioning, resulting in slow convergence or the need for heavy preconditioning.\n",
    "Even then, convergence may require many iterations or yield poor accuracy.\n",
    "\n",
    "**Matrix decompositions** (e.g., eigenvalue, SVD) are similarly affected. Small errors in a nearly singular matrix can lead to large deviations in the computed eigenvalues or singular values.\n",
    "\n",
    "In **practice**, ill-conditioned matrices can undermine results in physics simulations (e.g., discretized PDEs, linearized nonlinear models) and degrade performance in data science tasks such as large-scale regression or neural network training."
   ]
  },
  {
   "cell_type": "markdown",
   "id": "21",
   "metadata": {},
   "source": [
    "## Direct Solvers\n",
    "\n",
    "Direct methods are often the first approach taught for solving linear systems $A\\mathbf{x} = \\mathbf{b}$.\n",
    "They involve algebraic factorizations that can be computed in a fixed number of steps (roughly $\\mathcal{O}(n^3)$) for an $n \\times n$ matrix."
   ]
  },
  {
   "cell_type": "markdown",
   "id": "22",
   "metadata": {},
   "source": [
    "### Gaussian Elimination\n",
    "\n",
    "**Gaussian Elimination** transforms the system $A \\mathbf{x} = \\mathbf{b}$ into an equivalent upper-triangular form $U \\mathbf{x} = \\mathbf{c}$ via systematic row operations.\n",
    "Once in upper-triangular form, one can perform **back-substitution** to solve for $\\mathbf{x}$.\n",
    "\n",
    "1. **Row Operations**  \n",
    "   * Subtract a multiple of one row from another to eliminate entries below the main diagonal.\n",
    "   * Aim to create zeros in column $j$ below row $j$.\n",
    "\n",
    "2. **Partial Pivoting**  \n",
    "   * When a pivot (diagonal) element is small (or zero), **swap** the current row with a row below that has a larger pivot element in the same column.\n",
    "   * This step **mitigates numerical instability** by reducing the chance that small pivots lead to large rounding errors in subsequent operations.\n",
    "\n",
    "3. **Result**\n",
    "   * After eliminating all sub-diagonal entries, the matrix is in upper-triangular form $U$.\n",
    "   * Solve $U\\mathbf{x} = \\mathbf{c}$ via back-substitution."
   ]
  },
  {
   "cell_type": "markdown",
   "id": "23",
   "metadata": {},
   "source": [
    "Here is an [exampmle](https://en.wikipedia.org/wiki/Gaussian_elimination):\n",
    "\n",
    "`````{list-table}\n",
    ":header-rows: 1\n",
    "* + System of equations\n",
    "  + Row operations\n",
    "  + Augmented matrix\n",
    "\n",
    "* + \\begin{alignat}{4}\n",
    "       2x &{}+{}& y &{}-{}&  z &{}={}&   8 & \\\\\n",
    "      -3x &{}-{}& y &{}+{}& 2z &{}={}& -11 & \\\\\n",
    "      -2x &{}+{}& y &{}+{}& 2z &{}={}&  -3 &\n",
    "    \\end{alignat}\n",
    "  + \n",
    "  + \\begin{align}\n",
    "    \\left[\\begin{array}{rrr|r}\n",
    "       2 &  1 & -1 &   8 \\\\\n",
    "      -3 & -1 &  2 & -11 \\\\\n",
    "      -2 &  1 &  2 &  -3\n",
    "    \\end{array}\\right]\n",
    "    \\nonumber\n",
    "    \\end{align}\n",
    "\n",
    "* + \\begin{alignat}{4}\n",
    "      2x &{}+{}&          y &{}-{}&          z &{}={}& 8 & \\\\\n",
    "         &     & \\tfrac12 y &{}+{}& \\tfrac12 z &{}={}& 1 & \\\\\n",
    "         &     &         2y &{}+{}&          z &{}={}& 5 &\n",
    "    \\end{alignat}\n",
    "  + \\begin{align}\n",
    "      L_2 + \\tfrac32 L_1 &\\to L_2 \\\\\n",
    "      L_3 +          L_1 &\\to L_3\n",
    "    \\end{align}\n",
    "  + \\begin{align}\n",
    "    \\left[\\begin{array}{rrr|r}\n",
    "      2 &      1  &     -1  & 8 \\\\\n",
    "      0 & \\frac12 & \\frac12 & 1 \\\\\n",
    "      0 &      2  &      1  & 5\n",
    "    \\end{array}\\right]\n",
    "    \\end{align}\n",
    "\n",
    "* + \\begin{alignat}{4}\n",
    "      2x &{}+{}&          y &{}-{}&          z &{}={}& 8 & \\\\\n",
    "         &     & \\tfrac12 y &{}+{}& \\tfrac12 z &{}={}& 1 & \\\\\n",
    "         &     &            &     &         -z &{}={}& 1 &\n",
    "    \\end{alignat}\n",
    "  + \\begin{align}\n",
    "      L_3 + -4 L_2 \\to L_3\n",
    "    \\end{align}\n",
    "  + \\begin{align}\n",
    "    \\left[\\begin{array}{rrr|r}\n",
    "      2 &      1  &     -1  & 8 \\\\\n",
    "      0 & \\frac12 & \\frac12 & 1 \\\\\n",
    "      0 &      0  &     -1  & 1\n",
    "    \\end{array}\\right]\n",
    "    \\end{align}\n",
    "`````"
   ]
  },
  {
   "cell_type": "markdown",
   "id": "24",
   "metadata": {},
   "source": [
    "The matrix is now in echelon form (also called triangular form):\n",
    "\n",
    "`````{list-table}\n",
    ":header-rows: 1\n",
    "* + System of equations\n",
    "  + Row operations\n",
    "  + Augmented matrix\n",
    "\n",
    "* + \\begin{alignat}{4}\n",
    "      2x &{}+{}&          y &     &   &{}={}       7  & \\\\\n",
    "         &     & \\tfrac12 y &     &   &{}={} \\tfrac32 & \\\\\n",
    "         &     &            &{}-{}& z &{}={}       1  &\n",
    "    \\end{alignat}\n",
    "  + \\begin{align}\n",
    "      L_1 -          L_3 &\\to L_1\\\\\n",
    "      L_2 + \\tfrac12 L_3 &\\to L_2 \n",
    "    \\end{align}\n",
    "  + \\begin{align}\n",
    "    \\left[\\begin{array}{rrr|r}\n",
    "      2 &      1  &  0 &      7  \\\\\n",
    "      0 & \\frac12 &  0 & \\frac32 \\\\\n",
    "      0 &      0  & -1 &      1\n",
    "    \\end{array}\\right]\n",
    "    \\end{align}\n",
    "\n",
    "* + \\begin{alignat}{4}\n",
    "      2x &{}+{}& y &\\quad&   &{}={}&  7 & \\\\\n",
    "         &     & y &\\quad&   &{}={}&  3 & \\\\\n",
    "         &     &   &\\quad& z &{}={}& -1 &\n",
    "    \\end{alignat}\n",
    "  + \\begin{align}\n",
    "       2 L_2 &\\to L_2 \\\\\n",
    "      -L_3 &\\to L_3\n",
    "    \\end{align}\n",
    "  + \\begin{align}\n",
    "    \\left[\\begin{array}{rrr|r}\n",
    "      2 & 1 & 0 &  7 \\\\\n",
    "      0 & 1 & 0 &  3 \\\\\n",
    "      0 & 0 & 1 & -1\n",
    "    \\end{array}\\right]\n",
    "    \\end{align}\n",
    "\n",
    "* + \\begin{alignat}{4}\n",
    "      x &\\quad&   &\\quad&   &{}={}&  2 & \\\\\n",
    "        &\\quad& y &\\quad&   &{}={}&  3 & \\\\\n",
    "        &\\quad&   &\\quad& z &{}={}& -1 &\n",
    "    \\end{alignat}\n",
    "  + \\begin{align}\n",
    "               L_1 - L_2 &\\to L_1 \\\\\n",
    "      \\tfrac12 L_1       &\\to L_1\n",
    "    \\end{align}\n",
    "  + \\begin{align}\n",
    "    \\left[\\begin{array}{rrr|r}\n",
    "      1 & 0 & 0 &  2 \\\\\n",
    "      0 & 1 & 0 &  3 \\\\\n",
    "      0 & 0 & 1 & -1\n",
    "    \\end{array}\\right]\n",
    "    \\end{align}\n",
    "`````"
   ]
  },
  {
   "cell_type": "markdown",
   "id": "25",
   "metadata": {},
   "source": [
    "Below is a simple example comparing **naive Gaussian Elimination** (no pivoting) with **partial pivoting** on a small system.\n",
    "While this code is for illustrative purposes (and not as robust as `numpy.linalg.solve()`), it shows the basic process."
   ]
  },
  {
   "cell_type": "code",
   "execution_count": null,
   "id": "26",
   "metadata": {},
   "outputs": [],
   "source": [
    "import numpy as np\n",
    "\n",
    "def gaussian_elimination_naive(A, b):\n",
    "    \"\"\"\n",
    "    Perform naive (no pivoting) Gaussian elimination to solve A x = b.\n",
    "    Returns the solution vector x.\n",
    "    \"\"\"\n",
    "    A = A.astype(float)  # Ensure floating-point\n",
    "    b = b.astype(float)\n",
    "    n = A.shape[0]\n",
    "\n",
    "    # Forward elimination\n",
    "    for k in range(n-1):\n",
    "        for i in range(k+1, n):\n",
    "            if A[k, k] == 0:\n",
    "                raise ValueError(\"Zero pivot encountered (no pivoting).\")\n",
    "            factor = A[i, k] / A[k, k]\n",
    "            for j in range(k, n):\n",
    "                A[i, j] -= factor * A[k, j]\n",
    "            b[i] -= factor * b[k]\n",
    "\n",
    "    # Back-substitution\n",
    "    x = np.zeros(n)\n",
    "    for i in reversed(range(n)):\n",
    "        s = b[i]\n",
    "        for j in range(i+1, n):\n",
    "            s -= A[i, j] * x[j]\n",
    "        x[i] = s / A[i, i]\n",
    "    return x"
   ]
  },
  {
   "cell_type": "code",
   "execution_count": null,
   "id": "27",
   "metadata": {},
   "outputs": [],
   "source": [
    "def gaussian_elimination_partial_pivot(A, b):\n",
    "    \"\"\"\n",
    "    Gaussian elimination with partial pivoting to solve A x = b.\n",
    "    Returns the solution vector x.\n",
    "    \"\"\"\n",
    "    A = A.astype(float)\n",
    "    b = b.astype(float)\n",
    "    n = A.shape[0]\n",
    "\n",
    "    # Forward elimination with partial pivoting\n",
    "    for k in range(n-1):\n",
    "        # Pivot selection: find max pivot in column k\n",
    "        pivot_row = np.argmax(np.abs(A[k:, k])) + k\n",
    "        if A[pivot_row, k] == 0:\n",
    "            raise ValueError(\"Matrix is singular or pivot is zero.\")\n",
    "        # Swap rows if needed\n",
    "        if pivot_row != k:\n",
    "            A[[k, pivot_row]] = A[[pivot_row, k]]\n",
    "            b[k], b[pivot_row] = b[pivot_row], b[k]\n",
    "\n",
    "        for i in range(k+1, n):\n",
    "            factor = A[i, k] / A[k, k]\n",
    "            A[i, k:] = A[i, k:] - factor * A[k, k:]\n",
    "            b[i] = b[i] - factor * b[k]\n",
    "\n",
    "    # Back-substitution\n",
    "    x = np.zeros(n)\n",
    "    for i in reversed(range(n)):\n",
    "        s = b[i]\n",
    "        for j in range(i+1, n):\n",
    "            s -= A[i, j] * x[j]\n",
    "        x[i] = s / A[i, i]\n",
    "    return x"
   ]
  },
  {
   "cell_type": "code",
   "execution_count": null,
   "id": "28",
   "metadata": {},
   "outputs": [],
   "source": [
    "A = np.random.random((3, 3))\n",
    "b = np.random.random((3))\n",
    "\n",
    "print(\"Naive Gaussian Elimination:\")\n",
    "x_naive = gaussian_elimination_naive(A.copy(), b.copy())\n",
    "print(\"Solution:\", x_naive, end=\"\\n\\n\")\n",
    "\n",
    "print(\"Gaussian Elimination with Partial Pivoting:\")\n",
    "x_pivot = gaussian_elimination_partial_pivot(A.copy(), b.copy())\n",
    "print(\"Solution:\", x_pivot, end=\"\\n\\n\")\n",
    "\n",
    "# Compare with numpy's solve\n",
    "x_np = np.linalg.solve(A.copy(), b.copy())\n",
    "print(\"Numpy's solve:\")\n",
    "print(\"Solution:\", x_np)"
   ]
  },
  {
   "cell_type": "markdown",
   "id": "29",
   "metadata": {},
   "source": [
    "### $LU$ Decomposition\n",
    "\n",
    "$LU$ Decomposition is a systematic way to express $A$ as $A = P L U$, where:\n",
    "* $P$ is a permutation matrix\n",
    "* $L$ is lower triangular (with 1s on the diagonal following the standard convention).\n",
    "* $U$ is upper triangular.\n",
    "\n",
    "Once $A$ is factored as $P L U$, solving $A\\mathbf{x} = \\mathbf{b}$ becomes:\n",
    "1. $L \\mathbf{y} = P^t \\mathbf{b}$ (forward substitution)\n",
    "2. $U \\mathbf{x} = \\mathbf{y}$ (back-substitution)\n",
    "\n",
    "Gaussian elimination essentially constructs the $L$ and $U$ matrices behind the scenes:\n",
    "* The multipliers used in the row operations become the entries of $L$.\n",
    "* The final upper-triangular form is $U$."
   ]
  },
  {
   "cell_type": "code",
   "execution_count": null,
   "id": "30",
   "metadata": {},
   "outputs": [],
   "source": [
    "import scipy.linalg as la\n",
    "\n",
    "# Perform LU decomposition with pivoting\n",
    "P, L, U = la.lu(A)  # P is the permutation matrix\n",
    "\n",
    "print(\"Permutation matrix P:\")\n",
    "print(P)\n",
    "print(\"Lower triangular matrix L:\")\n",
    "print(L)\n",
    "print(\"Upper triangular matrix U:\")\n",
    "print(U, end=\"\\n\\n\")\n",
    "\n",
    "# Forward substitution for L y = Pt b\n",
    "y = la.solve_triangular(L, np.dot(P.T, b), lower=True, unit_diagonal=True)\n",
    "# Back substitution for U x = y\n",
    "x_LU = la.solve_triangular(U, y)\n",
    "\n",
    "print(\"Solution using LU decomposition:\", x_LU)\n",
    "print(\"Check with np.linalg.solve(A, b):\", np.linalg.solve(A, b))"
   ]
  },
  {
   "cell_type": "markdown",
   "id": "31",
   "metadata": {},
   "source": [
    "## Matrix Inverse\n",
    "\n",
    "Although the matrix **inverse** $A^{-1}$ is a central theoretical concept, **explicitly** forming $A^{-1}$ just to solve $A \\mathbf{x} = \\mathbf{b}$ is almost always unnecessary and can degrade numerical stability.\n",
    "Instead, direct approaches (like Gaussian Elimination or LU factorization) find $\\mathbf{x}$ with fewer operations and less error accumulation.\n",
    "Both methods cost about $\\mathcal{O}(n^3)$, but computing the entire inverse introduces extra steps and can magnify floating-point errors.\n",
    "\n",
    "In **rare** cases, you might actually need $A^{-1}$. For example, when:\n",
    "* **Multiple Right-Hand Sides**: If you must solve $A \\mathbf{x} = \\mathbf{b}_i$ for many different $\\mathbf{b}_i$, you might form or approximate $A^{-1}$ for convenience.\n",
    "* **Inverse-Related Operations**: Some advanced algorithms (e.g., computing discrete Green's functions or certain control theory design methods) explicitly require elements of the inverse.\n",
    "\n",
    "Below is a **demonstration** in Python, showing how to compute the inverse using `np.linalg.inv()`—though in practice, it's generally safer and more efficient to solve individual systems via a factorization method."
   ]
  },
  {
   "cell_type": "code",
   "execution_count": null,
   "id": "32",
   "metadata": {},
   "outputs": [],
   "source": [
    "# Simple 2x2 matrix\n",
    "A = np.array([[2.0, 1.0],\n",
    "              [1.0, 2.0]], dtype=float)\n",
    "\n",
    "# Compute inverse using NumPy\n",
    "A_inv = np.linalg.inv(A)\n",
    "print(\"Inverse of A:\\n\", A_inv)\n",
    "\n",
    "# Verify A_inv is indeed the inverse\n",
    "I_check = A @ A_inv\n",
    "print(\"\\nCheck A * A_inv = I ?\\n\", I_check)"
   ]
  },
  {
   "cell_type": "markdown",
   "id": "33",
   "metadata": {},
   "source": [
    "## Iterative Solvers for Large/Sparse Systems\n",
    "\n",
    "* **Large-Scale Problems**: PDE discretizations in 2D/3D can easily lead to systems with millions of unknowns, making $\\mathcal{O}(n^3)$ direct approaches infeasible.  \n",
    "* **Sparse Matrices**: Many physical systems produce matrices with a significant number of zero entries.\n",
    "  Iterative methods typically access only nonzero elements each iteration, saving time and memory.  \n",
    "* **Scalability**: On parallel architectures (clusters, GPUs), iterative methods often scale better than direct factorizations."
   ]
  },
  {
   "cell_type": "markdown",
   "id": "34",
   "metadata": {},
   "source": [
    "### Jacobi Iteration\n",
    "\n",
    "1. **Idea:** Rewrite $A\\mathbf{x} = \\mathbf{b}$ as $\\mathbf{x} = D^{-1}(\\mathbf{b} - R\\mathbf{x})$, where $D$ is the diagonal of $A$ and $R$ is the remainder.  \n",
    "2. **Update Rule:**\n",
    "   \\begin{align}\n",
    "     x_i^{(k+1)} = \\frac{1}{a_{ii}} \\Big(b_i - \\sum_{j \\neq i} a_{ij} x_j^{(k)}\\Big).\n",
    "   \\end{align}\n",
    "3. **Pros/Cons:**\n",
    "   - **Easy to implement**; each iteration updates $\\mathbf{x}$ using only values from the previous iteration.  \n",
    "   - **Slow convergence** unless $A$ is well-conditioned (e.g., diagonally dominant)."
   ]
  },
  {
   "cell_type": "code",
   "execution_count": null,
   "id": "35",
   "metadata": {},
   "outputs": [],
   "source": [
    "def jacobi_iteration(A, b, max_iter=1000, tol=1e-8):\n",
    "    \"\"\"\n",
    "    Solve A x = b using Jacobi iteration.\n",
    "    A is assumed to be square with non-zero diagonal.\n",
    "    \"\"\"\n",
    "    n = A.shape[0]\n",
    "    x = np.zeros(n)\n",
    "    \n",
    "    for k in range(max_iter):\n",
    "        x_old = np.copy(x)\n",
    "        for i in range(n):\n",
    "            # Sum over off-diagonal terms\n",
    "            s = 0.0\n",
    "            for j in range(n):\n",
    "                if j != i:\n",
    "                    s += A[i,j] * x_old[j]\n",
    "            x[i] = (b[i] - s) / A[i, i]\n",
    "        \n",
    "        # Check for convergence\n",
    "        if np.linalg.norm(x - x_old, ord=np.inf) < tol:\n",
    "            print(f\"Jacobi converged in {k+1} iterations.\")\n",
    "            return x\n",
    "    \n",
    "    print(\"Jacobi did not fully converge within max_iter.\")\n",
    "    return x"
   ]
  },
  {
   "cell_type": "code",
   "execution_count": null,
   "id": "36",
   "metadata": {},
   "outputs": [],
   "source": [
    "# Example system (small, but let's pretend it's \"sparse\")\n",
    "A = np.array([[4.0, -1.0, 0.0],\n",
    "              [-1.0, 4.0, -1.0],\n",
    "              [0.0, -1.0, 4.0]], dtype=float)\n",
    "b = np.array([6.0, 6.0, 6.0], dtype=float)\n",
    "\n",
    "x_jacobi = jacobi_iteration(A, b)\n",
    "print(\"Jacobi solution:\", x_jacobi)\n",
    "print(\"Direct solve comparison:\", np.linalg.solve(A, b))"
   ]
  },
  {
   "cell_type": "markdown",
   "id": "37",
   "metadata": {},
   "source": [
    "### Gauss-Seidel\n",
    "\n",
    "Gauss-Seidel iteration is closely related to Jacobi but typically converges faster for many problems, particularly if the system matrix is strictly or diagonally dominant.\n",
    "\n",
    "1. **Idea:**\n",
    "   * Instead of using only the old iteration values (from step $k$), Gauss-Seidel uses the most recent updates within the same iteration.\n",
    "   * This often provides faster convergence because you incorporate newly computed values immediately rather than waiting for the next iteration.\n",
    "3. **Update Rule:**\n",
    "   \\begin{align}\n",
    "     x_i^{(k+1)} = \\frac{1}{a_{ii}} \\Big( b_i - \\sum_{j < i} a_{ij} x_j^{(k+1)} - \\sum_{j > i} a_{ij} x_j^{(k)} \\Big).\n",
    "   \\end{align}\n",
    "   Note that $\\mathbf{x}^{(k+1)}$ is already partially updated (for $j < i$).\n",
    "5. **Convergence Properties:**\n",
    "   * Gauss-Seidel can be shown to converge for strictly diagonally dominant matrices, and often outperforms Jacobi in practice.\n",
    "   * Still relatively slow for large, ill-conditioned systems."
   ]
  },
  {
   "cell_type": "markdown",
   "id": "38",
   "metadata": {},
   "source": [
    "# Eigenvalue Problems\n",
    "\n",
    "Eigenvalue problems lie at the heart of many physics applications, including **normal mode analysis**, **quantum Hamiltonians**, and **stability analyses**.\n",
    "\n",
    "1. **Normal Modes**\n",
    "   * Vibrational analyses of structures or molecules reduce to $K \\mathbf{x} = \\omega^2 M \\mathbf{x}$.\n",
    "     The solutions are eigenpairs $(\\omega^2, \\mathbf{x})$.\n",
    "   * Each eigenvector $\\mathbf{x}$ describes a **mode shape**; the eigenvalue $\\omega^2$ is the squared frequency.\n",
    "\n",
    "2. **Quantum Hamiltonians**\n",
    "   * The Schrödinger equation in matrix form $\\hat{H} |E\\rangle = E |E\\rangle$ yields eigenvalues $E$ (energy levels) and eigenstates $|E\\rangle$.\n",
    "   * Collecting all eigenvectors (as columns) in a matrix **diagonalizes** $\\hat{H}$ if it is Hermitian.\n",
    "\n",
    "3. **Stability & Modal Analysis**\n",
    "   * A linearized system near equilibrium produces a Jacobian $J$.\n",
    "     Eigenvalues of $J$ show growth/decay rates of perturbations.\n",
    "   * If real parts of eigenvalues are negative, the system is stable; if positive, it's unstable."
   ]
  },
  {
   "cell_type": "markdown",
   "id": "39",
   "metadata": {},
   "source": [
    "### The Eigenvalue Problem\n",
    "\n",
    "Given an $n \\times n$ matrix $A$, the **eigenvalue problem** seeks scalars $\\lambda$ (eigenvalues) and nonzero vectors $\\mathbf{v}$ (eigenvectors) such that:\n",
    "\\begin{align}\n",
    "A \\mathbf{v} = \\lambda \\mathbf{v}.\n",
    "\\end{align}\n",
    "\n",
    "* **Eigenvalues** can be real or complex.  \n",
    "* **Eigenvectors** identify the directions in which $A$ acts as a simple scale transformation ($\\lambda$)."
   ]
  },
  {
   "cell_type": "markdown",
   "id": "40",
   "metadata": {},
   "source": [
    "### Power Method for the Dominant Eigenpair\n",
    "\n",
    "The **Power Method** is a straightforward iterative technique for finding the eigenpair associated with the largest-magnitude eigenvalue:\n",
    "\n",
    "1. **Algorithm Sketch**  \n",
    "   * Begin with an initial vector $\\mathbf{x}^{(0)}$.\n",
    "   * Apply $A$ repeatedly and normalize:\n",
    "     \\begin{align}\n",
    "       \\mathbf{x}^{(k+1)} = \\frac{A \\mathbf{x}^{(k)}}{\\|A \\mathbf{x}^{(k)}\\|}.\n",
    "     \\end{align}\n",
    "   * Converges to the eigenvector of the eigenvalue with the largest magnitude, assuming it's distinct.\n",
    "\n",
    "2. **Limitations**  \n",
    "   * Only computes one eigenvalue/eigenvector.  \n",
    "   * Convergence can be slow if other eigenvalues have magnitude close to the dominant one."
   ]
  },
  {
   "cell_type": "code",
   "execution_count": null,
   "id": "41",
   "metadata": {},
   "outputs": [],
   "source": [
    "def power_method(A, max_iter=1000, tol=1e-8):\n",
    "    \"\"\"\n",
    "    Returns (lambda_dom, v_dom), the eigenvalue of largest magnitude and its eigenvector.\n",
    "    \"\"\"\n",
    "    n = A.shape[0]\n",
    "    v = np.ones(n)\n",
    "    v /= np.linalg.norm(v)\n",
    "    \n",
    "    lam_old = 0.0\n",
    "    for _ in range(max_iter):\n",
    "        w = A @ v # matrix multiplication\n",
    "        lam = np.linalg.norm(w)\n",
    "        v = w / lam\n",
    "        if abs(lam - lam_old) < tol:\n",
    "            return lam, v\n",
    "        lam_old = lam\n",
    "    return lam, v"
   ]
  },
  {
   "cell_type": "code",
   "execution_count": null,
   "id": "42",
   "metadata": {},
   "outputs": [],
   "source": [
    "# Test the Power Method\n",
    "A_test = np.array([[2, 1],\n",
    "                   [1, 3]], dtype=float)\n",
    "lam_dom, v_dom = power_method(A_test)\n",
    "print(\"Dominant eigenvalue (Power Method):\", lam_dom)\n",
    "print(\"Corresponding eigenvector:\", v_dom, end=\"\\n\\n\")\n",
    "\n",
    "# Compare with NumPy\n",
    "vals, vecs = np.linalg.eig(A_test)\n",
    "idx = np.argmax(np.abs(vals))\n",
    "print(\"Numpy's dominant eigenvalue:\", vals[idx])\n",
    "print(\"Numpy's eigenvector:\", vecs[:, idx])"
   ]
  },
  {
   "cell_type": "markdown",
   "id": "43",
   "metadata": {},
   "source": [
    "### QR Algorithm for Dense Matrices\n",
    "\n",
    "For dense matrices of moderate size, the $QR$ algorithm (or related methods) is the workhorse for computing all eigenvalues (and optionally eigenvectors).\n",
    "\n",
    "1. **Idea:**\n",
    "   * Repeatedly factor $A$ as $QR$ ($Q$ orthonormal, $R$ upper triangular).\n",
    "   * Set $A \\leftarrow RQ$.\n",
    "   * After enough iterations, $A$ becomes near-upper-triangular, revealing the eigenvalues on its diagonal.\n",
    "2. Practical Approach\n",
    "   * In Python, use `numpy.linalg.eig` or `numpy.linalg.eigh` (for Hermitian matrices).\n",
    "   * These functions wrap optimized LAPACK routines implementing $QR$ or related transformations (e.g., divide-and-conquer, multiple relatively robust representations (MRRR))."
   ]
  },
  {
   "cell_type": "code",
   "execution_count": null,
   "id": "44",
   "metadata": {},
   "outputs": [],
   "source": [
    "A = np.array([[4,  1,  2],\n",
    "              [1,  3,  1],\n",
    "              [2,  1,  5]], dtype=float)\n",
    "\n",
    "vals, vecs = np.linalg.eig(A)\n",
    "print(\"Eigenvalues:\", vals)\n",
    "print(\"Eigenvectors (columns):\\n\", vecs)"
   ]
  },
  {
   "cell_type": "markdown",
   "id": "45",
   "metadata": {},
   "source": [
    "## Future Topics\n",
    "\n",
    "### Singular Value Decomposition (SVD)\n",
    "\n",
    "The **singular value decomposition** (SVD) factorizes a matrix $A$ into $U \\Sigma V^T$, where $U$ and $V$ are orthonormal matrices and $\\Sigma$ is diagonal with singular values.\n",
    "This decomposition describes how $A$ stretches vectors in orthogonal directions and provides the best low-rank approximation of $A$.\n",
    "In practice, the SVD is immensely valuable for data compression and noise reduction, especially in problems where $A$ may be ill-conditioned.\n",
    "By leveraging its numerical stability, the SVD is frequently used to compute pseudoinverses in cases where direct inversion is error-prone."
   ]
  },
  {
   "cell_type": "markdown",
   "id": "46",
   "metadata": {},
   "source": [
    "### Principal Component Analysis (PCA)\n",
    "\n",
    "**Principal Component Analysis** (PCA) is a data-driven method that identifies the directions of maximum variance in high-dimensional data, typically by applying the SVD to a mean-centered data matrix.\n",
    "In physics and related fields, PCA helps extract features and reduce noise in large experimental or simulation datasets.\n",
    "By finding a small number of orthogonal \"principal components\", researchers can focus on dominant modes or patterns in the data, often leading to simpler models and clearer insights.\n",
    "\n",
    "These topics will be explored in more detail later, when we delve into data modeling and machine learning.\n",
    "Both SVD and PCA are foundational tools for dimensionality reduction, feature engineering, and tackling ill-conditioned or noisy data challenges."
   ]
  }
 ],
 "metadata": {
  "kernelspec": {
   "display_name": "Python 3 (ipykernel)",
   "language": "python",
   "name": "python3"
  },
  "language_info": {
   "codemirror_mode": {
    "name": "ipython",
    "version": 3
   },
   "file_extension": ".py",
   "mimetype": "text/x-python",
   "name": "python",
   "nbconvert_exporter": "python",
   "pygments_lexer": "ipython3",
   "version": "3.12.6"
  }
 },
 "nbformat": 4,
 "nbformat_minor": 5
}
