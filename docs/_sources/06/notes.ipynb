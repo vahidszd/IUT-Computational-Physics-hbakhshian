{
 "cells": [
  {
   "cell_type": "markdown",
   "id": "0",
   "metadata": {},
   "source": [
    "# Interpolation and Extrapolation\n",
    "\n",
    "This lecture follows closely [Numerical Recipes](https://numerical.recipes/) 2nd Edition in C and 3rd Edition in C++, Chapter 3 \"Interpolation and Extrapolation\"."
   ]
  },
  {
   "cell_type": "markdown",
   "id": "1",
   "metadata": {},
   "source": [
    "## Introduction\n",
    "\n",
    "In scientific computing and machine learning, interpolation and extrapolation are fundamental tools for estimating function values at new data points based on known information.\n",
    "* In machine learning, all standard supervised learning tasks can be viewed as interpolation problems in high-dimensional space. Here, models predict outputs **within the range** of their training data.\n",
    "* However, when attempting to make predictions outside this range, we face significant challenges in making reliable extrapolations.\n",
    "  Extrapolation is a particularly challenging task because models typically lack information  beyond their training data."
   ]
  },
  {
   "cell_type": "markdown",
   "id": "2",
   "metadata": {},
   "source": [
    "### Interpolation Methods\n",
    "\n",
    "Interpolation plays a crucial role in scientific computing and machine learning by estimating function values at new data points based on known information.\n",
    "\n",
    "* Polynomial interpolation is versatile but can exhibit significant oscillations, particularly at the edges of data (Runge's phenomenon).\n",
    "* This can be mitigated by using rational functions, which offer more stable estimates and are better suited to handle asymptotic behavior.\n",
    "* Spline interpolation, especially cubic splines, is valued for its smoothness and continuity up to the second derivative. This makes it effective for applications requiring a smooth fit."
   ]
  },
  {
   "cell_type": "markdown",
   "id": "3",
   "metadata": {},
   "source": [
    "### Challenges with Extrapolation\n",
    "\n",
    "Extrapolation remains a difficult task, yet physics-informed machine learning (PIML) presents a promising avenue.\n",
    "By embedding known physical laws, such as ordinary differential equations (ODEs), into models, PIML enables extrapolation that aligns with fundamental constraints. This allows for meaningful extensions of predictions beyond the observed data range."
   ]
  },
  {
   "cell_type": "markdown",
   "id": "4",
   "metadata": {},
   "source": [
    "### Distinguishing Interpolation and Function Approximation\n",
    "\n",
    "Interpolation and function approximation are related but distinct tasks:\n",
    "\n",
    "* Interpolation estimates values at specified points within a given dataset.\n",
    "* In contrast, function approximation creates a simplified function to replace a more complex one.\n",
    "  This approach can be used to sample additional points as needed.\n",
    "* (See [Numerical Recipes](https://numerical.recipes/) Chapter 5 for function approximation.)"
   ]
  },
  {
   "cell_type": "markdown",
   "id": "5",
   "metadata": {},
   "source": [
    "### Limitations of Interpolation\n",
    "\n",
    "Even the most sophisticated interpolation schemes can fail when faced with pathological functions.\n",
    "For instance, consider a function that behaves smoothly except for a slight singularity at a certain point:\n",
    "\\begin{align}\n",
    "f(x) = 3x^2 + \\frac{1}{\\pi^4}\\ln\\left[(\\pi - x)^2\\right] + 1\n",
    "\\end{align}\n",
    "\n",
    "Interpolation based on values close to but not precisely at that singularity will likely produce an inaccurate result."
   ]
  },
  {
   "cell_type": "code",
   "execution_count": null,
   "id": "6",
   "metadata": {},
   "outputs": [],
   "source": [
    "import numpy as np\n",
    "\n",
    "def f(x):\n",
    "    return 3 * x**2 + np.log((np.pi - x)**2) / np.pi**4 + 1\n",
    "\n",
    "x1 = np.linspace(3.13, 3.16, 3+1)\n",
    "x2 = np.linspace(3.13, 3.16, 30+1)\n",
    "x3 = np.linspace(3.13, 3.16, 300+1)\n",
    "x4 = np.linspace(3.13, 3.16, 3000+1)"
   ]
  },
  {
   "cell_type": "code",
   "execution_count": null,
   "id": "7",
   "metadata": {},
   "outputs": [],
   "source": [
    "from matplotlib import pyplot as plt\n",
    "\n",
    "plt.plot(x4, f(x4),       label='3001 points')\n",
    "plt.plot(x3, f(x3), '--', label='301 points')\n",
    "plt.plot(x2, f(x2), 'o:', label='31 points')\n",
    "plt.plot(x1, f(x1), 'o-', label='4 points')\n",
    "plt.legend()"
   ]
  },
  {
   "cell_type": "markdown",
   "id": "8",
   "metadata": {},
   "source": [
    "These cases highlight the importance of having some error estimates in interpolation routines."
   ]
  },
  {
   "cell_type": "markdown",
   "id": "9",
   "metadata": {},
   "source": [
    "## Preliminaries: Searching an Ordered Table\n",
    "\n",
    "In many interpolation tasks, especially with irregularly sampled data, the process begins with a critical first step: identifying the nearest points surrounding the target interpolation value.\n",
    "\n",
    "Unlike regularly spaced data on a uniform grid, where adjacent points are easy to locate by simple indexing, randomly sampled or unevenly spaced data requires additional steps to find nearby values.\n",
    "This searching step can be as computationally intensive as the interpolation itself, so efficient search methods are essential to maintain overall performance.\n",
    "\n",
    "In Numerical Recipes, two primary methods are presented for this purpose: bisection and hunting.\n",
    "Each is suited to different scenarios, depending on whether interpolation points tend to be close to one another or scattered randomly."
   ]
  },
  {
   "cell_type": "markdown",
   "id": "10",
   "metadata": {},
   "source": [
    "### Linear Search\n",
    "\n",
    "As a reference, we will implement a linear search:"
   ]
  },
  {
   "cell_type": "code",
   "execution_count": null,
   "id": "11",
   "metadata": {},
   "outputs": [],
   "source": [
    "def linear(xs, target):\n",
    "    for l in range(len(xs)): # purposely use for-loop to avoid C optimization in numpy\n",
    "        if xs[l] >= target:\n",
    "            return l-1"
   ]
  },
  {
   "cell_type": "code",
   "execution_count": null,
   "id": "12",
   "metadata": {},
   "outputs": [],
   "source": [
    "import numpy as np\n",
    "\n",
    "for _ in range(10):\n",
    "    xs = np.sort(np.random.uniform(0, 100, 10))\n",
    "    v  = np.random.uniform(min(xs), max(xs))\n",
    "    i  = linear(xs, v)\n",
    "    print(f'{xs[i]} <= {v} < {xs[i+1]}')"
   ]
  },
  {
   "cell_type": "markdown",
   "id": "13",
   "metadata": {},
   "source": [
    "### Bisection Search\n",
    "\n",
    "Bisection search is a reliable method that works by dividing the search interval in half with each step until the target value's position is found.\n",
    "Given a sorted array of $N$ data points, this method requires approximately $\\log_2(N)$ steps to locate the closest point, making it efficient even for large datasets.\n",
    "Bisection is particularly useful when interpolation requests are uncorrelated—meaning there is no pattern in the sequence of target points that could be exploited for faster searching."
   ]
  },
  {
   "cell_type": "code",
   "execution_count": null,
   "id": "14",
   "metadata": {},
   "outputs": [],
   "source": [
    "def bisection(xs, target):\n",
    "    l, h = 0, len(xs) - 1\n",
    "    while h - l > 1:\n",
    "        m = (h + l) // 2\n",
    "        if target >= xs[m]:\n",
    "            l = m\n",
    "        else:\n",
    "            h = m\n",
    "    return l # returns index of the closest value less than or equal to target"
   ]
  },
  {
   "cell_type": "markdown",
   "id": "15",
   "metadata": {},
   "source": [
    "The above function efficiently narrows down the interval to locate the index of the nearest value.\n",
    "\n",
    "We can perform some tests:"
   ]
  },
  {
   "cell_type": "code",
   "execution_count": null,
   "id": "16",
   "metadata": {},
   "outputs": [],
   "source": [
    "for _ in range(10):\n",
    "    xs = np.sort(np.random.uniform(0, 100, 10))\n",
    "    v  = np.random.uniform(min(xs), max(xs))\n",
    "    i  = bisection(xs, v)\n",
    "    print(f'{xs[i]} <= {v} < {xs[i+1]}')"
   ]
  },
  {
   "cell_type": "markdown",
   "id": "17",
   "metadata": {},
   "source": [
    "### Hunting Method\n",
    "\n",
    "For cases where interpolation points are close together in sequence---common in applications with gradually changing target values---the hunting method offers faster performance than bisection from scratch.\n",
    "Hunting takes advantage of the idea that, if the previous interpolation point is nearby, the search can start close to the last found position and \"hunt\" outward in expanding steps to bracket the target value.\n",
    "Once the bracket is located, the search is refined using a quick bisection.\n",
    "\n",
    "The hunting method is beneficial for correlated data requests, where successive target values are close, as it can skip large portions of the data and converge faster than starting from scratch each time."
   ]
  },
  {
   "cell_type": "code",
   "execution_count": null,
   "id": "18",
   "metadata": {},
   "outputs": [],
   "source": [
    "def hunt(xs, target, i_last):\n",
    "    n = len(xs)\n",
    "    assert 0 <= i_last < n - 1\n",
    "\n",
    "    # Determine the search direction based on the target value\n",
    "    if target >= xs[i_last]:\n",
    "        l, h, step = i_last, min(n-1, i_last+1), 1\n",
    "        while h < n - 1 and target > xs[h]:\n",
    "            l, h = h, min(n-1, h+step)\n",
    "            step *= 2\n",
    "    else:\n",
    "        l, h, step = max(0, i_last-1), i_last, 1\n",
    "        while l > 0 and target < xs[l]:\n",
    "            l, h = max(0, l-step), l\n",
    "            step *= 2\n",
    "\n",
    "    # Refine with bisection within the bracketed range\n",
    "    return bisection(xs[l:h+1], target) + l"
   ]
  },
  {
   "cell_type": "code",
   "execution_count": null,
   "id": "19",
   "metadata": {},
   "outputs": [],
   "source": [
    "i = 5\n",
    "for _ in range(10):\n",
    "    xs = np.sort(np.random.uniform(0, 100, 10))\n",
    "    v  = np.random.uniform(min(xs), max(xs))\n",
    "    i  = hunt(xs, v, i)\n",
    "    print(f'{xs[i]} <= {v} < {xs[i+1]}')"
   ]
  },
  {
   "cell_type": "markdown",
   "id": "20",
   "metadata": {},
   "source": [
    "### Linear Interpolation Using the Hunting Method\n",
    "\n",
    "Once the nearest position is identified, interpolation proceeds with the closest data points.\n",
    "Here, we implement a simple linear interpolation using the hunting method to locate the starting position, then use it to calculate the interpolated value."
   ]
  },
  {
   "cell_type": "code",
   "execution_count": null,
   "id": "21",
   "metadata": {},
   "outputs": [],
   "source": [
    "class Interpolator:\n",
    "    def __init__(self, xs, ys):\n",
    "        assert len(xs) == len(ys)\n",
    "        self.xs, self.ys = xs, ys\n",
    "        self.i_last = len(xs)//2\n",
    "\n",
    "    def __call__(self, target, search_method='hunt'):\n",
    "        if search_method == 'hunt':\n",
    "            i = hunt(self.xs, target, self.i_last)\n",
    "        elif search_method == 'bisection':\n",
    "            i = bisection(self.xs, target)\n",
    "        else:\n",
    "            i = linear(self.xs, target)\n",
    "        self.i_last = i  # Update last position for future hunts\n",
    "\n",
    "        # Linear interpolation using the two nearest points\n",
    "        x0, x1 = self.xs[i], self.xs[i + 1]\n",
    "        y0, y1 = self.ys[i], self.ys[i + 1]\n",
    "\n",
    "        return (y1 - y0) * (target - x0) / (x1 - x0) + y0"
   ]
  },
  {
   "cell_type": "code",
   "execution_count": null,
   "id": "22",
   "metadata": {},
   "outputs": [],
   "source": [
    "def f(x):\n",
    "    return np.exp(-0.5 * x * x)\n",
    "\n",
    "Xs = np.sort(np.random.uniform(-5, 5, 20))\n",
    "Ys = f(Xs)\n",
    "\n",
    "fi = Interpolator(Xs, Ys)"
   ]
  },
  {
   "cell_type": "code",
   "execution_count": null,
   "id": "23",
   "metadata": {},
   "outputs": [],
   "source": [
    "xs = np.linspace(min(Xs), max(Xs), 100)\n",
    "ys = np.array([fi(x) for x in xs])\n",
    "\n",
    "plt.plot(xs, ys, '.-', label='Interpolated points')\n",
    "plt.plot(Xs, Ys, 'o',  label='Sampling data')\n",
    "plt.legend()"
   ]
  },
  {
   "cell_type": "markdown",
   "id": "24",
   "metadata": {},
   "source": [
    "Let's test if our claim in terms of performance works in real life."
   ]
  },
  {
   "cell_type": "code",
   "execution_count": null,
   "id": "25",
   "metadata": {},
   "outputs": [],
   "source": [
    "Xs = np.sort(np.random.uniform(-5, 5, 100))\n",
    "Ys = f(Xs)\n",
    "fi = Interpolator(Xs, Ys)\n",
    "\n",
    "xs = np.linspace(min(Xs), max(Xs), 10000)"
   ]
  },
  {
   "cell_type": "code",
   "execution_count": null,
   "id": "26",
   "metadata": {},
   "outputs": [],
   "source": [
    "%timeit ys = np.array([fi(x, search_method='linear') for x in xs])"
   ]
  },
  {
   "cell_type": "code",
   "execution_count": null,
   "id": "27",
   "metadata": {},
   "outputs": [],
   "source": [
    "%timeit ys = np.array([fi(x, search_method='bisection') for x in xs])"
   ]
  },
  {
   "cell_type": "code",
   "execution_count": null,
   "id": "28",
   "metadata": {},
   "outputs": [],
   "source": [
    "%timeit ys = np.array([fi(x, search_method='hunt') for x in xs])"
   ]
  },
  {
   "cell_type": "markdown",
   "id": "29",
   "metadata": {},
   "source": [
    "## Polynomial Interpolation and Extrapolation\n",
    "\n",
    "Given $M$ data points $(x_0, y_0), (x_1, y_1), \\dots, (x_{M-1}, y_{M_1})$, there exists a unique polynomial of degree $M-1$ that pass through all $M$ points exactly."
   ]
  },
  {
   "cell_type": "markdown",
   "id": "30",
   "metadata": {},
   "source": [
    "### Lagrange's formula\n",
    "\n",
    "This polynomial is given by Lagrange's classical formula,\n",
    "\\begin{align}\n",
    "P_{M-1}(x)\n",
    "&= \\frac{(x-x_1)(x-x_2)\\dots(x-x_{M-1})}{(x_0-x_1)(x_0-x_2)\\dots(x_0-x_{M-1})} y_0 \\\\\n",
    "&+ \\frac{(x-x_0)(x-x_2)\\dots(x-x_{M-1})}{(x_1-x_0)(x_1-x_2)\\dots(x_1-x_{M-1})} y_1 + \\dots \\\\\n",
    "&+ \\frac{(x-x_0)(x-x_2)\\dots(x-x_{M-2})}{(x_{M-1}-x_0)(x_{M-1}-x_1)\\dots(x_{M-1}-x_{M-2})} y_{M-1}\n",
    "\\end{align}\n",
    "Using summation and product notations, one may rewrite Lagrange's formula as\n",
    "\\begin{align}\n",
    "P_{M-1}(x)\n",
    "= \\sum_{m=0}^{M-1} \\frac{\\prod_{n=0,n\\ne m}^{M-1}(x-x_n)}{\\prod_{n=0,n\\ne m}^{M-1}(x_m-x_n)} y_m\n",
    "\\end{align}\n",
    "Substituting $x = x_{m'}$ for $0 \\le m; < M$, it is straightforward to show\n",
    "\\begin{align}\n",
    "P_{M-1}(x_{m'})\n",
    "= \\sum_{m=0}^{M-1} \\delta_{mm'} y_m\n",
    "\\end{align}\n",
    "and hence $P_{M-1}(x)$ does pass through all data points."
   ]
  },
  {
   "cell_type": "markdown",
   "id": "31",
   "metadata": {},
   "source": [
    "### Neville's Algorithm\n",
    "\n",
    "Although one may directly implement Lagrange's formula, it does not offer a way to estimate errors.\n",
    "Instead, we will use Neville's algorithm, which constructs an interpolating polynomial by combining values in a recursive manner.\n",
    "This approach avoids some of the issues in Lagrange interpolation and is particularly useful for small sets of points where we need an error estimate along with the interpolation result.\n",
    "\n",
    "Although Numerical Receipts usually give excellent explainations of numerical methods, its section on Neville's Algorithm is a bit confusing.\n",
    "Here, we try to use some python codes to motivate the algorithm step by step."
   ]
  },
  {
   "cell_type": "markdown",
   "id": "32",
   "metadata": {},
   "source": [
    "1. Note that a polynomial of 0 dgree is simply a constant.\n",
    "   We use $P_m$ to denote the 0 degree polynomails that approxmation points $(x_m, y_m)$.\n",
    "   Hence, $P_m = y_m$.\n",
    "   This is represented by the horizontal bars in the following figure."
   ]
  },
  {
   "cell_type": "code",
   "execution_count": null,
   "id": "33",
   "metadata": {},
   "outputs": [],
   "source": [
    "Xs = np.sort(np.random.uniform(-5, 5, 100))\n",
    "Ys = f(Xs)\n",
    "\n",
    "plt.scatter(Xs, Ys, marker='_', color='C0', label=r'$P_m$: polynomials with 0 degree')\n",
    "plt.xlim(-0.5, 0.5)\n",
    "plt.ylim( 0.9, 1.05)\n",
    "plt.legend()"
   ]
  },
  {
   "cell_type": "markdown",
   "id": "34",
   "metadata": {},
   "source": [
    "2. To improve the accuracy of the approximation, we try to linearly interpolate two nearby points $(x_{m'}, y_{m'})$ and $(x_{m'+1}, y_{m'+1})$.\n",
    "   For book keeping reason, we will call this polynomial of 1 degree $P_{m',m'+1}$.\n",
    "   Recall the previous definition $P_{m'} = y_{m'}$ and $P_{m'+1} = y_{m'+1}$,\n",
    "   we may now use the \"two-point form\" and write down:\n",
    "   \\begin{align}\n",
    "   \\frac{P_{m',m'+1} - P_{m'}}{x - x_{m'}} &= \\frac{P_{m'+1} - P_{m'}}{x_{m'+1} - x_{m'}} \\\\\n",
    "   P_{m',m'+1} - P_{m'} &= \\frac{x - x_{m'}}{x_{m'+1} - x_{m'}}(P_{m'+1} - P_{m'}) \\\\\n",
    "   P_{m',m'+1} &= P_{m'} + \\frac{x - x_{m'}}{x_{m'+1} - x_{m'}}(P_{m'+1} - P_{m'}) \\\\\n",
    "   P_{m',m'+1} &= \\frac{x_{m'+1} - x_{m'}}{x_{m'+1} - x_{m'}}P_{m'} + \\frac{x - x_{m'}}{x_{m'+1} - x_{m'}}(P_{m'+1} - P_{m'}) \\\\\n",
    "   P_{m',m'+1} &= \\left(\\frac{x_{m'+1} - x_{m'}}{x_{m'+1} - x_{m'}} - \\frac{x - x_{m'}}{x_{m'+1} - x_{m'}}\\right)P_{m'} + \\frac{x - x_{m'}}{x_{m'+1} - x_{m'}}P_{m'+1} \\\\\n",
    "   P_{m',m'+1} &= \\frac{x_{m'+1} - x}{x_{m'+1} - x_{m'}}P_{m'} + \\frac{x - x_{m'}}{x_{m'+1} - x_{m'}}P_{m'+1} \\\\\n",
    "   P_{m',m'+1} &= \\frac{(x - x_{m'+1})P_{m'} + (x_{m'} - x)P_{m'+1} }{x_{m'} - x_{m'+1}}\n",
    "   \\end{align}\n",
    "   This is nothing but a special case of equation (3.2.3) in Numerical Recipes 3rd Edition in C++."
   ]
  },
  {
   "cell_type": "code",
   "execution_count": null,
   "id": "35",
   "metadata": {},
   "outputs": [],
   "source": [
    "Pmm1s = []\n",
    "for m in range(len(Xs)-1):\n",
    "    Pmm1s.append(lambda x: ((x - Xs[m+1]) * Ys[m] + (Xs[m] - x) * Ys[m+1]) / (Xs[m] - Xs[m+1]))"
   ]
  },
  {
   "cell_type": "code",
   "execution_count": null,
   "id": "36",
   "metadata": {},
   "outputs": [],
   "source": [
    "plt.scatter(Xs, Ys, marker='_', color='C0', label=r'$P_m$: polynomials with 0 degree')\n",
    "\n",
    "label = r'$P_{m,m+1}$: polynomials with 1 degree'\n",
    "for m, Pmm1 in enumerate(Pmm1s):\n",
    "    xs = np.linspace(Xs[m], Xs[m+1], 100)\n",
    "    ys = Pmm1(xs)\n",
    "    plt.plot(xs, ys, color='C1', label=label)\n",
    "    label = None\n",
    "\n",
    "plt.xlim(-0.5, 0.5)\n",
    "plt.ylim( 0.9, 1.05)\n",
    "plt.legend()"
   ]
  },
  {
   "cell_type": "markdown",
   "id": "37",
   "metadata": {},
   "source": [
    "3. By the same token, to improve the accuracy of the approximation, we linearly interpolate $P_{m'',m''+1}$ and $P_{m''+1,m''+2}$.\n",
    "   We will call this polynomial of 2 degrees $P_{m'',m''+1,m''+2}$:\n",
    "   \\begin{align}\n",
    "   P_{m'',m''+1,m''+2} &= \\frac{(x - x_{m''+2})P_{m'',m''+1} + (x_{m''} - x)P_{m''+1,m''+2} }{x_{m'} - x_{m'+2}}.\n",
    "   \\end{align}"
   ]
  },
  {
   "cell_type": "code",
   "execution_count": null,
   "id": "38",
   "metadata": {},
   "outputs": [],
   "source": [
    "Pmm1m2s = []\n",
    "for m in range(len(Xs)-2):\n",
    "    Pmm1  = lambda x: ((x - Xs[m+1]) * Ys[m  ] + (Xs[m  ] - x) * Ys[m+1]) / (Xs[m  ] - Xs[m+1])\n",
    "    Pm1m2 = lambda x: ((x - Xs[m+2]) * Ys[m+1] + (Xs[m+1] - x) * Ys[m+2]) / (Xs[m+1] - Xs[m+2])\n",
    "    Pmm1m2s.append(\n",
    "        lambda x: ((x - Xs[m+2]) * Pmm1(x) + (Xs[m] - x) * Pm1m2(x)) / (Xs[m] - Xs[m+2])\n",
    "    )"
   ]
  },
  {
   "cell_type": "code",
   "execution_count": null,
   "id": "39",
   "metadata": {},
   "outputs": [],
   "source": [
    "plt.scatter(Xs, Ys, marker='o', color='C0', label=r'$P_m$: polynomials with 0 degree')\n",
    "\n",
    "label = r'$P_{m,m+1}$: polynomials with 1 degree'\n",
    "for m, Pmm1 in enumerate(Pmm1s[:-1]):\n",
    "    xs = np.linspace(Xs[m], Xs[m+1], 100)\n",
    "    ys = Pmm1(xs)\n",
    "    plt.plot(xs, ys, color='C1', label=label)\n",
    "    label = None\n",
    "\n",
    "label = r'$P_{m,m+1,m+2}$: polynomials with 2 degree'\n",
    "for m, Pmm1m2 in enumerate(Pmm1m2s):\n",
    "    xs = np.linspace(Xs[m], Xs[m+1], 100)\n",
    "    ys = Pmm1m2(xs)\n",
    "    plt.plot(xs, ys, ':', color='C2', label=label)\n",
    "    label = None\n",
    "\n",
    "plt.xlim(-0.5, 0.5)\n",
    "plt.ylim( 0.9, 1.05)\n",
    "plt.legend()"
   ]
  },
  {
   "cell_type": "markdown",
   "id": "40",
   "metadata": {},
   "source": [
    "4. Doing this recursively, we obtain Neville's algorithm, equation (3.2.3) in Numerical Recipes:\n",
    "   \\begin{align}\n",
    "   P_{m,m+1,\\dots,m+n} &= \\frac{(x - x_{m+n})P_{m,m+1,\\dots,m+n-1} + (x_{m} - x)P_{m+1,m+2,\\dots,m+n} }{x_{m} - x_{m+n}}.\n",
    "   \\end{align}"
   ]
  },
  {
   "cell_type": "markdown",
   "id": "41",
   "metadata": {},
   "source": [
    "5. Recalling the **catastrophic cancellation** discussed in [](data.md), given that $P_{m,m+1,\\dots,m+n} - P_{m,m+1,\\dots,m+n-1}$ has the meaning of \"small correction\", it is better to keep track of this small quantities instead of $P_{m,m+1,\\dots,m+n}$ themselves.\n",
    "   Following Numerical Recipes, we define\n",
    "   \\begin{align}\n",
    "   C_{n,m} &\\equiv P_{m,m+1,\\dots,m+n} - P_{m,m+1,\\dots,m+n-1} \\\\\n",
    "   D_{n,m} &\\equiv P_{m,m+1,\\dots,m+n} - P_{m+1,m+2,\\dots,m+n}\n",
    "   \\end{align}\n",
    "   Neville's algorithm can now be rewritten as\n",
    "   \\begin{align}\n",
    "   D_{n+1,m} &= \\frac{x_{m+n+1}-x}{x_m - x_{m+n+1}}(C_{n,m+1} - D_{n,m}) \\\\\n",
    "   C_{n+1,m} &= \\frac{x_{n}-x}{x_m - x_{m+n+1}}(C_{n,m+1} - D_{n,m})\n",
    "   \\end{align}\n",
    "   From this expression, it is now clear that the $C$'s and $D$'s are the corrections that make the interpolation one order higher."
   ]
  },
  {
   "cell_type": "markdown",
   "id": "42",
   "metadata": {},
   "source": [
    "6. The final polynomial $P_{0,1,\\dots,M-1}$ is equal to the sum of *any* $y_i$ plus a set of $C$'s and/or $D$'s that form a path through the family tree of $P_{m,m+1,\\dots,m+n}$."
   ]
  },
  {
   "cell_type": "code",
   "execution_count": null,
   "id": "43",
   "metadata": {},
   "outputs": [],
   "source": [
    "class PolynomialInterpolator:\n",
    "    def __init__(self, xs, ys, n=None):\n",
    "        if n is None:\n",
    "            n = len(xs)\n",
    "\n",
    "        assert len(xs) == len(ys)\n",
    "        assert len(xs) >= n\n",
    "\n",
    "        self.xs, self.ys, self.n = xs, ys, n\n",
    "\n",
    "    def __call__(self, target, search_method='hunt'):\n",
    "\n",
    "        C = np.copy(self.ys)\n",
    "        D = np.copy(self.ys)\n",
    "\n",
    "        i = np.argmin(abs(self.xs - target))\n",
    "        y = self.ys[i]\n",
    "        i-= 1\n",
    "\n",
    "        for n in range(1,self.n):\n",
    "            ho  = self.xs[:-n] - target\n",
    "            hp  = self.xs[+n:] - target\n",
    "            w   = C[1:self.n-n+1] - D[:-n]\n",
    "            den = ho - hp\n",
    "            if any(den == 0):\n",
    "                raise Exception(\"two input xs are (to within roundoﬀ) identical.\")\n",
    "            else:\n",
    "                f = w / den\n",
    "            D[:-n] = hp * f\n",
    "            C[:-n] = ho * f\n",
    "\n",
    "            if 2*(i+1) < (self.n-n):\n",
    "                self.dy = C[i+1]\n",
    "            else:\n",
    "                self.dy = D[i]\n",
    "                i -= 1\n",
    "\n",
    "            y += self.dy\n",
    "\n",
    "        return y"
   ]
  },
  {
   "cell_type": "code",
   "execution_count": null,
   "id": "44",
   "metadata": {},
   "outputs": [],
   "source": [
    "Xs = np.linspace(-1,1,21)\n",
    "#Xs = np.linspace(-5,5,21)\n",
    "#Xs = -5 * np.cos(np.linspace(0, np.pi, 21))\n",
    "Ys = np.exp(-0.5 * Xs*Xs)\n",
    "P = PolynomialInterpolator(Xs, Ys)\n",
    "\n",
    "xs = np.linspace(-1,1,201)\n",
    "#xs = np.linspace(-5,5,201)\n",
    "ys = []\n",
    "es = []\n",
    "for x in xs:\n",
    "    ys.append(P(x))\n",
    "    es.append(P.dy)\n",
    "ys = np.array(ys)\n",
    "es = np.array(es)\n",
    "\n",
    "fig, axes = plt.subplots(2,1,figsize=(8,6))\n",
    "axes[0].scatter(Xs, Ys)\n",
    "axes[0].plot(xs, ys, '-', color='r')\n",
    "axes[1].semilogy(xs, abs(es))"
   ]
  },
  {
   "cell_type": "markdown",
   "id": "45",
   "metadata": {},
   "source": [
    "### Discussion\n",
    "\n",
    "* How does the error converge if we increase (or decrease) the number of sampling points?\n",
    "* What will happen if we increase the size of the domain?  (This is called Runge phenomenon.)\n",
    "* What will happen if we try to extrapolate?"
   ]
  },
  {
   "cell_type": "markdown",
   "id": "46",
   "metadata": {},
   "source": [
    "## Summary\n",
    "\n",
    "In this lecture, we studied interpolation techniques, focusing on polynomial interpolation.\n",
    "We derive and implemented Neville's Algorithm, a recursive method that constructs an interpolating polynomial while also providing an internal error estimate.\n",
    "This technique offers insight into the stability of interpolation at specific points, making it particularly useful for small datasets.\n",
    "\n",
    "However, polynomial interpolation is not always the best choice, especially for large datasets or unevenly spaced data.\n",
    "Alternative techniques such as cubic splines, rational function interpolation, and multidimensional interpolation provide more robust and flexible approaches.\n",
    "\n",
    "For further study, we recommend exploring:\n",
    "\n",
    "* Cubic Spline Interpolation: A method that ensures smoothness across intervals, mitigating oscillatory behavior.\n",
    "\n",
    "* Rational Function Interpolation: A technique that models asymptotic behavior effectively, reducing instability.\n",
    "\n",
    "* Interpolating Polynomial Coefficients: A computationally efficient way to determine polynomial coefficients directly.\n",
    "\n",
    "* Multidimensional Interpolation: Methods for interpolating data in multiple dimensions, applicable to spatial data analysis.\n",
    "\n",
    "* Laplace Interpolation: A specialized approach for interpolating harmonic functions using Laplace’s equation.\n",
    "\n",
    "Understanding these advanced methods can help address the challenges posed by polynomial interpolation and extend its practical applications to more complex interpolation problems."
   ]
  }
 ],
 "metadata": {
  "kernelspec": {
   "display_name": "Python 3 (ipykernel)",
   "language": "python",
   "name": "python3"
  },
  "language_info": {
   "codemirror_mode": {
    "name": "ipython",
    "version": 3
   },
   "file_extension": ".py",
   "mimetype": "text/x-python",
   "name": "python",
   "nbconvert_exporter": "python",
   "pygments_lexer": "ipython3",
   "version": "3.12.6"
  }
 },
 "nbformat": 4,
 "nbformat_minor": 5
}
