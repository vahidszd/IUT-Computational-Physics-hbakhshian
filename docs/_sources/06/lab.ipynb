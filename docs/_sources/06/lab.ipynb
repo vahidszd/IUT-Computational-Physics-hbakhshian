{
 "cells": [
  {
   "cell_type": "markdown",
   "id": "0",
   "metadata": {},
   "source": [
    "# Interpolation and Extrapolation Lab"
   ]
  },
  {
   "cell_type": "markdown",
   "id": "1",
   "metadata": {},
   "source": [
    "## Investigating Runge's Phenomenon\n",
    "\n",
    "Polynomial interpolation is a widely used technique to approximate functions by constructing a polynomial that passes through a given set of data points.\n",
    "While this approach is popular, it has limitations, particularly when using high-degree polynomials over evenly spaced points. \n",
    "\n",
    "One of the most famous examples of this limitation is **Runge's Phenomenon**, first observed by Carl Runge.\n",
    "It demonstrates that using evenly spaced interpolation points for high-degree polynomials can lead to large oscillations, particularly near the edges of the interpolation interval.\n",
    "These oscillations become more pronounced as the number of interpolation points increases, making the polynomial approximation unreliable.\n",
    "\n",
    "A key way to mitigate this issue is to use **Chebyshev nodes** instead of evenly spaced nodes.\n",
    "Chebyshev nodes are distributed in such a way that they reduce the maximum error of polynomial interpolation, leading to a more stable and accurate approximation."
   ]
  },
  {
   "cell_type": "markdown",
   "id": "2",
   "metadata": {},
   "source": [
    "### Goals of this Lab\n",
    "\n",
    "1. Understand and visualize **Runge’s Phenomenon** by using polynomial interpolation on equidistant nodes.\n",
    "2. Compare the performance of equidistant nodes with **Chebyshev nodes** to see how they mitigate oscillations.\n",
    "3. Explore how increasing the number of interpolation points affects the approximation."
   ]
  },
  {
   "cell_type": "markdown",
   "id": "3",
   "metadata": {},
   "source": [
    "### Step 1: Define Runge's Function\n",
    "\n",
    "Runge's function is defined as:\n",
    "\\begin{align}\n",
    "f(x) = \\frac{1}{1 + 25x^2}\n",
    "\\end{align}\n",
    "\n",
    "This function is well-behaved within $[-1,1]$, yet when interpolated using high-degree polynomials, it exhibits large oscillations at the edges."
   ]
  },
  {
   "cell_type": "code",
   "execution_count": null,
   "id": "4",
   "metadata": {},
   "outputs": [],
   "source": [
    "import numpy as np\n",
    "import matplotlib.pyplot as plt\n",
    "\n",
    "# Define Runge's function\n",
    "def Runge(x):\n",
    "    # HANDSON: implement Runge's function here\n",
    "\n",
    "# Define dense x values for plotting\n",
    "X = np.linspace(-1, 1, 1001)\n",
    "Y = Runge(X)"
   ]
  },
  {
   "cell_type": "markdown",
   "id": "5",
   "metadata": {},
   "source": [
    "### Step 2: Generate Interpolation Nodes\n",
    "\n",
    "We will generate two sets of interpolation nodes:\n",
    "1. **Equidistant nodes**: Evenly spaced across the interval $[-1,1]$.\n",
    "2. **Chebyshev nodes**: Specially chosen to reduce oscillatory behavior."
   ]
  },
  {
   "cell_type": "code",
   "execution_count": null,
   "id": "6",
   "metadata": {},
   "outputs": [],
   "source": [
    "# Number of interpolation points\n",
    "N = 11\n",
    "\n",
    "# Equidistant nodes\n",
    "Xeq = np.linspace(-1, 1, N)\n",
    "Yeq = Runge(Xeq)\n",
    "\n",
    "# Chebyshev nodes\n",
    "Xch = np.cos((2 * np.arange(N) + 1) / (2 * N) * np.pi)\n",
    "Ych = Runge(Xch)"
   ]
  },
  {
   "cell_type": "markdown",
   "id": "7",
   "metadata": {},
   "source": [
    "### Step 3: Perform Polynomial Interpolation\n",
    "\n",
    "Using Neville's algorithm we developed in `notes.ipynb`, construct polynomials based on the two sets of nodes."
   ]
  },
  {
   "cell_type": "code",
   "execution_count": null,
   "id": "8",
   "metadata": {},
   "outputs": [],
   "source": [
    "# HANDSON: copy and paste PolynomialInterpolator from the notes"
   ]
  },
  {
   "cell_type": "code",
   "execution_count": null,
   "id": "9",
   "metadata": {},
   "outputs": [],
   "source": [
    "Runge_eq = PolynomialInterpolator(Xeq, Yeq)\n",
    "Runge_ch = PolynomialInterpolator(Xch, Ych)"
   ]
  },
  {
   "cell_type": "markdown",
   "id": "10",
   "metadata": {},
   "source": [
    "### Step 4: Visualize the Results\n",
    "\n",
    "Now, we plot the original function along with the interpolated curves."
   ]
  },
  {
   "cell_type": "code",
   "execution_count": null,
   "id": "11",
   "metadata": {},
   "outputs": [],
   "source": [
    "plt.plot(X, Y, 'k-', label=\"True Function\")\n",
    "plt.plot(X, [Runge_eq(x) for x in X], 'r--', label=\"Equidistant Interpolation\")\n",
    "plt.plot(X, [Runge_ch(x) for x in X], 'b-.', label=\"Chebyshev Interpolation\")\n",
    "plt.scatter(Xeq, Yeq, c='r', label=\"Equidistant Nodes\")\n",
    "plt.scatter(Xch, Ych, c='b', label=\"Chebyshev Nodes\")\n",
    "plt.legend()"
   ]
  },
  {
   "cell_type": "markdown",
   "id": "12",
   "metadata": {},
   "source": [
    "### Exploration Questions\n",
    "\n",
    "1. How does the interpolated curve behave near the edges when using equidistant points?\n",
    "2. Why do Chebyshev nodes reduce oscillations compared to equidistant nodes?\n",
    "3. Try increasing `n_points` to 15 or 20. What happens, and why?\n",
    "4. What real-world scenarios might suffer from Runge’s phenomenon? How could we mitigate it?"
   ]
  },
  {
   "cell_type": "markdown",
   "id": "13",
   "metadata": {},
   "source": [
    "## Extrapolation is Difficult\n",
    "\n",
    "Interpolation works well within a known data range, but extrapolation---predicting values beyond that range---can lead to large errors.\n",
    "This lab explores the limitations of extrapolation using polynomials."
   ]
  },
  {
   "cell_type": "code",
   "execution_count": null,
   "id": "14",
   "metadata": {},
   "outputs": [],
   "source": [
    "# Define a function with known behavior outside the range\n",
    "\n",
    "def f(x):\n",
    "    # HANDSON: define, e.g., sin(2 pi x), exp(-x^2/2)"
   ]
  },
  {
   "cell_type": "code",
   "execution_count": null,
   "id": "15",
   "metadata": {},
   "outputs": [],
   "source": [
    "# Sample points in the limited domain used in the previous example\n",
    "\n",
    "Y   = f(X)\n",
    "Yeq = f(Xeq)\n",
    "Ych = f(Xch)"
   ]
  },
  {
   "cell_type": "code",
   "execution_count": null,
   "id": "16",
   "metadata": {},
   "outputs": [],
   "source": [
    "# Use the PolynomialInterpolator class to create interpolator\n",
    "\n",
    "f_eq = ...\n",
    "f_ch = ..."
   ]
  },
  {
   "cell_type": "code",
   "execution_count": null,
   "id": "17",
   "metadata": {},
   "outputs": [],
   "source": [
    "# Extrapolation range\n",
    "\n",
    "Xex = np.linspace(-1.5, 1.5, 1001)\n",
    "Yex = f(Xex)\n",
    "Yex_eq = [f_eq(x) for x in Xex]\n",
    "Yex_ch = [f_ch(x) for x in Xex]"
   ]
  },
  {
   "cell_type": "code",
   "execution_count": null,
   "id": "18",
   "metadata": {},
   "outputs": [],
   "source": [
    "# Plot results\n",
    "\n",
    "plt.plot(Xex, Yex,    'k-',  label=\"True Function\")\n",
    "plt.plot(Xex, Yex_eq, 'r--', label=\"Equidistant Interpolation\")\n",
    "plt.plot(Xex, Yex_ch, 'b-.', label=\"Chebyshev Interpolation\")\n",
    "plt.scatter(Xeq, Yeq, c='r', label=\"Equidistant Nodes\")\n",
    "plt.scatter(Xch, Ych, c='b', label=\"Chebyshev Nodes\")\n",
    "plt.ylim(-5,5)\n",
    "plt.legend()"
   ]
  },
  {
   "cell_type": "markdown",
   "id": "19",
   "metadata": {},
   "source": [
    "### Exploration Questions\n",
    "\n",
    "1. How well does the extrapolated spline match the true function outside the sampled range?\n",
    "2. Try increasing the number of sample points. Does it improve extrapolation?\n",
    "3. What real-world problems could arise due to poor extrapolation behavior?"
   ]
  }
 ],
 "metadata": {
  "kernelspec": {
   "display_name": "Python 3 (ipykernel)",
   "language": "python",
   "name": "python3"
  },
  "language_info": {
   "codemirror_mode": {
    "name": "ipython",
    "version": 3
   },
   "file_extension": ".py",
   "mimetype": "text/x-python",
   "name": "python",
   "nbconvert_exporter": "python",
   "pygments_lexer": "ipython3",
   "version": "3.12.6"
  }
 },
 "nbformat": 4,
 "nbformat_minor": 5
}
