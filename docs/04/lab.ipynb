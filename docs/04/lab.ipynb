{
 "cells": [
  {
   "cell_type": "markdown",
   "id": "0",
   "metadata": {},
   "source": [
    "# Fourier Transform and Spectral Analyses Lab"
   ]
  },
  {
   "cell_type": "markdown",
   "id": "1",
   "metadata": {},
   "source": [
    "## Aliasing Errors\n",
    "\n",
    "Aliasing occurs when a signal is sampled at a rate insufficient to capture its highest frequency components, causing high-frequency components to appear as lower frequencies.\n",
    "In this section, we will demonstrate aliasing and determine the minimum sampling rate needed to avoid it.\n",
    "\n",
    "Setup:\n",
    "1. Generate a sinusoidal signal $s(t) = \\cos(2\\pi t)$.\n",
    "2. Sample the signal at different rates and visualize the effect."
   ]
  },
  {
   "cell_type": "code",
   "execution_count": null,
   "id": "2",
   "metadata": {},
   "outputs": [],
   "source": [
    "from matplotlib import pyplot as plt\n",
    "import numpy as np"
   ]
  },
  {
   "cell_type": "code",
   "execution_count": null,
   "id": "3",
   "metadata": {},
   "outputs": [],
   "source": [
    "t = np.linspace(0, 10, num=2000) # use very high sampling rate to approximate the analytic function\n",
    "s = np.cos(2 * np.pi * t) # periodic is 1\n",
    "plt.plot(t, s, label=r'$\\cos(2\\pi t)$')\n",
    "\n",
    "# HANDSON: write a loop to loop over different sampling rates\n",
    "# for ...:\n",
    "#    t = np.linspace(...)\n",
    "#    s = np.cos(2 * np.pi * t)\n",
    "#    plt.plot(t, s, label=...)\n",
    "\n",
    "plt.xlabel('Time (s)')\n",
    "plt.ylabel('Amplitude')\n",
    "plt.legend()"
   ]
  },
  {
   "cell_type": "markdown",
   "id": "4",
   "metadata": {},
   "source": [
    "`````{exercise}\n",
    "From the figure, determine the minimal number of sampling points required per period to capture the correct frequency of the signal.\n",
    "\n",
    "```\n",
    "HANDSON: Your answer here...\n",
    "```\n",
    "`````"
   ]
  },
  {
   "cell_type": "markdown",
   "id": "5",
   "metadata": {},
   "source": [
    "## Spectral Filtering\n",
    "\n",
    "Spectral filtering involves transforming a signal into the frequency domain, modifying specific frequency components (e.g., removing noise), and transforming it back to the time domain.\n",
    "\n",
    "In this section, we will implement a low-pass filter.\n",
    "Setup:\n",
    "1. Generate a noisy sinusoidal signal.\n",
    "2. Transform the signal into the frequency domain using the Fast Fourier Transform (FFT).\n",
    "3. Apply a low-pass filter to remove high-frequency noise.\n",
    "4. Transform the filtered signal back to the time domain."
   ]
  },
  {
   "cell_type": "code",
   "execution_count": null,
   "id": "6",
   "metadata": {},
   "outputs": [],
   "source": [
    "t = np.linspace(0, 10, num=2000) # use very high sampling rate to approximate the analytic function\n",
    "s = np.cos(2 * np.pi * t) # periodic is 1\n",
    "\n",
    "# Add noise\n",
    "noisy = s + np.random.normal(size=t.shape)\n",
    "\n",
    "# Visualize the signal with noise\n",
    "plt.figure(figsize=(10, 5))\n",
    "plt.plot(t, noisy)\n",
    "plt.xlabel('Time (s)')\n",
    "plt.ylabel('Amplitude')"
   ]
  },
  {
   "cell_type": "code",
   "execution_count": null,
   "id": "7",
   "metadata": {},
   "outputs": [],
   "source": [
    "# Fourier Transform\n",
    "f = np.fft.fftfreq(len(t), d=t[1])\n",
    "Noisy = np.fft.fft(noisy)\n",
    "Power = abs(Noisy[:len(t)//2])**2\n",
    "\n",
    "plt.figure(figsize=(10, 5))\n",
    "plt.loglog(f[:len(t)//2], Power)\n",
    "plt.xlabel('Frequency (Hz)')\n",
    "plt.ylabel('Power')"
   ]
  },
  {
   "cell_type": "code",
   "execution_count": null,
   "id": "8",
   "metadata": {},
   "outputs": [],
   "source": [
    "# HANDSON: implement a low pass filter\n",
    "...\n",
    "\n",
    "# and inverse Fourier transform\n",
    "filtered = ..."
   ]
  },
  {
   "cell_type": "code",
   "execution_count": null,
   "id": "9",
   "metadata": {},
   "outputs": [],
   "source": [
    "plt.figure(figsize=(10, 5))\n",
    "plt.plot(t, noisy, label='Noisy Signal', alpha=0.7)\n",
    "if filtered is not ...:\n",
    "    plt.plot(t, filtered, label='Filtered Signal', linewidth=2)\n",
    "plt.xlabel('Time (s)')\n",
    "plt.ylabel('Amplitude')\n",
    "plt.legend()"
   ]
  }
 ],
 "metadata": {
  "kernelspec": {
   "display_name": "Python 3 (ipykernel)",
   "language": "python",
   "name": "python3"
  },
  "language_info": {
   "codemirror_mode": {
    "name": "ipython",
    "version": 3
   },
   "file_extension": ".py",
   "mimetype": "text/x-python",
   "name": "python",
   "nbconvert_exporter": "python",
   "pygments_lexer": "ipython3",
   "version": "3.12.6"
  }
 },
 "nbformat": 4,
 "nbformat_minor": 5
}
